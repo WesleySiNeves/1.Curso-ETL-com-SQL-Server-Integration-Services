{
    "cells": [
        {
            "attachments": {},
            "cell_type": "markdown",
            "metadata": {
                "azdata_cell_guid": "3d326631-b4e3-4d3e-9d53-e632c690cc60"
            },
            "source": [
                "## Seleciona o  banco de dados"
            ]
        },
        {
            "cell_type": "code",
            "execution_count": 1,
            "metadata": {
                "azdata_cell_guid": "de4a1d9a-fd4f-4b01-9e68-1c3b8da4afc6",
                "language": "sql"
            },
            "outputs": [
                {
                    "data": {
                        "text/html": [
                            "Commands completed successfully."
                        ]
                    },
                    "metadata": {},
                    "output_type": "display_data"
                },
                {
                    "data": {
                        "text/html": [
                            "Total execution time: 00:00:00.006"
                        ]
                    },
                    "metadata": {},
                    "output_type": "display_data"
                }
            ],
            "source": [
                "Use PortalVendas"
            ]
        },
        {
            "attachments": {},
            "cell_type": "markdown",
            "metadata": {
                "azdata_cell_guid": "209c877a-99a2-4bee-818c-15c2d1c14376",
                "language": "sql"
            },
            "source": [
                "## \n",
                "\n",
                "1. 2\\. Criaçao do usuario que vamos conectar no SSIS"
            ]
        },
        {
            "cell_type": "code",
            "execution_count": null,
            "metadata": {
                "azdata_cell_guid": "822e412d-a452-48b2-84a4-0f599c4916f8",
                "language": "sql"
            },
            "outputs": [],
            "source": [
                "USE PortalVendas\n",
                "\n",
                " CREATE USER [operador] WITH PASSWORD = 'Qu6_S3nh@_Ch@T@';\n",
                " ALTER ROLE db_datareader ADD MEMBER [operador];\n",
                " ALTER ROLE db_datawriter ADD MEMBER [operador];\n",
                " ALTER ROLE db_ddladmin ADD MEMBER [operador];\n",
                " \n",
                " GRANT EXECUTE TO [operador];"
            ]
        },
        {
            "attachments": {},
            "cell_type": "markdown",
            "metadata": {
                "azdata_cell_guid": "3f57deaa-6138-4c0e-96bd-9647ba5642ee",
                "language": "sql"
            },
            "source": [
                "Se der erro acima , precisamos configurar o banco de dados para aceitar criaçao de usuarios"
            ]
        },
        {
            "cell_type": "code",
            "execution_count": 9,
            "metadata": {
                "azdata_cell_guid": "88d3ec03-f3be-49da-a133-cf1e4813f789",
                "language": "sql"
            },
            "outputs": [
                {
                    "data": {
                        "text/html": [
                            "Checking identity information: current identity value '20'."
                        ]
                    },
                    "metadata": {},
                    "output_type": "display_data"
                },
                {
                    "data": {
                        "text/html": [
                            "DBCC execution completed. If DBCC printed error messages, contact your system administrator."
                        ]
                    },
                    "metadata": {},
                    "output_type": "display_data"
                },
                {
                    "data": {
                        "text/html": [
                            "Checking identity information: current identity value '14'."
                        ]
                    },
                    "metadata": {},
                    "output_type": "display_data"
                },
                {
                    "data": {
                        "text/html": [
                            "DBCC execution completed. If DBCC printed error messages, contact your system administrator."
                        ]
                    },
                    "metadata": {},
                    "output_type": "display_data"
                },
                {
                    "data": {
                        "text/html": [
                            "Checking identity information: current identity value '19'."
                        ]
                    },
                    "metadata": {},
                    "output_type": "display_data"
                },
                {
                    "data": {
                        "text/html": [
                            "DBCC execution completed. If DBCC printed error messages, contact your system administrator."
                        ]
                    },
                    "metadata": {},
                    "output_type": "display_data"
                },
                {
                    "data": {
                        "text/html": [
                            "Checking identity information: current identity value '8'."
                        ]
                    },
                    "metadata": {},
                    "output_type": "display_data"
                },
                {
                    "data": {
                        "text/html": [
                            "DBCC execution completed. If DBCC printed error messages, contact your system administrator."
                        ]
                    },
                    "metadata": {},
                    "output_type": "display_data"
                },
                {
                    "data": {
                        "text/html": [
                            "Checking identity information: current identity value '4'."
                        ]
                    },
                    "metadata": {},
                    "output_type": "display_data"
                },
                {
                    "data": {
                        "text/html": [
                            "DBCC execution completed. If DBCC printed error messages, contact your system administrator."
                        ]
                    },
                    "metadata": {},
                    "output_type": "display_data"
                },
                {
                    "data": {
                        "text/html": [
                            "Checking identity information: current identity value '10'."
                        ]
                    },
                    "metadata": {},
                    "output_type": "display_data"
                },
                {
                    "data": {
                        "text/html": [
                            "DBCC execution completed. If DBCC printed error messages, contact your system administrator."
                        ]
                    },
                    "metadata": {},
                    "output_type": "display_data"
                },
                {
                    "data": {
                        "text/html": [
                            "Total execution time: 00:00:00.004"
                        ]
                    },
                    "metadata": {},
                    "output_type": "display_data"
                }
            ],
            "source": [
                "EXEC sp_configure 'CONTAINED DATABASE AUTHENTICATION'\n",
                "\n",
                "USE [master]\n",
                "GO\n",
                "ALTER DATABASE [DWVendas] SET CONTAINMENT = PARTIAL\n",
                "GO\n",
                "\n"
            ]
        },
        {
            "attachments": {},
            "cell_type": "markdown",
            "metadata": {
                "azdata_cell_guid": "cc718851-1e92-4324-b9b8-6135d239f1ce"
            },
            "source": [
                "## Recuperar os dados da tabela de categorias"
            ]
        },
        {
            "cell_type": "code",
            "execution_count": 7,
            "metadata": {
                "azdata_cell_guid": "48de863a-073d-48f6-a311-74b1b154ceaa",
                "language": "sql"
            },
            "outputs": [
                {
                    "data": {
                        "text/html": [
                            "(5 rows affected)"
                        ]
                    },
                    "metadata": {},
                    "output_type": "display_data"
                },
                {
                    "data": {
                        "text/html": [
                            "Total execution time: 00:00:00.007"
                        ]
                    },
                    "metadata": {},
                    "output_type": "display_data"
                },
                {
                    "data": {
                        "application/vnd.dataresource+json": {
                            "data": [
                                {
                                    "IdCategoria": "6",
                                    "Nome": "Eletronicos"
                                },
                                {
                                    "IdCategoria": "7",
                                    "Nome": "Livros"
                                },
                                {
                                    "IdCategoria": "8",
                                    "Nome": "Roupas"
                                },
                                {
                                    "IdCategoria": "9",
                                    "Nome": "MÃ³veis"
                                },
                                {
                                    "IdCategoria": "10",
                                    "Nome": "Brinquedos"
                                }
                            ],
                            "schema": {
                                "fields": [
                                    {
                                        "name": "IdCategoria"
                                    },
                                    {
                                        "name": "Nome"
                                    }
                                ]
                            }
                        },
                        "text/html": [
                            "<table><tr><th>IdCategoria</th><th>Nome</th></tr><tr><td>6</td><td>Eletronicos</td></tr><tr><td>7</td><td>Livros</td></tr><tr><td>8</td><td>Roupas</td></tr><tr><td>9</td><td>MÃ³veis</td></tr><tr><td>10</td><td>Brinquedos</td></tr></table>"
                        ]
                    },
                    "execution_count": 7,
                    "metadata": {},
                    "output_type": "execute_result"
                }
            ],
            "source": [
                "\n",
                "SELECT * from  Cadastro.Categorias"
            ]
        },
        {
            "attachments": {},
            "cell_type": "markdown",
            "metadata": {
                "azdata_cell_guid": "955f1885-8084-4232-a228-591f072a8369"
            },
            "source": [
                "## \n",
                "\n",
                "1. Script de limpeza do banco de dados"
            ]
        },
        {
            "cell_type": "code",
            "execution_count": 8,
            "metadata": {
                "azdata_cell_guid": "979a41fe-f09b-4b14-98b9-4c3f256c4886",
                "language": "sql"
            },
            "outputs": [
                {
                    "data": {
                        "text/html": [
                            "(0 rows affected)"
                        ]
                    },
                    "metadata": {},
                    "output_type": "display_data"
                },
                {
                    "data": {
                        "text/html": [
                            "(0 rows affected)"
                        ]
                    },
                    "metadata": {},
                    "output_type": "display_data"
                },
                {
                    "data": {
                        "text/html": [
                            "(0 rows affected)"
                        ]
                    },
                    "metadata": {},
                    "output_type": "display_data"
                },
                {
                    "data": {
                        "text/html": [
                            "(0 rows affected)"
                        ]
                    },
                    "metadata": {},
                    "output_type": "display_data"
                },
                {
                    "data": {
                        "text/html": [
                            "(0 rows affected)"
                        ]
                    },
                    "metadata": {},
                    "output_type": "display_data"
                },
                {
                    "data": {
                        "text/html": [
                            "(5 rows affected)"
                        ]
                    },
                    "metadata": {},
                    "output_type": "display_data"
                },
                {
                    "data": {
                        "text/html": [
                            "Total execution time: 00:00:00.007"
                        ]
                    },
                    "metadata": {},
                    "output_type": "display_data"
                }
            ],
            "source": [
                "delete from  Cadastro.OrdensDetalhes\n",
                "delete from  Cadastro.Ordens\n",
                "delete from Cadastro.Produtos\n",
                "delete from Cadastro.Lojas\n",
                "delete from Cadastro.Funcionarios\n",
                "delete from Cadastro.Categorias\n",
                "\n",
                "DBCC CHECKIDENT ('Cadastro.OrdensDetalhes',RESEED,0)\n",
                "DBCC CHECKIDENT ('Cadastro.Ordens',RESEED,0)\n",
                "DBCC CHECKIDENT ('Cadastro.Produtos',RESEED,0)\n",
                "DBCC CHECKIDENT ('Cadastro.Lojas',RESEED,0)\n",
                "DBCC CHECKIDENT ('Cadastro.Funcionarios',RESEED,0)\n",
                "DBCC CHECKIDENT ('Cadastro.Categorias',RESEED,0)\n"
            ]
        },
        {
            "attachments": {},
            "cell_type": "markdown",
            "metadata": {
                "azdata_cell_guid": "0a49e165-c760-46ad-86ea-c44066cdf1cd",
                "language": "sql"
            },
            "source": [
                "Ao rodar o Job , se der erro  de code page , deve fazer essas alteraçoes aqui  \n",
                "  \n",
                "https://stackoverflow.com/questions/52360260/sql-server-the-column-cannot-be-processed-because-more-than-1-code-page-65001-a"
            ]
        }
    ],
    "metadata": {
        "kernelspec": {
            "display_name": "SQL",
            "language": "sql",
            "name": "SQL"
        },
        "language_info": {
            "name": "sql",
            "version": ""
        }
    },
    "nbformat": 4,
    "nbformat_minor": 2
}
