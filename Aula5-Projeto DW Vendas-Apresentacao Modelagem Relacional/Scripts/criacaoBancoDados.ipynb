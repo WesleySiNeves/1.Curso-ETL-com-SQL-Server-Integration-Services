{
    "cells": [
        {
            "attachments": {},
            "cell_type": "markdown",
            "metadata": {
                "azdata_cell_guid": "61cdc64d-87ef-420f-8fb6-f1e11f275e04"
            },
            "source": [
                "# Criação do banco de dados"
            ]
        },
        {
            "cell_type": "code",
            "execution_count": 1,
            "metadata": {
                "azdata_cell_guid": "af06fa40-153a-4402-a38d-bed63196d0d9",
                "language": "sql"
            },
            "outputs": [
                {
                    "data": {
                        "text/html": [
                            "Commands completed successfully."
                        ]
                    },
                    "metadata": {},
                    "output_type": "display_data"
                },
                {
                    "data": {
                        "text/html": [
                            "Total execution time: 00:00:00.117"
                        ]
                    },
                    "metadata": {},
                    "output_type": "display_data"
                }
            ],
            "source": [
                "CREATE DATABASE [PortalVendas]"
            ]
        },
        {
            "attachments": {},
            "cell_type": "markdown",
            "metadata": {
                "azdata_cell_guid": "3742ada0-dde2-4898-b4be-48abe30e8149"
            },
            "source": [
                "# \n",
                "\n",
                "2. Conectar no banco de dados"
            ]
        },
        {
            "cell_type": "code",
            "execution_count": 2,
            "metadata": {
                "azdata_cell_guid": "b332ca62-ec74-4450-a608-610068703a75",
                "language": "sql"
            },
            "outputs": [
                {
                    "data": {
                        "text/html": [
                            "Commands completed successfully."
                        ]
                    },
                    "metadata": {},
                    "output_type": "display_data"
                },
                {
                    "data": {
                        "text/html": [
                            "Total execution time: 00:00:00.001"
                        ]
                    },
                    "metadata": {},
                    "output_type": "display_data"
                }
            ],
            "source": [
                "Use PortalVendas"
            ]
        },
        {
            "attachments": {},
            "cell_type": "markdown",
            "metadata": {
                "azdata_cell_guid": "e3079365-5694-485c-ad4d-a5169ab1756b",
                "language": "sql"
            },
            "source": [
                "# 3) Vamos criar dois Schemas"
            ]
        },
        {
            "cell_type": "code",
            "execution_count": 3,
            "metadata": {
                "azdata_cell_guid": "76401e70-53bf-4582-8225-feb24ca71834",
                "language": "sql"
            },
            "outputs": [
                {
                    "data": {
                        "text/html": [
                            "Commands completed successfully."
                        ]
                    },
                    "metadata": {},
                    "output_type": "display_data"
                },
                {
                    "data": {
                        "text/html": [
                            "Total execution time: 00:00:00.001"
                        ]
                    },
                    "metadata": {},
                    "output_type": "display_data"
                }
            ],
            "source": [
                "Create Schema Cadastro\n",
                "\n"
            ]
        },
        {
            "cell_type": "code",
            "execution_count": 4,
            "metadata": {
                "azdata_cell_guid": "4c60a6b1-6c55-4581-9d7d-29db1fcb3b09",
                "language": "sql"
            },
            "outputs": [
                {
                    "data": {
                        "text/html": [
                            "Commands completed successfully."
                        ]
                    },
                    "metadata": {},
                    "output_type": "display_data"
                },
                {
                    "data": {
                        "text/html": [
                            "Total execution time: 00:00:00"
                        ]
                    },
                    "metadata": {},
                    "output_type": "display_data"
                }
            ],
            "source": [
                "Create Schema Vendas"
            ]
        },
        {
            "attachments": {},
            "cell_type": "markdown",
            "metadata": {
                "azdata_cell_guid": "862f4ce7-be3b-411f-9318-49524daad480",
                "language": "sql"
            },
            "source": [
                "3) Criar a tabela de categorias"
            ]
        },
        {
            "cell_type": "code",
            "execution_count": 3,
            "metadata": {
                "azdata_cell_guid": "f5e10545-0a6b-4775-91e3-703500362899",
                "language": "sql"
            },
            "outputs": [
                {
                    "data": {
                        "text/html": [
                            "Commands completed successfully."
                        ]
                    },
                    "metadata": {},
                    "output_type": "display_data"
                },
                {
                    "data": {
                        "text/html": [
                            "Total execution time: 00:00:00.002"
                        ]
                    },
                    "metadata": {},
                    "output_type": "display_data"
                }
            ],
            "source": [
                "CREATE TABLE [Cadastro].[Categorias]\n",
                "(\n",
                "\t[IdCategoria] [int] NOT NULL Identity(1,1),\n",
                "\t[Nome] [varchar](100) NULL,\n",
                "\n",
                "\tConstraint PK_CadastroCategorias Primary key(IdCategoria)\n",
                ") ON [PRIMARY]"
            ]
        },
        {
            "attachments": {},
            "cell_type": "markdown",
            "metadata": {
                "azdata_cell_guid": "d47e3907-15ff-468f-babc-373233e380a8",
                "language": "sql"
            },
            "source": [
                "4)Criar a tabela de Clientes"
            ]
        },
        {
            "cell_type": "code",
            "execution_count": 13,
            "metadata": {
                "azdata_cell_guid": "f7321dbe-977b-4b16-b7bc-9fd02dd9d761",
                "language": "sql"
            },
            "outputs": [
                {
                    "data": {
                        "text/html": [
                            "Commands completed successfully."
                        ]
                    },
                    "metadata": {},
                    "output_type": "display_data"
                },
                {
                    "data": {
                        "text/html": [
                            "Total execution time: 00:00:00.002"
                        ]
                    },
                    "metadata": {},
                    "output_type": "display_data"
                }
            ],
            "source": [
                "\n",
                "CREATE TABLE [Cadastro].[Clientes](\n",
                "\t[IdCliente] [int] NOT NULL Identity(1,1),\n",
                "\t[Nome] [varchar](50) NULL,\n",
                "\t[Email] [varchar](50) NULL,\n",
                "\t[Telefone] [varchar](50) NULL\n",
                "\n",
                "\tConstraint PK_CadastroClientes Primary key([IdCliente])\n",
                ") ON [PRIMARY]\n"
            ]
        },
        {
            "attachments": {},
            "cell_type": "markdown",
            "metadata": {
                "azdata_cell_guid": "9eb16a4f-8b48-406b-8343-1138b01d7de5",
                "language": "sql"
            },
            "source": [
                "5) Cria a tabela de funcionarios"
            ]
        },
        {
            "cell_type": "code",
            "execution_count": 15,
            "metadata": {
                "azdata_cell_guid": "901eebac-5409-43b4-b20a-f77411c1be08",
                "language": "sql"
            },
            "outputs": [
                {
                    "data": {
                        "text/html": [
                            "Commands completed successfully."
                        ]
                    },
                    "metadata": {},
                    "output_type": "display_data"
                },
                {
                    "data": {
                        "text/html": [
                            "Total execution time: 00:00:00.003"
                        ]
                    },
                    "metadata": {},
                    "output_type": "display_data"
                }
            ],
            "source": [
                "CREATE TABLE [Cadastro].[Funcionarios](\n",
                "\t[IdFuncionario] [int] NOT NULL Identity(1,1),\n",
                "\t[Nome] [varchar](50) NULL,\n",
                "\t[Cargo] [varchar](50) NULL,\n",
                "\t[Salario] decimal(10,2) NULL\n",
                "\n",
                "\tConstraint PK_CadastroFuncionario Primary key([IdFuncionario])\n",
                ") ON [PRIMARY]\n"
            ]
        },
        {
            "cell_type": "markdown",
            "metadata": {},
            "source": [
                "## Criação da tabela de Produtos"
            ]
        },
        {
            "cell_type": "code",
            "execution_count": null,
            "metadata": {},
            "outputs": [],
            "source": [
                "CREATE TABLE [Cadastro].[Produtos](\n",
                "\t[IdProduto] [int] NOT NULL Identity(1,1),\n",
                "\t[Nome] [varchar](50) NULL,\n",
                "    [Preco] decimal(10,2) NULL,\n",
                "    [IdCategoria] [int] NOT NULL ,\n",
                "\t[Estoque] int  NOT NULL,\n",
                "\t\n",
                "\n",
                "\tConstraint PK_CadastroIdProduto Primary key([IdProduto])\n",
                ") ON [PRIMARY]\n"
            ]
        },
        {
            "attachments": {},
            "cell_type": "markdown",
            "metadata": {
                "azdata_cell_guid": "d81dcc32-ef99-45be-9959-cc204db5606d",
                "language": "sql"
            },
            "source": [
                "6.Cria tabelas de Lojas"
            ]
        },
        {
            "cell_type": "code",
            "execution_count": 16,
            "metadata": {
                "azdata_cell_guid": "38a396c4-c89d-4e3e-aacb-28c9f79ff438",
                "language": "sql"
            },
            "outputs": [
                {
                    "data": {
                        "text/html": [
                            "Commands completed successfully."
                        ]
                    },
                    "metadata": {},
                    "output_type": "display_data"
                },
                {
                    "data": {
                        "text/html": [
                            "Total execution time: 00:00:00.008"
                        ]
                    },
                    "metadata": {},
                    "output_type": "display_data"
                }
            ],
            "source": [
                "CREATE TABLE [Cadastro].[Lojas](\n",
                "\t[Idloja] [int] NOT NULL Identity(1,1),\n",
                "\t[Nome] [varchar](50) NULL,\n",
                "\t[Endereco] [varchar](50) NULL,\n",
                "\t[Telefone][varchar](20) NULL\n",
                "\n",
                "\tConstraint PK_CadastroLoja Primary key([Idloja])\n",
                ") ON [PRIMARY]\n"
            ]
        },
        {
            "attachments": {},
            "cell_type": "markdown",
            "metadata": {
                "azdata_cell_guid": "fcd2aece-9d79-45ec-8878-8a215a9e8c87",
                "language": "sql"
            },
            "source": [
                "# \\## Criação de tabelas Ordens"
            ]
        },
        {
            "cell_type": "code",
            "execution_count": 1,
            "metadata": {
                "azdata_cell_guid": "49393f13-06de-4532-bdcb-b06487121ce3",
                "language": "sql"
            },
            "outputs": [
                {
                    "data": {
                        "text/html": [
                            "Commands completed successfully."
                        ]
                    },
                    "metadata": {},
                    "output_type": "display_data"
                },
                {
                    "data": {
                        "text/html": [
                            "Total execution time: 00:00:00.008"
                        ]
                    },
                    "metadata": {},
                    "output_type": "display_data"
                }
            ],
            "source": [
                "CREATE TABLE [Cadastro].[Ordens](\n",
                "\t[IdOrdem] [int] NOT NULL Identity(1,1),\n",
                "    [IdCiente] [int] NOT NULL ,\n",
                "    [IdFuncionario] [int] NOT NULL ,\n",
                "    [IdLoja] [int] NOT NULL ,\n",
                "\t[DataOrdem] Date not null,\n",
                "\t[Total] decimal(10,2) NULL\n",
                "\tConstraint PK_CadastroOrdens Primary key([IdOrdem])\n",
                ") ON [PRIMARY]\n"
            ]
        },
        {
            "cell_type": "code",
            "execution_count": 2,
            "metadata": {
                "azdata_cell_guid": "cd1d6f94-8de9-4e83-bb64-16b76cd1522d",
                "language": "sql"
            },
            "outputs": [
                {
                    "data": {
                        "text/html": [
                            "Commands completed successfully."
                        ]
                    },
                    "metadata": {},
                    "output_type": "display_data"
                },
                {
                    "data": {
                        "text/html": [
                            "Total execution time: 00:00:00.002"
                        ]
                    },
                    "metadata": {},
                    "output_type": "display_data"
                }
            ],
            "source": [
                "CREATE TABLE [Cadastro].[OrdensDetails](\n",
                "\t[IdOrdemDetail] [int] NOT NULL Identity(1,1),\n",
                "    [IdOrdem] [int] NOT NULL ,\n",
                "    [IdProduto] [int] NOT NULL ,\n",
                "    [Quantidade] [int] NOT NULL ,\n",
                "    [PrecoUnitario] decimal(10,2) NOT NULL ,\n",
                "\tConstraint PK_CadastroOrdensDetails Primary key([IdOrdemDetail])\n",
                ") ON [PRIMARY]\n"
            ]
        },
        {
            "attachments": {},
            "cell_type": "markdown",
            "metadata": {
                "azdata_cell_guid": "1e192a27-063c-4303-96fc-0c3d2fede5c4",
                "language": "sql"
            },
            "source": [
                "\\## Visualizar dos dados inseridos"
            ]
        },
        {
            "cell_type": "code",
            "execution_count": 12,
            "metadata": {
                "azdata_cell_guid": "70b9597a-1dd9-48a8-a4ac-23911a62ab5e",
                "language": "sql"
            },
            "outputs": [
                {
                    "data": {
                        "text/html": [
                            "(30 rows affected)"
                        ]
                    },
                    "metadata": {},
                    "output_type": "display_data"
                },
                {
                    "data": {
                        "text/html": [
                            "Total execution time: 00:00:00.003"
                        ]
                    },
                    "metadata": {},
                    "output_type": "display_data"
                },
                {
                    "data": {
                        "application/vnd.dataresource+json": {
                            "data": [
                                {
                                    "IdCategoria": "1",
                                    "Nome": "Eletronicos"
                                },
                                {
                                    "IdCategoria": "2",
                                    "Nome": "Livros"
                                },
                                {
                                    "IdCategoria": "3",
                                    "Nome": "Roupas"
                                },
                                {
                                    "IdCategoria": "4",
                                    "Nome": "MÃ³veis"
                                },
                                {
                                    "IdCategoria": "5",
                                    "Nome": "Brinquedos"
                                },
                                {
                                    "IdCategoria": "6",
                                    "Nome": "Ferramentas"
                                },
                                {
                                    "IdCategoria": "7",
                                    "Nome": "Beleza"
                                },
                                {
                                    "IdCategoria": "8",
                                    "Nome": "Esportes"
                                },
                                {
                                    "IdCategoria": "9",
                                    "Nome": "Jardinagem"
                                },
                                {
                                    "IdCategoria": "10",
                                    "Nome": "AutomÃ³veis"
                                },
                                {
                                    "IdCategoria": "11",
                                    "Nome": "MÃºsica"
                                },
                                {
                                    "IdCategoria": "12",
                                    "Nome": "Computadores"
                                },
                                {
                                    "IdCategoria": "13",
                                    "Nome": "BebÃªs"
                                },
                                {
                                    "IdCategoria": "14",
                                    "Nome": "Alimentos"
                                },
                                {
                                    "IdCategoria": "15",
                                    "Nome": "SaÃºde"
                                },
                                {
                                    "IdCategoria": "16",
                                    "Nome": "Pet Shop"
                                },
                                {
                                    "IdCategoria": "17",
                                    "Nome": "Videogames"
                                },
                                {
                                    "IdCategoria": "18",
                                    "Nome": "Joias"
                                },
                                {
                                    "IdCategoria": "19",
                                    "Nome": "Fotografia"
                                },
                                {
                                    "IdCategoria": "20",
                                    "Nome": "Instrumentos Musicais"
                                },
                                {
                                    "IdCategoria": "21",
                                    "Nome": "Papelaria"
                                },
                                {
                                    "IdCategoria": "22",
                                    "Nome": "DecoraÃ§Ã£o"
                                },
                                {
                                    "IdCategoria": "23",
                                    "Nome": "CalÃ§ados"
                                },
                                {
                                    "IdCategoria": "24",
                                    "Nome": "EletrodomÃ©sticos"
                                },
                                {
                                    "IdCategoria": "25",
                                    "Nome": "Casa e Cozinha"
                                },
                                {
                                    "IdCategoria": "26",
                                    "Nome": "Filmes e SÃ©ries"
                                },
                                {
                                    "IdCategoria": "27",
                                    "Nome": "ServiÃ§os"
                                },
                                {
                                    "IdCategoria": "28",
                                    "Nome": "Produtos de Limpeza"
                                },
                                {
                                    "IdCategoria": "29",
                                    "Nome": "Artigos de Viagem"
                                },
                                {
                                    "IdCategoria": "30",
                                    "Nome": "Outros"
                                }
                            ],
                            "schema": {
                                "fields": [
                                    {
                                        "name": "IdCategoria"
                                    },
                                    {
                                        "name": "Nome"
                                    }
                                ]
                            }
                        },
                        "text/html": [
                            "<table><tr><th>IdCategoria</th><th>Nome</th></tr><tr><td>1</td><td>Eletronicos</td></tr><tr><td>2</td><td>Livros</td></tr><tr><td>3</td><td>Roupas</td></tr><tr><td>4</td><td>MÃ³veis</td></tr><tr><td>5</td><td>Brinquedos</td></tr><tr><td>6</td><td>Ferramentas</td></tr><tr><td>7</td><td>Beleza</td></tr><tr><td>8</td><td>Esportes</td></tr><tr><td>9</td><td>Jardinagem</td></tr><tr><td>10</td><td>AutomÃ³veis</td></tr><tr><td>11</td><td>MÃºsica</td></tr><tr><td>12</td><td>Computadores</td></tr><tr><td>13</td><td>BebÃªs</td></tr><tr><td>14</td><td>Alimentos</td></tr><tr><td>15</td><td>SaÃºde</td></tr><tr><td>16</td><td>Pet Shop</td></tr><tr><td>17</td><td>Videogames</td></tr><tr><td>18</td><td>Joias</td></tr><tr><td>19</td><td>Fotografia</td></tr><tr><td>20</td><td>Instrumentos Musicais</td></tr><tr><td>21</td><td>Papelaria</td></tr><tr><td>22</td><td>DecoraÃ§Ã£o</td></tr><tr><td>23</td><td>CalÃ§ados</td></tr><tr><td>24</td><td>EletrodomÃ©sticos</td></tr><tr><td>25</td><td>Casa e Cozinha</td></tr><tr><td>26</td><td>Filmes e SÃ©ries</td></tr><tr><td>27</td><td>ServiÃ§os</td></tr><tr><td>28</td><td>Produtos de Limpeza</td></tr><tr><td>29</td><td>Artigos de Viagem</td></tr><tr><td>30</td><td>Outros</td></tr></table>"
                        ]
                    },
                    "execution_count": 12,
                    "metadata": {},
                    "output_type": "execute_result"
                }
            ],
            "source": [
                "SELECT * from Cadastro.Categorias\n"
            ]
        },
        {
            "cell_type": "code",
            "execution_count": 3,
            "metadata": {
                "azdata_cell_guid": "b59b2f59-3e93-4643-8615-163b986733c6",
                "language": "sql",
                "tags": []
            },
            "outputs": [
                {
                    "data": {
                        "text/html": [
                            "(30 rows affected)"
                        ]
                    },
                    "metadata": {},
                    "output_type": "display_data"
                },
                {
                    "data": {
                        "text/html": [
                            "(30 rows affected)"
                        ]
                    },
                    "metadata": {},
                    "output_type": "display_data"
                },
                {
                    "data": {
                        "text/html": [
                            "(30 rows affected)"
                        ]
                    },
                    "metadata": {},
                    "output_type": "display_data"
                },
                {
                    "data": {
                        "text/html": [
                            "(28 rows affected)"
                        ]
                    },
                    "metadata": {},
                    "output_type": "display_data"
                },
                {
                    "data": {
                        "text/html": [
                            "(106 rows affected)"
                        ]
                    },
                    "metadata": {},
                    "output_type": "display_data"
                },
                {
                    "data": {
                        "text/html": [
                            "(200 rows affected)"
                        ]
                    },
                    "metadata": {},
                    "output_type": "display_data"
                },
                {
                    "data": {
                        "text/html": [
                            "Checking identity information: current identity value '30'."
                        ]
                    },
                    "metadata": {},
                    "output_type": "display_data"
                },
                {
                    "data": {
                        "text/html": [
                            "DBCC execution completed. If DBCC printed error messages, contact your system administrator."
                        ]
                    },
                    "metadata": {},
                    "output_type": "display_data"
                },
                {
                    "data": {
                        "text/html": [
                            "Checking identity information: current identity value '30'."
                        ]
                    },
                    "metadata": {},
                    "output_type": "display_data"
                },
                {
                    "data": {
                        "text/html": [
                            "DBCC execution completed. If DBCC printed error messages, contact your system administrator."
                        ]
                    },
                    "metadata": {},
                    "output_type": "display_data"
                },
                {
                    "data": {
                        "text/html": [
                            "Checking identity information: current identity value '30'."
                        ]
                    },
                    "metadata": {},
                    "output_type": "display_data"
                },
                {
                    "data": {
                        "text/html": [
                            "DBCC execution completed. If DBCC printed error messages, contact your system administrator."
                        ]
                    },
                    "metadata": {},
                    "output_type": "display_data"
                },
                {
                    "data": {
                        "text/html": [
                            "Checking identity information: current identity value '28'."
                        ]
                    },
                    "metadata": {},
                    "output_type": "display_data"
                },
                {
                    "data": {
                        "text/html": [
                            "DBCC execution completed. If DBCC printed error messages, contact your system administrator."
                        ]
                    },
                    "metadata": {},
                    "output_type": "display_data"
                },
                {
                    "data": {
                        "text/html": [
                            "Checking identity information: current identity value '120'."
                        ]
                    },
                    "metadata": {},
                    "output_type": "display_data"
                },
                {
                    "data": {
                        "text/html": [
                            "DBCC execution completed. If DBCC printed error messages, contact your system administrator."
                        ]
                    },
                    "metadata": {},
                    "output_type": "display_data"
                },
                {
                    "data": {
                        "text/html": [
                            "Checking identity information: current identity value '200'."
                        ]
                    },
                    "metadata": {},
                    "output_type": "display_data"
                },
                {
                    "data": {
                        "text/html": [
                            "DBCC execution completed. If DBCC printed error messages, contact your system administrator."
                        ]
                    },
                    "metadata": {},
                    "output_type": "display_data"
                },
                {
                    "data": {
                        "text/html": [
                            "Total execution time: 00:00:00.007"
                        ]
                    },
                    "metadata": {},
                    "output_type": "display_data"
                }
            ],
            "source": [
                "Delete from [Cadastro].[Categorias]\n",
                "Delete from [Cadastro].Clientes\n",
                "Delete from [Cadastro].Funcionarios\n",
                "Delete from [Cadastro].[Lojas]\n",
                "Delete from [Cadastro].[Ordens]\n",
                "Delete from [Cadastro].[Produtos]\n",
                "Delete from [Cadastro].[OrdensDetails]\n",
                "\n",
                "SET IDENTITY_INSERT [Cadastro].[Categorias] OFF;\n",
                "SET IDENTITY_INSERT [Cadastro].Clientes OFF;\n",
                "SET IDENTITY_INSERT [Cadastro].Funcionarios OFF;\n",
                "SET IDENTITY_INSERT [Cadastro].[Lojas] OFF;\n",
                "SET IDENTITY_INSERT [Cadastro].[Produtos] OFF;\n",
                "SET IDENTITY_INSERT [Cadastro].[Ordens] OFF;\n",
                "SET IDENTITY_INSERT [Cadastro].[OrdensDetails] OFF;\n",
                "DBCC CHECKIDENT ('Cadastro.Categorias',RESEED,1);\n",
                "DBCC CHECKIDENT ('Cadastro.Clientes',RESEED,1);\n",
                "DBCC CHECKIDENT ('Cadastro.Funcionarios',RESEED,1);\n",
                "DBCC CHECKIDENT ('Cadastro.Lojas',RESEED,1);\n",
                "DBCC CHECKIDENT ('Cadastro.Ordens',RESEED,1);\n",
                "DBCC CHECKIDENT ('Cadastro.Produtos',RESEED,1);\n",
                "DBCC CHECKIDENT ('Cadastro.OrdensDetails',RESEED,1);\n",
                "\n",
                "\n"
            ]
        }
    ],
    "metadata": {
        "kernelspec": {
            "display_name": "SQL",
            "language": "sql",
            "name": "SQL"
        },
        "language_info": {
            "name": "sql",
            "version": ""
        }
    },
    "nbformat": 4,
    "nbformat_minor": 2
}
