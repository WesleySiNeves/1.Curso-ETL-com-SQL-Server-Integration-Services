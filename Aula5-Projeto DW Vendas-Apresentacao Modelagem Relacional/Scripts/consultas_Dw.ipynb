{
    "metadata": {
        "kernelspec": {
            "name": "SQL",
            "display_name": "SQL",
            "language": "sql"
        },
        "language_info": {
            "name": "sql",
            "version": ""
        }
    },
    "nbformat_minor": 2,
    "nbformat": 4,
    "cells": [
        {
            "cell_type": "code",
            "source": [
                "select * from  [Dimensao].[D_Categorias]"
            ],
            "metadata": {
                "azdata_cell_guid": "e492e7de-5234-480f-abce-9f349fbee120",
                "language": "sql"
            },
            "outputs": [
                {
                    "output_type": "display_data",
                    "data": {
                        "text/html": "(5 rows affected)"
                    },
                    "metadata": {}
                },
                {
                    "output_type": "display_data",
                    "data": {
                        "text/html": "Total execution time: 00:00:00.012"
                    },
                    "metadata": {}
                },
                {
                    "output_type": "execute_result",
                    "execution_count": 3,
                    "data": {
                        "application/vnd.dataresource+json": {
                            "schema": {
                                "fields": [
                                    {
                                        "name": "SK_Categoria"
                                    },
                                    {
                                        "name": "IdCategoria"
                                    },
                                    {
                                        "name": "Nome"
                                    },
                                    {
                                        "name": "DataCriacao"
                                    },
                                    {
                                        "name": "DataAlteracao"
                                    }
                                ]
                            },
                            "data": [
                                {
                                    "SK_Categoria": "1",
                                    "IdCategoria": "1",
                                    "Nome": "Eletronicos",
                                    "DataCriacao": "2024-06-04 17:19:04.00",
                                    "DataAlteracao": "2024-06-04 17:19:04.00"
                                },
                                {
                                    "SK_Categoria": "2",
                                    "IdCategoria": "2",
                                    "Nome": "Livros",
                                    "DataCriacao": "2024-06-04 17:19:04.00",
                                    "DataAlteracao": "2024-06-04 17:19:04.00"
                                },
                                {
                                    "SK_Categoria": "3",
                                    "IdCategoria": "3",
                                    "Nome": "Roupas",
                                    "DataCriacao": "2024-06-04 17:19:04.00",
                                    "DataAlteracao": "2024-06-04 17:19:04.00"
                                },
                                {
                                    "SK_Categoria": "4",
                                    "IdCategoria": "4",
                                    "Nome": "MÃ³veis",
                                    "DataCriacao": "2024-06-04 17:19:04.00",
                                    "DataAlteracao": "2024-06-04 17:19:04.00"
                                },
                                {
                                    "SK_Categoria": "5",
                                    "IdCategoria": "5",
                                    "Nome": "Brinquedos",
                                    "DataCriacao": "2024-06-04 17:19:04.00",
                                    "DataAlteracao": "2024-06-04 17:19:04.00"
                                }
                            ]
                        },
                        "text/html": "<table><tr><th>SK_Categoria</th><th>IdCategoria</th><th>Nome</th><th>DataCriacao</th><th>DataAlteracao</th></tr><tr><td>1</td><td>1</td><td>Eletronicos</td><td>2024-06-04 17:19:04.00</td><td>2024-06-04 17:19:04.00</td></tr><tr><td>2</td><td>2</td><td>Livros</td><td>2024-06-04 17:19:04.00</td><td>2024-06-04 17:19:04.00</td></tr><tr><td>3</td><td>3</td><td>Roupas</td><td>2024-06-04 17:19:04.00</td><td>2024-06-04 17:19:04.00</td></tr><tr><td>4</td><td>4</td><td>MÃ³veis</td><td>2024-06-04 17:19:04.00</td><td>2024-06-04 17:19:04.00</td></tr><tr><td>5</td><td>5</td><td>Brinquedos</td><td>2024-06-04 17:19:04.00</td><td>2024-06-04 17:19:04.00</td></tr></table>"
                    },
                    "metadata": {}
                }
            ],
            "execution_count": 3
        },
        {
            "cell_type": "code",
            "source": [
                "INSERT into [Dimensao].[D_Categorias]\r\n",
                "Values(1,'Teste','2024-05-29 11:39:11.84','2024-05-29 11:39:11.84')"
            ],
            "metadata": {
                "language": "sql",
                "azdata_cell_guid": "74d47f98-f135-4d5d-9971-dcefee111213"
            },
            "outputs": [
                {
                    "output_type": "display_data",
                    "data": {
                        "text/html": "(1 row affected)"
                    },
                    "metadata": {}
                },
                {
                    "output_type": "display_data",
                    "data": {
                        "text/html": "Total execution time: 00:00:00.002"
                    },
                    "metadata": {}
                }
            ],
            "execution_count": 3
        },
        {
            "cell_type": "code",
            "source": [
                "delete from [Fato].Vendas\r\n",
                "delete from [Dimensao].[D_Produtos]\r\n",
                "delete from [Dimensao].[D_Funcionarios]\r\n",
                "delete from [Dimensao].[D_Clientes]\r\n",
                "delete from [Dimensao].[D_Lojas]\r\n",
                "delete from [Dimensao].[D_Categorias]\r\n",
                "DBCC CHECKIDENT ('Dimensao.D_Produtos',RESEED,0)\r\n",
                "DBCC CHECKIDENT ('Dimensao.D_Funcionarios',RESEED,0)\r\n",
                "DBCC CHECKIDENT ('Dimensao.D_Clientes',RESEED,0)\r\n",
                "DBCC CHECKIDENT ('Dimensao.D_Lojas',RESEED,0)\r\n",
                "DBCC CHECKIDENT ('Dimensao.D_Categorias',RESEED,0)\r\n",
                "DBCC CHECKIDENT ('Fato.Vendas',RESEED,0)"
            ],
            "metadata": {
                "language": "sql",
                "azdata_cell_guid": "bc933207-5043-4cea-8368-bfe8c396af69",
                "tags": []
            },
            "outputs": [
                {
                    "output_type": "display_data",
                    "data": {
                        "text/html": "(0 rows affected)"
                    },
                    "metadata": {}
                },
                {
                    "output_type": "display_data",
                    "data": {
                        "text/html": "(0 rows affected)"
                    },
                    "metadata": {}
                },
                {
                    "output_type": "display_data",
                    "data": {
                        "text/html": "(12 rows affected)"
                    },
                    "metadata": {}
                },
                {
                    "output_type": "display_data",
                    "data": {
                        "text/html": "(448 rows affected)"
                    },
                    "metadata": {}
                },
                {
                    "output_type": "display_data",
                    "data": {
                        "text/html": "(8 rows affected)"
                    },
                    "metadata": {}
                },
                {
                    "output_type": "display_data",
                    "data": {
                        "text/html": "(5 rows affected)"
                    },
                    "metadata": {}
                },
                {
                    "output_type": "display_data",
                    "data": {
                        "text/html": "Checking identity information: current identity value '19'."
                    },
                    "metadata": {}
                },
                {
                    "output_type": "display_data",
                    "data": {
                        "text/html": "DBCC execution completed. If DBCC printed error messages, contact your system administrator."
                    },
                    "metadata": {}
                },
                {
                    "output_type": "display_data",
                    "data": {
                        "text/html": "Checking identity information: current identity value '12'."
                    },
                    "metadata": {}
                },
                {
                    "output_type": "display_data",
                    "data": {
                        "text/html": "DBCC execution completed. If DBCC printed error messages, contact your system administrator."
                    },
                    "metadata": {}
                },
                {
                    "output_type": "display_data",
                    "data": {
                        "text/html": "Checking identity information: current identity value '673'."
                    },
                    "metadata": {}
                },
                {
                    "output_type": "display_data",
                    "data": {
                        "text/html": "DBCC execution completed. If DBCC printed error messages, contact your system administrator."
                    },
                    "metadata": {}
                },
                {
                    "output_type": "display_data",
                    "data": {
                        "text/html": "Checking identity information: current identity value '8'."
                    },
                    "metadata": {}
                },
                {
                    "output_type": "display_data",
                    "data": {
                        "text/html": "DBCC execution completed. If DBCC printed error messages, contact your system administrator."
                    },
                    "metadata": {}
                },
                {
                    "output_type": "display_data",
                    "data": {
                        "text/html": "Checking identity information: current identity value '0'."
                    },
                    "metadata": {}
                },
                {
                    "output_type": "display_data",
                    "data": {
                        "text/html": "DBCC execution completed. If DBCC printed error messages, contact your system administrator."
                    },
                    "metadata": {}
                },
                {
                    "output_type": "display_data",
                    "data": {
                        "text/html": "Checking identity information: current identity value 'NULL'."
                    },
                    "metadata": {}
                },
                {
                    "output_type": "display_data",
                    "data": {
                        "text/html": "DBCC execution completed. If DBCC printed error messages, contact your system administrator."
                    },
                    "metadata": {}
                },
                {
                    "output_type": "display_data",
                    "data": {
                        "text/html": "Total execution time: 00:00:00.012"
                    },
                    "metadata": {}
                }
            ],
            "execution_count": 2
        },
        {
            "cell_type": "code",
            "source": [
                "SELECT * from [Dimensao].[D_Categorias]"
            ],
            "metadata": {
                "language": "sql",
                "azdata_cell_guid": "b093f3d1-d5ed-4176-bb0f-b0271cd9d477"
            },
            "outputs": [
                {
                    "output_type": "display_data",
                    "data": {
                        "text/html": "(5 rows affected)"
                    },
                    "metadata": {}
                },
                {
                    "output_type": "display_data",
                    "data": {
                        "text/html": "Total execution time: 00:00:00.006"
                    },
                    "metadata": {}
                },
                {
                    "output_type": "execute_result",
                    "execution_count": 7,
                    "data": {
                        "application/vnd.dataresource+json": {
                            "schema": {
                                "fields": [
                                    {
                                        "name": "SK_Categoria"
                                    },
                                    {
                                        "name": "IdCategoria"
                                    },
                                    {
                                        "name": "Nome"
                                    },
                                    {
                                        "name": "DataCriacao"
                                    },
                                    {
                                        "name": "DataAlteracao"
                                    }
                                ]
                            },
                            "data": [
                                {
                                    "SK_Categoria": "1",
                                    "IdCategoria": "1",
                                    "Nome": "Eletronicos",
                                    "DataCriacao": "2024-06-04 11:02:48.00",
                                    "DataAlteracao": "2024-06-04 11:02:48.00"
                                },
                                {
                                    "SK_Categoria": "2",
                                    "IdCategoria": "2",
                                    "Nome": "Livros",
                                    "DataCriacao": "2024-06-04 11:02:48.00",
                                    "DataAlteracao": "2024-06-04 11:02:48.00"
                                },
                                {
                                    "SK_Categoria": "3",
                                    "IdCategoria": "3",
                                    "Nome": "Roupas",
                                    "DataCriacao": "2024-06-04 11:02:48.00",
                                    "DataAlteracao": "2024-06-04 11:02:48.00"
                                },
                                {
                                    "SK_Categoria": "4",
                                    "IdCategoria": "4",
                                    "Nome": "MÃ³veis",
                                    "DataCriacao": "2024-06-04 11:02:48.00",
                                    "DataAlteracao": "2024-06-04 11:02:48.00"
                                },
                                {
                                    "SK_Categoria": "5",
                                    "IdCategoria": "5",
                                    "Nome": "Brinquedos",
                                    "DataCriacao": "2024-06-04 11:02:48.00",
                                    "DataAlteracao": "2024-06-04 11:02:48.00"
                                }
                            ]
                        },
                        "text/html": "<table><tr><th>SK_Categoria</th><th>IdCategoria</th><th>Nome</th><th>DataCriacao</th><th>DataAlteracao</th></tr><tr><td>1</td><td>1</td><td>Eletronicos</td><td>2024-06-04 11:02:48.00</td><td>2024-06-04 11:02:48.00</td></tr><tr><td>2</td><td>2</td><td>Livros</td><td>2024-06-04 11:02:48.00</td><td>2024-06-04 11:02:48.00</td></tr><tr><td>3</td><td>3</td><td>Roupas</td><td>2024-06-04 11:02:48.00</td><td>2024-06-04 11:02:48.00</td></tr><tr><td>4</td><td>4</td><td>MÃ³veis</td><td>2024-06-04 11:02:48.00</td><td>2024-06-04 11:02:48.00</td></tr><tr><td>5</td><td>5</td><td>Brinquedos</td><td>2024-06-04 11:02:48.00</td><td>2024-06-04 11:02:48.00</td></tr></table>"
                    },
                    "metadata": {}
                }
            ],
            "execution_count": 7
        },
        {
            "cell_type": "code",
            "source": [
                "SELECT * from [Dimensao].[D_Clientes]"
            ],
            "metadata": {
                "language": "sql",
                "azdata_cell_guid": "eff26670-b942-4692-b6b4-aa614ab2f11b"
            },
            "outputs": [
                {
                    "output_type": "display_data",
                    "data": {
                        "text/html": "(336 rows affected)"
                    },
                    "metadata": {}
                },
                {
                    "output_type": "display_data",
                    "data": {
                        "text/html": "Total execution time: 00:00:00.009"
                    },
                    "metadata": {}
                },
                {
                    "output_type": "execute_result",
                    "execution_count": 12,
                    "data": {
                        "application/vnd.dataresource+json": {
                            "schema": {
                                "fields": [
                                    {
                                        "name": "SK_Cliente"
                                    },
                                    {
                                        "name": "IdCliente"
                                    },
                                    {
                                        "name": "Nome"
                                    },
                                    {
                                        "name": "Email"
                                    },
                                    {
                                        "name": "Telefone"
                                    },
                                    {
                                        "name": "DataCriacao"
                                    },
                                    {
                                        "name": "DataAlteracao"
                                    }
                                ]
                            },
                            "data": [
                                {
                                    "SK_Cliente": "226",
                                    "IdCliente": "1",
                                    "Nome": "Lucas Martins",
                                    "Email": "lucas.martins@example.com",
                                    "Telefone": "11999999999",
                                    "DataCriacao": "2024-06-04 11:34:02.00",
                                    "DataAlteracao": "2024-06-04 11:34:02.00"
                                },
                                {
                                    "SK_Cliente": "227",
                                    "IdCliente": "2",
                                    "Nome": "Mariana Lima",
                                    "Email": "mariana.lima@example.com",
                                    "Telefone": "21988888888",
                                    "DataCriacao": "2024-06-04 11:34:02.00",
                                    "DataAlteracao": "2024-06-04 11:34:02.00"
                                },
                                {
                                    "SK_Cliente": "228",
                                    "IdCliente": "3",
                                    "Nome": "Pedro Santos",
                                    "Email": "pedro.santos@example.com",
                                    "Telefone": "31977777777",
                                    "DataCriacao": "2024-06-04 11:34:02.00",
                                    "DataAlteracao": "2024-06-04 11:34:02.00"
                                },
                                {
                                    "SK_Cliente": "229",
                                    "IdCliente": "4",
                                    "Nome": "Fernanda Costa",
                                    "Email": "fernanda.costa@example.com",
                                    "Telefone": "41966666666",
                                    "DataCriacao": "2024-06-04 11:34:02.00",
                                    "DataAlteracao": "2024-06-04 11:34:02.00"
                                },
                                {
                                    "SK_Cliente": "230",
                                    "IdCliente": "6",
                                    "Nome": "Lucas Martins",
                                    "Email": "lucas.martins@example.com",
                                    "Telefone": "11999999999",
                                    "DataCriacao": "2024-06-04 11:34:02.00",
                                    "DataAlteracao": "2024-06-04 11:34:02.00"
                                },
                                {
                                    "SK_Cliente": "231",
                                    "IdCliente": "7",
                                    "Nome": "Mariana Lima",
                                    "Email": "mariana.lima@example.com",
                                    "Telefone": "21988888888",
                                    "DataCriacao": "2024-06-04 11:34:02.00",
                                    "DataAlteracao": "2024-06-04 11:34:02.00"
                                },
                                {
                                    "SK_Cliente": "232",
                                    "IdCliente": "8",
                                    "Nome": "Pedro Santos",
                                    "Email": "pedro.santos@example.com",
                                    "Telefone": "31977777777",
                                    "DataCriacao": "2024-06-04 11:34:02.00",
                                    "DataAlteracao": "2024-06-04 11:34:02.00"
                                },
                                {
                                    "SK_Cliente": "233",
                                    "IdCliente": "9",
                                    "Nome": "Fernanda Costa",
                                    "Email": "fernanda.costa@example.com",
                                    "Telefone": "41966666666",
                                    "DataCriacao": "2024-06-04 11:34:02.00",
                                    "DataAlteracao": "2024-06-04 11:34:02.00"
                                },
                                {
                                    "SK_Cliente": "234",
                                    "IdCliente": "10",
                                    "Nome": "Lucas Martins",
                                    "Email": "lucas.martins@example.com",
                                    "Telefone": "11999999999",
                                    "DataCriacao": "2024-06-04 11:34:02.00",
                                    "DataAlteracao": "2024-06-04 11:34:02.00"
                                },
                                {
                                    "SK_Cliente": "235",
                                    "IdCliente": "11",
                                    "Nome": "Mariana Lima",
                                    "Email": "mariana.lima@example.com",
                                    "Telefone": "21988888888",
                                    "DataCriacao": "2024-06-04 11:34:02.00",
                                    "DataAlteracao": "2024-06-04 11:34:02.00"
                                },
                                {
                                    "SK_Cliente": "236",
                                    "IdCliente": "12",
                                    "Nome": "Pedro Santos",
                                    "Email": "pedro.santos@example.com",
                                    "Telefone": "31977777777",
                                    "DataCriacao": "2024-06-04 11:34:02.00",
                                    "DataAlteracao": "2024-06-04 11:34:02.00"
                                },
                                {
                                    "SK_Cliente": "237",
                                    "IdCliente": "13",
                                    "Nome": "Fernanda Costa",
                                    "Email": "fernanda.costa@example.com",
                                    "Telefone": "41966666666",
                                    "DataCriacao": "2024-06-04 11:34:02.00",
                                    "DataAlteracao": "2024-06-04 11:34:02.00"
                                },
                                {
                                    "SK_Cliente": "238",
                                    "IdCliente": "14",
                                    "Nome": "Lucas Martins",
                                    "Email": "lucas.martins@example.com",
                                    "Telefone": "11999999999",
                                    "DataCriacao": "2024-06-04 11:34:02.00",
                                    "DataAlteracao": "2024-06-04 11:34:02.00"
                                },
                                {
                                    "SK_Cliente": "239",
                                    "IdCliente": "15",
                                    "Nome": "Mariana Lima",
                                    "Email": "mariana.lima@example.com",
                                    "Telefone": "21988888888",
                                    "DataCriacao": "2024-06-04 11:34:02.00",
                                    "DataAlteracao": "2024-06-04 11:34:02.00"
                                },
                                {
                                    "SK_Cliente": "240",
                                    "IdCliente": "16",
                                    "Nome": "Pedro Santos",
                                    "Email": "pedro.santos@example.com",
                                    "Telefone": "31977777777",
                                    "DataCriacao": "2024-06-04 11:34:02.00",
                                    "DataAlteracao": "2024-06-04 11:34:02.00"
                                },
                                {
                                    "SK_Cliente": "241",
                                    "IdCliente": "17",
                                    "Nome": "Fernanda Costa",
                                    "Email": "fernanda.costa@example.com",
                                    "Telefone": "41966666666",
                                    "DataCriacao": "2024-06-04 11:34:02.00",
                                    "DataAlteracao": "2024-06-04 11:34:02.00"
                                },
                                {
                                    "SK_Cliente": "242",
                                    "IdCliente": "18",
                                    "Nome": "Lucas Martins",
                                    "Email": "lucas.martins@example.com",
                                    "Telefone": "11999999999",
                                    "DataCriacao": "2024-06-04 11:34:02.00",
                                    "DataAlteracao": "2024-06-04 11:34:02.00"
                                },
                                {
                                    "SK_Cliente": "243",
                                    "IdCliente": "19",
                                    "Nome": "Mariana Lima",
                                    "Email": "mariana.lima@example.com",
                                    "Telefone": "21988888888",
                                    "DataCriacao": "2024-06-04 11:34:02.00",
                                    "DataAlteracao": "2024-06-04 11:34:02.00"
                                },
                                {
                                    "SK_Cliente": "244",
                                    "IdCliente": "20",
                                    "Nome": "Pedro Santos",
                                    "Email": "pedro.santos@example.com",
                                    "Telefone": "31977777777",
                                    "DataCriacao": "2024-06-04 11:34:02.00",
                                    "DataAlteracao": "2024-06-04 11:34:02.00"
                                },
                                {
                                    "SK_Cliente": "245",
                                    "IdCliente": "21",
                                    "Nome": "Fernanda Costa",
                                    "Email": "fernanda.costa@example.com",
                                    "Telefone": "41966666666",
                                    "DataCriacao": "2024-06-04 11:34:02.00",
                                    "DataAlteracao": "2024-06-04 11:34:02.00"
                                },
                                {
                                    "SK_Cliente": "246",
                                    "IdCliente": "22",
                                    "Nome": "Lucas Martins",
                                    "Email": "lucas.martins@example.com",
                                    "Telefone": "11999999999",
                                    "DataCriacao": "2024-06-04 11:34:02.00",
                                    "DataAlteracao": "2024-06-04 11:34:02.00"
                                },
                                {
                                    "SK_Cliente": "247",
                                    "IdCliente": "23",
                                    "Nome": "Mariana Lima",
                                    "Email": "mariana.lima@example.com",
                                    "Telefone": "21988888888",
                                    "DataCriacao": "2024-06-04 11:34:02.00",
                                    "DataAlteracao": "2024-06-04 11:34:02.00"
                                },
                                {
                                    "SK_Cliente": "248",
                                    "IdCliente": "24",
                                    "Nome": "Pedro Santos",
                                    "Email": "pedro.santos@example.com",
                                    "Telefone": "31977777777",
                                    "DataCriacao": "2024-06-04 11:34:02.00",
                                    "DataAlteracao": "2024-06-04 11:34:02.00"
                                },
                                {
                                    "SK_Cliente": "249",
                                    "IdCliente": "25",
                                    "Nome": "Fernanda Costa",
                                    "Email": "fernanda.costa@example.com",
                                    "Telefone": "41966666666",
                                    "DataCriacao": "2024-06-04 11:34:02.00",
                                    "DataAlteracao": "2024-06-04 11:34:02.00"
                                },
                                {
                                    "SK_Cliente": "250",
                                    "IdCliente": "26",
                                    "Nome": "Lucas Martins",
                                    "Email": "lucas.martins@example.com",
                                    "Telefone": "11999999999",
                                    "DataCriacao": "2024-06-04 11:34:02.00",
                                    "DataAlteracao": "2024-06-04 11:34:02.00"
                                },
                                {
                                    "SK_Cliente": "251",
                                    "IdCliente": "27",
                                    "Nome": "Mariana Lima",
                                    "Email": "mariana.lima@example.com",
                                    "Telefone": "21988888888",
                                    "DataCriacao": "2024-06-04 11:34:02.00",
                                    "DataAlteracao": "2024-06-04 11:34:02.00"
                                },
                                {
                                    "SK_Cliente": "252",
                                    "IdCliente": "28",
                                    "Nome": "Pedro Santos",
                                    "Email": "pedro.santos@example.com",
                                    "Telefone": "31977777777",
                                    "DataCriacao": "2024-06-04 11:34:02.00",
                                    "DataAlteracao": "2024-06-04 11:34:02.00"
                                },
                                {
                                    "SK_Cliente": "253",
                                    "IdCliente": "29",
                                    "Nome": "Fernanda Costa",
                                    "Email": "fernanda.costa@example.com",
                                    "Telefone": "41966666666",
                                    "DataCriacao": "2024-06-04 11:34:02.00",
                                    "DataAlteracao": "2024-06-04 11:34:02.00"
                                },
                                {
                                    "SK_Cliente": "254",
                                    "IdCliente": "30",
                                    "Nome": "Lucas Martins",
                                    "Email": "lucas.martins@example.com",
                                    "Telefone": "11999999999",
                                    "DataCriacao": "2024-06-04 11:34:02.00",
                                    "DataAlteracao": "2024-06-04 11:34:02.00"
                                },
                                {
                                    "SK_Cliente": "255",
                                    "IdCliente": "31",
                                    "Nome": "Mariana Lima",
                                    "Email": "mariana.lima@example.com",
                                    "Telefone": "21988888888",
                                    "DataCriacao": "2024-06-04 11:34:02.00",
                                    "DataAlteracao": "2024-06-04 11:34:02.00"
                                },
                                {
                                    "SK_Cliente": "256",
                                    "IdCliente": "32",
                                    "Nome": "Pedro Santos",
                                    "Email": "pedro.santos@example.com",
                                    "Telefone": "31977777777",
                                    "DataCriacao": "2024-06-04 11:34:02.00",
                                    "DataAlteracao": "2024-06-04 11:34:02.00"
                                },
                                {
                                    "SK_Cliente": "257",
                                    "IdCliente": "33",
                                    "Nome": "Fernanda Costa",
                                    "Email": "fernanda.costa@example.com",
                                    "Telefone": "41966666666",
                                    "DataCriacao": "2024-06-04 11:34:02.00",
                                    "DataAlteracao": "2024-06-04 11:34:02.00"
                                },
                                {
                                    "SK_Cliente": "258",
                                    "IdCliente": "34",
                                    "Nome": "Lucas Martins",
                                    "Email": "lucas.martins@example.com",
                                    "Telefone": "11999999999",
                                    "DataCriacao": "2024-06-04 11:34:02.00",
                                    "DataAlteracao": "2024-06-04 11:34:02.00"
                                },
                                {
                                    "SK_Cliente": "259",
                                    "IdCliente": "35",
                                    "Nome": "Mariana Lima",
                                    "Email": "mariana.lima@example.com",
                                    "Telefone": "21988888888",
                                    "DataCriacao": "2024-06-04 11:34:02.00",
                                    "DataAlteracao": "2024-06-04 11:34:02.00"
                                },
                                {
                                    "SK_Cliente": "260",
                                    "IdCliente": "36",
                                    "Nome": "Pedro Santos",
                                    "Email": "pedro.santos@example.com",
                                    "Telefone": "31977777777",
                                    "DataCriacao": "2024-06-04 11:34:02.00",
                                    "DataAlteracao": "2024-06-04 11:34:02.00"
                                },
                                {
                                    "SK_Cliente": "261",
                                    "IdCliente": "37",
                                    "Nome": "Fernanda Costa",
                                    "Email": "fernanda.costa@example.com",
                                    "Telefone": "41966666666",
                                    "DataCriacao": "2024-06-04 11:34:02.00",
                                    "DataAlteracao": "2024-06-04 11:34:02.00"
                                },
                                {
                                    "SK_Cliente": "262",
                                    "IdCliente": "38",
                                    "Nome": "Lucas Martins",
                                    "Email": "lucas.martins@example.com",
                                    "Telefone": "11999999999",
                                    "DataCriacao": "2024-06-04 11:34:02.00",
                                    "DataAlteracao": "2024-06-04 11:34:02.00"
                                },
                                {
                                    "SK_Cliente": "263",
                                    "IdCliente": "39",
                                    "Nome": "Mariana Lima",
                                    "Email": "mariana.lima@example.com",
                                    "Telefone": "21988888888",
                                    "DataCriacao": "2024-06-04 11:34:02.00",
                                    "DataAlteracao": "2024-06-04 11:34:02.00"
                                },
                                {
                                    "SK_Cliente": "264",
                                    "IdCliente": "40",
                                    "Nome": "Pedro Santos",
                                    "Email": "pedro.santos@example.com",
                                    "Telefone": "31977777777",
                                    "DataCriacao": "2024-06-04 11:34:02.00",
                                    "DataAlteracao": "2024-06-04 11:34:02.00"
                                },
                                {
                                    "SK_Cliente": "265",
                                    "IdCliente": "41",
                                    "Nome": "Fernanda Costa",
                                    "Email": "fernanda.costa@example.com",
                                    "Telefone": "41966666666",
                                    "DataCriacao": "2024-06-04 11:34:02.00",
                                    "DataAlteracao": "2024-06-04 11:34:02.00"
                                },
                                {
                                    "SK_Cliente": "266",
                                    "IdCliente": "42",
                                    "Nome": "Lucas Martins",
                                    "Email": "lucas.martins@example.com",
                                    "Telefone": "11999999999",
                                    "DataCriacao": "2024-06-04 11:34:02.00",
                                    "DataAlteracao": "2024-06-04 11:34:02.00"
                                },
                                {
                                    "SK_Cliente": "267",
                                    "IdCliente": "43",
                                    "Nome": "Mariana Lima",
                                    "Email": "mariana.lima@example.com",
                                    "Telefone": "21988888888",
                                    "DataCriacao": "2024-06-04 11:34:02.00",
                                    "DataAlteracao": "2024-06-04 11:34:02.00"
                                },
                                {
                                    "SK_Cliente": "268",
                                    "IdCliente": "44",
                                    "Nome": "Pedro Santos",
                                    "Email": "pedro.santos@example.com",
                                    "Telefone": "31977777777",
                                    "DataCriacao": "2024-06-04 11:34:02.00",
                                    "DataAlteracao": "2024-06-04 11:34:02.00"
                                },
                                {
                                    "SK_Cliente": "269",
                                    "IdCliente": "45",
                                    "Nome": "Fernanda Costa",
                                    "Email": "fernanda.costa@example.com",
                                    "Telefone": "41966666666",
                                    "DataCriacao": "2024-06-04 11:34:02.00",
                                    "DataAlteracao": "2024-06-04 11:34:02.00"
                                },
                                {
                                    "SK_Cliente": "270",
                                    "IdCliente": "46",
                                    "Nome": "Lucas Martins",
                                    "Email": "lucas.martins@example.com",
                                    "Telefone": "11999999999",
                                    "DataCriacao": "2024-06-04 11:34:02.00",
                                    "DataAlteracao": "2024-06-04 11:34:02.00"
                                },
                                {
                                    "SK_Cliente": "271",
                                    "IdCliente": "47",
                                    "Nome": "Mariana Lima",
                                    "Email": "mariana.lima@example.com",
                                    "Telefone": "21988888888",
                                    "DataCriacao": "2024-06-04 11:34:02.00",
                                    "DataAlteracao": "2024-06-04 11:34:02.00"
                                },
                                {
                                    "SK_Cliente": "272",
                                    "IdCliente": "48",
                                    "Nome": "Pedro Santos",
                                    "Email": "pedro.santos@example.com",
                                    "Telefone": "31977777777",
                                    "DataCriacao": "2024-06-04 11:34:02.00",
                                    "DataAlteracao": "2024-06-04 11:34:02.00"
                                },
                                {
                                    "SK_Cliente": "273",
                                    "IdCliente": "49",
                                    "Nome": "Fernanda Costa",
                                    "Email": "fernanda.costa@example.com",
                                    "Telefone": "41966666666",
                                    "DataCriacao": "2024-06-04 11:34:02.00",
                                    "DataAlteracao": "2024-06-04 11:34:02.00"
                                },
                                {
                                    "SK_Cliente": "274",
                                    "IdCliente": "50",
                                    "Nome": "Lucas Martins",
                                    "Email": "lucas.martins@example.com",
                                    "Telefone": "11999999999",
                                    "DataCriacao": "2024-06-04 11:34:02.00",
                                    "DataAlteracao": "2024-06-04 11:34:02.00"
                                },
                                {
                                    "SK_Cliente": "275",
                                    "IdCliente": "51",
                                    "Nome": "Mariana Lima",
                                    "Email": "mariana.lima@example.com",
                                    "Telefone": "21988888888",
                                    "DataCriacao": "2024-06-04 11:34:02.00",
                                    "DataAlteracao": "2024-06-04 11:34:02.00"
                                },
                                {
                                    "SK_Cliente": "276",
                                    "IdCliente": "52",
                                    "Nome": "Pedro Santos",
                                    "Email": "pedro.santos@example.com",
                                    "Telefone": "31977777777",
                                    "DataCriacao": "2024-06-04 11:34:02.00",
                                    "DataAlteracao": "2024-06-04 11:34:02.00"
                                },
                                {
                                    "SK_Cliente": "277",
                                    "IdCliente": "53",
                                    "Nome": "Fernanda Costa",
                                    "Email": "fernanda.costa@example.com",
                                    "Telefone": "41966666666",
                                    "DataCriacao": "2024-06-04 11:34:02.00",
                                    "DataAlteracao": "2024-06-04 11:34:02.00"
                                },
                                {
                                    "SK_Cliente": "278",
                                    "IdCliente": "54",
                                    "Nome": "Lucas Martins",
                                    "Email": "lucas.martins@example.com",
                                    "Telefone": "11999999999",
                                    "DataCriacao": "2024-06-04 11:34:02.00",
                                    "DataAlteracao": "2024-06-04 11:34:02.00"
                                },
                                {
                                    "SK_Cliente": "279",
                                    "IdCliente": "55",
                                    "Nome": "Mariana Lima",
                                    "Email": "mariana.lima@example.com",
                                    "Telefone": "21988888888",
                                    "DataCriacao": "2024-06-04 11:34:02.00",
                                    "DataAlteracao": "2024-06-04 11:34:02.00"
                                },
                                {
                                    "SK_Cliente": "280",
                                    "IdCliente": "56",
                                    "Nome": "Pedro Santos",
                                    "Email": "pedro.santos@example.com",
                                    "Telefone": "31977777777",
                                    "DataCriacao": "2024-06-04 11:34:02.00",
                                    "DataAlteracao": "2024-06-04 11:34:02.00"
                                },
                                {
                                    "SK_Cliente": "281",
                                    "IdCliente": "57",
                                    "Nome": "Fernanda Costa",
                                    "Email": "fernanda.costa@example.com",
                                    "Telefone": "41966666666",
                                    "DataCriacao": "2024-06-04 11:34:02.00",
                                    "DataAlteracao": "2024-06-04 11:34:02.00"
                                },
                                {
                                    "SK_Cliente": "282",
                                    "IdCliente": "58",
                                    "Nome": "Lucas Martins",
                                    "Email": "lucas.martins@example.com",
                                    "Telefone": "11999999999",
                                    "DataCriacao": "2024-06-04 11:34:02.00",
                                    "DataAlteracao": "2024-06-04 11:34:02.00"
                                },
                                {
                                    "SK_Cliente": "283",
                                    "IdCliente": "59",
                                    "Nome": "Mariana Lima",
                                    "Email": "mariana.lima@example.com",
                                    "Telefone": "21988888888",
                                    "DataCriacao": "2024-06-04 11:34:02.00",
                                    "DataAlteracao": "2024-06-04 11:34:02.00"
                                },
                                {
                                    "SK_Cliente": "284",
                                    "IdCliente": "60",
                                    "Nome": "Pedro Santos",
                                    "Email": "pedro.santos@example.com",
                                    "Telefone": "31977777777",
                                    "DataCriacao": "2024-06-04 11:34:02.00",
                                    "DataAlteracao": "2024-06-04 11:34:02.00"
                                },
                                {
                                    "SK_Cliente": "285",
                                    "IdCliente": "61",
                                    "Nome": "Fernanda Costa",
                                    "Email": "fernanda.costa@example.com",
                                    "Telefone": "41966666666",
                                    "DataCriacao": "2024-06-04 11:34:02.00",
                                    "DataAlteracao": "2024-06-04 11:34:02.00"
                                },
                                {
                                    "SK_Cliente": "286",
                                    "IdCliente": "62",
                                    "Nome": "Lucas Martins",
                                    "Email": "lucas.martins@example.com",
                                    "Telefone": "11999999999",
                                    "DataCriacao": "2024-06-04 11:34:02.00",
                                    "DataAlteracao": "2024-06-04 11:34:02.00"
                                },
                                {
                                    "SK_Cliente": "287",
                                    "IdCliente": "63",
                                    "Nome": "Mariana Lima",
                                    "Email": "mariana.lima@example.com",
                                    "Telefone": "21988888888",
                                    "DataCriacao": "2024-06-04 11:34:02.00",
                                    "DataAlteracao": "2024-06-04 11:34:02.00"
                                },
                                {
                                    "SK_Cliente": "288",
                                    "IdCliente": "64",
                                    "Nome": "Pedro Santos",
                                    "Email": "pedro.santos@example.com",
                                    "Telefone": "31977777777",
                                    "DataCriacao": "2024-06-04 11:34:02.00",
                                    "DataAlteracao": "2024-06-04 11:34:02.00"
                                },
                                {
                                    "SK_Cliente": "289",
                                    "IdCliente": "65",
                                    "Nome": "Fernanda Costa",
                                    "Email": "fernanda.costa@example.com",
                                    "Telefone": "41966666666",
                                    "DataCriacao": "2024-06-04 11:34:02.00",
                                    "DataAlteracao": "2024-06-04 11:34:02.00"
                                },
                                {
                                    "SK_Cliente": "290",
                                    "IdCliente": "66",
                                    "Nome": "Lucas Martins",
                                    "Email": "lucas.martins@example.com",
                                    "Telefone": "11999999999",
                                    "DataCriacao": "2024-06-04 11:34:02.00",
                                    "DataAlteracao": "2024-06-04 11:34:02.00"
                                },
                                {
                                    "SK_Cliente": "291",
                                    "IdCliente": "67",
                                    "Nome": "Mariana Lima",
                                    "Email": "mariana.lima@example.com",
                                    "Telefone": "21988888888",
                                    "DataCriacao": "2024-06-04 11:34:02.00",
                                    "DataAlteracao": "2024-06-04 11:34:02.00"
                                },
                                {
                                    "SK_Cliente": "292",
                                    "IdCliente": "68",
                                    "Nome": "Pedro Santos",
                                    "Email": "pedro.santos@example.com",
                                    "Telefone": "31977777777",
                                    "DataCriacao": "2024-06-04 11:34:02.00",
                                    "DataAlteracao": "2024-06-04 11:34:02.00"
                                },
                                {
                                    "SK_Cliente": "293",
                                    "IdCliente": "69",
                                    "Nome": "Fernanda Costa",
                                    "Email": "fernanda.costa@example.com",
                                    "Telefone": "41966666666",
                                    "DataCriacao": "2024-06-04 11:34:02.00",
                                    "DataAlteracao": "2024-06-04 11:34:02.00"
                                },
                                {
                                    "SK_Cliente": "294",
                                    "IdCliente": "70",
                                    "Nome": "Lucas Martins",
                                    "Email": "lucas.martins@example.com",
                                    "Telefone": "11999999999",
                                    "DataCriacao": "2024-06-04 11:34:02.00",
                                    "DataAlteracao": "2024-06-04 11:34:02.00"
                                },
                                {
                                    "SK_Cliente": "295",
                                    "IdCliente": "71",
                                    "Nome": "Mariana Lima",
                                    "Email": "mariana.lima@example.com",
                                    "Telefone": "21988888888",
                                    "DataCriacao": "2024-06-04 11:34:02.00",
                                    "DataAlteracao": "2024-06-04 11:34:02.00"
                                },
                                {
                                    "SK_Cliente": "296",
                                    "IdCliente": "72",
                                    "Nome": "Pedro Santos",
                                    "Email": "pedro.santos@example.com",
                                    "Telefone": "31977777777",
                                    "DataCriacao": "2024-06-04 11:34:02.00",
                                    "DataAlteracao": "2024-06-04 11:34:02.00"
                                },
                                {
                                    "SK_Cliente": "297",
                                    "IdCliente": "73",
                                    "Nome": "Fernanda Costa",
                                    "Email": "fernanda.costa@example.com",
                                    "Telefone": "41966666666",
                                    "DataCriacao": "2024-06-04 11:34:02.00",
                                    "DataAlteracao": "2024-06-04 11:34:02.00"
                                },
                                {
                                    "SK_Cliente": "298",
                                    "IdCliente": "74",
                                    "Nome": "Lucas Martins",
                                    "Email": "lucas.martins@example.com",
                                    "Telefone": "11999999999",
                                    "DataCriacao": "2024-06-04 11:34:02.00",
                                    "DataAlteracao": "2024-06-04 11:34:02.00"
                                },
                                {
                                    "SK_Cliente": "299",
                                    "IdCliente": "75",
                                    "Nome": "Mariana Lima",
                                    "Email": "mariana.lima@example.com",
                                    "Telefone": "21988888888",
                                    "DataCriacao": "2024-06-04 11:34:02.00",
                                    "DataAlteracao": "2024-06-04 11:34:02.00"
                                },
                                {
                                    "SK_Cliente": "300",
                                    "IdCliente": "76",
                                    "Nome": "Pedro Santos",
                                    "Email": "pedro.santos@example.com",
                                    "Telefone": "31977777777",
                                    "DataCriacao": "2024-06-04 11:34:02.00",
                                    "DataAlteracao": "2024-06-04 11:34:02.00"
                                },
                                {
                                    "SK_Cliente": "301",
                                    "IdCliente": "77",
                                    "Nome": "Fernanda Costa",
                                    "Email": "fernanda.costa@example.com",
                                    "Telefone": "41966666666",
                                    "DataCriacao": "2024-06-04 11:34:02.00",
                                    "DataAlteracao": "2024-06-04 11:34:02.00"
                                },
                                {
                                    "SK_Cliente": "302",
                                    "IdCliente": "78",
                                    "Nome": "Lucas Martins",
                                    "Email": "lucas.martins@example.com",
                                    "Telefone": "11999999999",
                                    "DataCriacao": "2024-06-04 11:34:02.00",
                                    "DataAlteracao": "2024-06-04 11:34:02.00"
                                },
                                {
                                    "SK_Cliente": "303",
                                    "IdCliente": "79",
                                    "Nome": "Mariana Lima",
                                    "Email": "mariana.lima@example.com",
                                    "Telefone": "21988888888",
                                    "DataCriacao": "2024-06-04 11:34:02.00",
                                    "DataAlteracao": "2024-06-04 11:34:02.00"
                                },
                                {
                                    "SK_Cliente": "304",
                                    "IdCliente": "80",
                                    "Nome": "Pedro Santos",
                                    "Email": "pedro.santos@example.com",
                                    "Telefone": "31977777777",
                                    "DataCriacao": "2024-06-04 11:34:02.00",
                                    "DataAlteracao": "2024-06-04 11:34:02.00"
                                },
                                {
                                    "SK_Cliente": "305",
                                    "IdCliente": "81",
                                    "Nome": "Fernanda Costa",
                                    "Email": "fernanda.costa@example.com",
                                    "Telefone": "41966666666",
                                    "DataCriacao": "2024-06-04 11:34:02.00",
                                    "DataAlteracao": "2024-06-04 11:34:02.00"
                                },
                                {
                                    "SK_Cliente": "306",
                                    "IdCliente": "82",
                                    "Nome": "Lucas Martins",
                                    "Email": "lucas.martins@example.com",
                                    "Telefone": "11999999999",
                                    "DataCriacao": "2024-06-04 11:34:02.00",
                                    "DataAlteracao": "2024-06-04 11:34:02.00"
                                },
                                {
                                    "SK_Cliente": "307",
                                    "IdCliente": "83",
                                    "Nome": "Mariana Lima",
                                    "Email": "mariana.lima@example.com",
                                    "Telefone": "21988888888",
                                    "DataCriacao": "2024-06-04 11:34:02.00",
                                    "DataAlteracao": "2024-06-04 11:34:02.00"
                                },
                                {
                                    "SK_Cliente": "308",
                                    "IdCliente": "84",
                                    "Nome": "Pedro Santos",
                                    "Email": "pedro.santos@example.com",
                                    "Telefone": "31977777777",
                                    "DataCriacao": "2024-06-04 11:34:02.00",
                                    "DataAlteracao": "2024-06-04 11:34:02.00"
                                },
                                {
                                    "SK_Cliente": "309",
                                    "IdCliente": "85",
                                    "Nome": "Fernanda Costa",
                                    "Email": "fernanda.costa@example.com",
                                    "Telefone": "41966666666",
                                    "DataCriacao": "2024-06-04 11:34:02.00",
                                    "DataAlteracao": "2024-06-04 11:34:02.00"
                                },
                                {
                                    "SK_Cliente": "310",
                                    "IdCliente": "1050",
                                    "Nome": "Lucas Martins",
                                    "Email": "lucas.martins@example.com",
                                    "Telefone": "11999999999",
                                    "DataCriacao": "2024-06-04 11:34:02.00",
                                    "DataAlteracao": "2024-06-04 11:34:02.00"
                                },
                                {
                                    "SK_Cliente": "311",
                                    "IdCliente": "1051",
                                    "Nome": "Mariana Lima",
                                    "Email": "mariana.lima@example.com",
                                    "Telefone": "21988888888",
                                    "DataCriacao": "2024-06-04 11:34:02.00",
                                    "DataAlteracao": "2024-06-04 11:34:02.00"
                                },
                                {
                                    "SK_Cliente": "312",
                                    "IdCliente": "1052",
                                    "Nome": "Pedro Santos",
                                    "Email": "pedro.santos@example.com",
                                    "Telefone": "31977777777",
                                    "DataCriacao": "2024-06-04 11:34:02.00",
                                    "DataAlteracao": "2024-06-04 11:34:02.00"
                                },
                                {
                                    "SK_Cliente": "313",
                                    "IdCliente": "1053",
                                    "Nome": "Fernanda Costa",
                                    "Email": "fernanda.costa@example.com",
                                    "Telefone": "41966666666",
                                    "DataCriacao": "2024-06-04 11:34:02.00",
                                    "DataAlteracao": "2024-06-04 11:34:02.00"
                                },
                                {
                                    "SK_Cliente": "314",
                                    "IdCliente": "1054",
                                    "Nome": "Lucas Martins",
                                    "Email": "lucas.martins@example.com",
                                    "Telefone": "11999999999",
                                    "DataCriacao": "2024-06-04 11:34:02.00",
                                    "DataAlteracao": "2024-06-04 11:34:02.00"
                                },
                                {
                                    "SK_Cliente": "315",
                                    "IdCliente": "1055",
                                    "Nome": "Mariana Lima",
                                    "Email": "mariana.lima@example.com",
                                    "Telefone": "21988888888",
                                    "DataCriacao": "2024-06-04 11:34:02.00",
                                    "DataAlteracao": "2024-06-04 11:34:02.00"
                                },
                                {
                                    "SK_Cliente": "316",
                                    "IdCliente": "1056",
                                    "Nome": "Pedro Santos",
                                    "Email": "pedro.santos@example.com",
                                    "Telefone": "31977777777",
                                    "DataCriacao": "2024-06-04 11:34:02.00",
                                    "DataAlteracao": "2024-06-04 11:34:02.00"
                                },
                                {
                                    "SK_Cliente": "317",
                                    "IdCliente": "1057",
                                    "Nome": "Fernanda Costa",
                                    "Email": "fernanda.costa@example.com",
                                    "Telefone": "41966666666",
                                    "DataCriacao": "2024-06-04 11:34:02.00",
                                    "DataAlteracao": "2024-06-04 11:34:02.00"
                                },
                                {
                                    "SK_Cliente": "318",
                                    "IdCliente": "1058",
                                    "Nome": "Lucas Martins",
                                    "Email": "lucas.martins@example.com",
                                    "Telefone": "11999999999",
                                    "DataCriacao": "2024-06-04 11:34:02.00",
                                    "DataAlteracao": "2024-06-04 11:34:02.00"
                                },
                                {
                                    "SK_Cliente": "319",
                                    "IdCliente": "1059",
                                    "Nome": "Mariana Lima",
                                    "Email": "mariana.lima@example.com",
                                    "Telefone": "21988888888",
                                    "DataCriacao": "2024-06-04 11:34:02.00",
                                    "DataAlteracao": "2024-06-04 11:34:02.00"
                                },
                                {
                                    "SK_Cliente": "320",
                                    "IdCliente": "1060",
                                    "Nome": "Pedro Santos",
                                    "Email": "pedro.santos@example.com",
                                    "Telefone": "31977777777",
                                    "DataCriacao": "2024-06-04 11:34:02.00",
                                    "DataAlteracao": "2024-06-04 11:34:02.00"
                                },
                                {
                                    "SK_Cliente": "321",
                                    "IdCliente": "1061",
                                    "Nome": "Fernanda Costa",
                                    "Email": "fernanda.costa@example.com",
                                    "Telefone": "41966666666",
                                    "DataCriacao": "2024-06-04 11:34:02.00",
                                    "DataAlteracao": "2024-06-04 11:34:02.00"
                                },
                                {
                                    "SK_Cliente": "322",
                                    "IdCliente": "1062",
                                    "Nome": "Lucas Martins",
                                    "Email": "lucas.martins@example.com",
                                    "Telefone": "11999999999",
                                    "DataCriacao": "2024-06-04 11:34:02.00",
                                    "DataAlteracao": "2024-06-04 11:34:02.00"
                                },
                                {
                                    "SK_Cliente": "323",
                                    "IdCliente": "1063",
                                    "Nome": "Mariana Lima",
                                    "Email": "mariana.lima@example.com",
                                    "Telefone": "21988888888",
                                    "DataCriacao": "2024-06-04 11:34:02.00",
                                    "DataAlteracao": "2024-06-04 11:34:02.00"
                                },
                                {
                                    "SK_Cliente": "324",
                                    "IdCliente": "1064",
                                    "Nome": "Pedro Santos",
                                    "Email": "pedro.santos@example.com",
                                    "Telefone": "31977777777",
                                    "DataCriacao": "2024-06-04 11:34:02.00",
                                    "DataAlteracao": "2024-06-04 11:34:02.00"
                                },
                                {
                                    "SK_Cliente": "325",
                                    "IdCliente": "1065",
                                    "Nome": "Fernanda Costa",
                                    "Email": "fernanda.costa@example.com",
                                    "Telefone": "41966666666",
                                    "DataCriacao": "2024-06-04 11:34:02.00",
                                    "DataAlteracao": "2024-06-04 11:34:02.00"
                                },
                                {
                                    "SK_Cliente": "326",
                                    "IdCliente": "1066",
                                    "Nome": "Lucas Martins",
                                    "Email": "lucas.martins@example.com",
                                    "Telefone": "11999999999",
                                    "DataCriacao": "2024-06-04 11:34:02.00",
                                    "DataAlteracao": "2024-06-04 11:34:02.00"
                                },
                                {
                                    "SK_Cliente": "327",
                                    "IdCliente": "1067",
                                    "Nome": "Mariana Lima",
                                    "Email": "mariana.lima@example.com",
                                    "Telefone": "21988888888",
                                    "DataCriacao": "2024-06-04 11:34:02.00",
                                    "DataAlteracao": "2024-06-04 11:34:02.00"
                                },
                                {
                                    "SK_Cliente": "328",
                                    "IdCliente": "1068",
                                    "Nome": "Pedro Santos",
                                    "Email": "pedro.santos@example.com",
                                    "Telefone": "31977777777",
                                    "DataCriacao": "2024-06-04 11:34:02.00",
                                    "DataAlteracao": "2024-06-04 11:34:02.00"
                                },
                                {
                                    "SK_Cliente": "329",
                                    "IdCliente": "1069",
                                    "Nome": "Fernanda Costa",
                                    "Email": "fernanda.costa@example.com",
                                    "Telefone": "41966666666",
                                    "DataCriacao": "2024-06-04 11:34:02.00",
                                    "DataAlteracao": "2024-06-04 11:34:02.00"
                                },
                                {
                                    "SK_Cliente": "330",
                                    "IdCliente": "1070",
                                    "Nome": "Lucas Martins",
                                    "Email": "lucas.martins@example.com",
                                    "Telefone": "11999999999",
                                    "DataCriacao": "2024-06-04 11:34:02.00",
                                    "DataAlteracao": "2024-06-04 11:34:02.00"
                                },
                                {
                                    "SK_Cliente": "331",
                                    "IdCliente": "1071",
                                    "Nome": "Mariana Lima",
                                    "Email": "mariana.lima@example.com",
                                    "Telefone": "21988888888",
                                    "DataCriacao": "2024-06-04 11:34:02.00",
                                    "DataAlteracao": "2024-06-04 11:34:02.00"
                                },
                                {
                                    "SK_Cliente": "332",
                                    "IdCliente": "1072",
                                    "Nome": "Pedro Santos",
                                    "Email": "pedro.santos@example.com",
                                    "Telefone": "31977777777",
                                    "DataCriacao": "2024-06-04 11:34:02.00",
                                    "DataAlteracao": "2024-06-04 11:34:02.00"
                                },
                                {
                                    "SK_Cliente": "333",
                                    "IdCliente": "1073",
                                    "Nome": "Fernanda Costa",
                                    "Email": "fernanda.costa@example.com",
                                    "Telefone": "41966666666",
                                    "DataCriacao": "2024-06-04 11:34:02.00",
                                    "DataAlteracao": "2024-06-04 11:34:02.00"
                                },
                                {
                                    "SK_Cliente": "334",
                                    "IdCliente": "1074",
                                    "Nome": "Lucas Martins",
                                    "Email": "lucas.martins@example.com",
                                    "Telefone": "11999999999",
                                    "DataCriacao": "2024-06-04 11:34:02.00",
                                    "DataAlteracao": "2024-06-04 11:34:02.00"
                                },
                                {
                                    "SK_Cliente": "335",
                                    "IdCliente": "1075",
                                    "Nome": "Mariana Lima",
                                    "Email": "mariana.lima@example.com",
                                    "Telefone": "21988888888",
                                    "DataCriacao": "2024-06-04 11:34:02.00",
                                    "DataAlteracao": "2024-06-04 11:34:02.00"
                                },
                                {
                                    "SK_Cliente": "336",
                                    "IdCliente": "1076",
                                    "Nome": "Pedro Santos",
                                    "Email": "pedro.santos@example.com",
                                    "Telefone": "31977777777",
                                    "DataCriacao": "2024-06-04 11:34:02.00",
                                    "DataAlteracao": "2024-06-04 11:34:02.00"
                                },
                                {
                                    "SK_Cliente": "337",
                                    "IdCliente": "1077",
                                    "Nome": "Fernanda Costa",
                                    "Email": "fernanda.costa@example.com",
                                    "Telefone": "41966666666",
                                    "DataCriacao": "2024-06-04 11:34:02.00",
                                    "DataAlteracao": "2024-06-04 11:34:02.00"
                                },
                                {
                                    "SK_Cliente": "338",
                                    "IdCliente": "1",
                                    "Nome": "Lucas Martins",
                                    "Email": "lucas.martins@example.com",
                                    "Telefone": "11999999999",
                                    "DataCriacao": "2024-06-04 11:41:46.00",
                                    "DataAlteracao": "2024-06-04 11:41:46.00"
                                },
                                {
                                    "SK_Cliente": "339",
                                    "IdCliente": "2",
                                    "Nome": "Mariana Lima",
                                    "Email": "mariana.lima@example.com",
                                    "Telefone": "21988888888",
                                    "DataCriacao": "2024-06-04 11:41:46.00",
                                    "DataAlteracao": "2024-06-04 11:41:46.00"
                                },
                                {
                                    "SK_Cliente": "340",
                                    "IdCliente": "3",
                                    "Nome": "Pedro Santos",
                                    "Email": "pedro.santos@example.com",
                                    "Telefone": "31977777777",
                                    "DataCriacao": "2024-06-04 11:41:46.00",
                                    "DataAlteracao": "2024-06-04 11:41:46.00"
                                },
                                {
                                    "SK_Cliente": "341",
                                    "IdCliente": "4",
                                    "Nome": "Fernanda Costa",
                                    "Email": "fernanda.costa@example.com",
                                    "Telefone": "41966666666",
                                    "DataCriacao": "2024-06-04 11:41:46.00",
                                    "DataAlteracao": "2024-06-04 11:41:46.00"
                                },
                                {
                                    "SK_Cliente": "342",
                                    "IdCliente": "6",
                                    "Nome": "Lucas Martins",
                                    "Email": "lucas.martins@example.com",
                                    "Telefone": "11999999999",
                                    "DataCriacao": "2024-06-04 11:41:46.00",
                                    "DataAlteracao": "2024-06-04 11:41:46.00"
                                },
                                {
                                    "SK_Cliente": "343",
                                    "IdCliente": "7",
                                    "Nome": "Mariana Lima",
                                    "Email": "mariana.lima@example.com",
                                    "Telefone": "21988888888",
                                    "DataCriacao": "2024-06-04 11:41:46.00",
                                    "DataAlteracao": "2024-06-04 11:41:46.00"
                                },
                                {
                                    "SK_Cliente": "344",
                                    "IdCliente": "8",
                                    "Nome": "Pedro Santos",
                                    "Email": "pedro.santos@example.com",
                                    "Telefone": "31977777777",
                                    "DataCriacao": "2024-06-04 11:41:46.00",
                                    "DataAlteracao": "2024-06-04 11:41:46.00"
                                },
                                {
                                    "SK_Cliente": "345",
                                    "IdCliente": "9",
                                    "Nome": "Fernanda Costa",
                                    "Email": "fernanda.costa@example.com",
                                    "Telefone": "41966666666",
                                    "DataCriacao": "2024-06-04 11:41:46.00",
                                    "DataAlteracao": "2024-06-04 11:41:46.00"
                                },
                                {
                                    "SK_Cliente": "346",
                                    "IdCliente": "10",
                                    "Nome": "Lucas Martins",
                                    "Email": "lucas.martins@example.com",
                                    "Telefone": "11999999999",
                                    "DataCriacao": "2024-06-04 11:41:46.00",
                                    "DataAlteracao": "2024-06-04 11:41:46.00"
                                },
                                {
                                    "SK_Cliente": "347",
                                    "IdCliente": "11",
                                    "Nome": "Mariana Lima",
                                    "Email": "mariana.lima@example.com",
                                    "Telefone": "21988888888",
                                    "DataCriacao": "2024-06-04 11:41:46.00",
                                    "DataAlteracao": "2024-06-04 11:41:46.00"
                                },
                                {
                                    "SK_Cliente": "348",
                                    "IdCliente": "12",
                                    "Nome": "Pedro Santos",
                                    "Email": "pedro.santos@example.com",
                                    "Telefone": "31977777777",
                                    "DataCriacao": "2024-06-04 11:41:46.00",
                                    "DataAlteracao": "2024-06-04 11:41:46.00"
                                },
                                {
                                    "SK_Cliente": "349",
                                    "IdCliente": "13",
                                    "Nome": "Fernanda Costa",
                                    "Email": "fernanda.costa@example.com",
                                    "Telefone": "41966666666",
                                    "DataCriacao": "2024-06-04 11:41:46.00",
                                    "DataAlteracao": "2024-06-04 11:41:46.00"
                                },
                                {
                                    "SK_Cliente": "350",
                                    "IdCliente": "14",
                                    "Nome": "Lucas Martins",
                                    "Email": "lucas.martins@example.com",
                                    "Telefone": "11999999999",
                                    "DataCriacao": "2024-06-04 11:41:46.00",
                                    "DataAlteracao": "2024-06-04 11:41:46.00"
                                },
                                {
                                    "SK_Cliente": "351",
                                    "IdCliente": "15",
                                    "Nome": "Mariana Lima",
                                    "Email": "mariana.lima@example.com",
                                    "Telefone": "21988888888",
                                    "DataCriacao": "2024-06-04 11:41:46.00",
                                    "DataAlteracao": "2024-06-04 11:41:46.00"
                                },
                                {
                                    "SK_Cliente": "352",
                                    "IdCliente": "16",
                                    "Nome": "Pedro Santos",
                                    "Email": "pedro.santos@example.com",
                                    "Telefone": "31977777777",
                                    "DataCriacao": "2024-06-04 11:41:46.00",
                                    "DataAlteracao": "2024-06-04 11:41:46.00"
                                },
                                {
                                    "SK_Cliente": "353",
                                    "IdCliente": "17",
                                    "Nome": "Fernanda Costa",
                                    "Email": "fernanda.costa@example.com",
                                    "Telefone": "41966666666",
                                    "DataCriacao": "2024-06-04 11:41:46.00",
                                    "DataAlteracao": "2024-06-04 11:41:46.00"
                                },
                                {
                                    "SK_Cliente": "354",
                                    "IdCliente": "18",
                                    "Nome": "Lucas Martins",
                                    "Email": "lucas.martins@example.com",
                                    "Telefone": "11999999999",
                                    "DataCriacao": "2024-06-04 11:41:46.00",
                                    "DataAlteracao": "2024-06-04 11:41:46.00"
                                },
                                {
                                    "SK_Cliente": "355",
                                    "IdCliente": "19",
                                    "Nome": "Mariana Lima",
                                    "Email": "mariana.lima@example.com",
                                    "Telefone": "21988888888",
                                    "DataCriacao": "2024-06-04 11:41:46.00",
                                    "DataAlteracao": "2024-06-04 11:41:46.00"
                                },
                                {
                                    "SK_Cliente": "356",
                                    "IdCliente": "20",
                                    "Nome": "Pedro Santos",
                                    "Email": "pedro.santos@example.com",
                                    "Telefone": "31977777777",
                                    "DataCriacao": "2024-06-04 11:41:46.00",
                                    "DataAlteracao": "2024-06-04 11:41:46.00"
                                },
                                {
                                    "SK_Cliente": "357",
                                    "IdCliente": "21",
                                    "Nome": "Fernanda Costa",
                                    "Email": "fernanda.costa@example.com",
                                    "Telefone": "41966666666",
                                    "DataCriacao": "2024-06-04 11:41:46.00",
                                    "DataAlteracao": "2024-06-04 11:41:46.00"
                                },
                                {
                                    "SK_Cliente": "358",
                                    "IdCliente": "22",
                                    "Nome": "Lucas Martins",
                                    "Email": "lucas.martins@example.com",
                                    "Telefone": "11999999999",
                                    "DataCriacao": "2024-06-04 11:41:46.00",
                                    "DataAlteracao": "2024-06-04 11:41:46.00"
                                },
                                {
                                    "SK_Cliente": "359",
                                    "IdCliente": "23",
                                    "Nome": "Mariana Lima",
                                    "Email": "mariana.lima@example.com",
                                    "Telefone": "21988888888",
                                    "DataCriacao": "2024-06-04 11:41:46.00",
                                    "DataAlteracao": "2024-06-04 11:41:46.00"
                                },
                                {
                                    "SK_Cliente": "360",
                                    "IdCliente": "24",
                                    "Nome": "Pedro Santos",
                                    "Email": "pedro.santos@example.com",
                                    "Telefone": "31977777777",
                                    "DataCriacao": "2024-06-04 11:41:46.00",
                                    "DataAlteracao": "2024-06-04 11:41:46.00"
                                },
                                {
                                    "SK_Cliente": "361",
                                    "IdCliente": "25",
                                    "Nome": "Fernanda Costa",
                                    "Email": "fernanda.costa@example.com",
                                    "Telefone": "41966666666",
                                    "DataCriacao": "2024-06-04 11:41:46.00",
                                    "DataAlteracao": "2024-06-04 11:41:46.00"
                                },
                                {
                                    "SK_Cliente": "362",
                                    "IdCliente": "26",
                                    "Nome": "Lucas Martins",
                                    "Email": "lucas.martins@example.com",
                                    "Telefone": "11999999999",
                                    "DataCriacao": "2024-06-04 11:41:46.00",
                                    "DataAlteracao": "2024-06-04 11:41:46.00"
                                },
                                {
                                    "SK_Cliente": "363",
                                    "IdCliente": "27",
                                    "Nome": "Mariana Lima",
                                    "Email": "mariana.lima@example.com",
                                    "Telefone": "21988888888",
                                    "DataCriacao": "2024-06-04 11:41:46.00",
                                    "DataAlteracao": "2024-06-04 11:41:46.00"
                                },
                                {
                                    "SK_Cliente": "364",
                                    "IdCliente": "28",
                                    "Nome": "Pedro Santos",
                                    "Email": "pedro.santos@example.com",
                                    "Telefone": "31977777777",
                                    "DataCriacao": "2024-06-04 11:41:46.00",
                                    "DataAlteracao": "2024-06-04 11:41:46.00"
                                },
                                {
                                    "SK_Cliente": "365",
                                    "IdCliente": "29",
                                    "Nome": "Fernanda Costa",
                                    "Email": "fernanda.costa@example.com",
                                    "Telefone": "41966666666",
                                    "DataCriacao": "2024-06-04 11:41:46.00",
                                    "DataAlteracao": "2024-06-04 11:41:46.00"
                                },
                                {
                                    "SK_Cliente": "366",
                                    "IdCliente": "30",
                                    "Nome": "Lucas Martins",
                                    "Email": "lucas.martins@example.com",
                                    "Telefone": "11999999999",
                                    "DataCriacao": "2024-06-04 11:41:46.00",
                                    "DataAlteracao": "2024-06-04 11:41:46.00"
                                },
                                {
                                    "SK_Cliente": "367",
                                    "IdCliente": "31",
                                    "Nome": "Mariana Lima",
                                    "Email": "mariana.lima@example.com",
                                    "Telefone": "21988888888",
                                    "DataCriacao": "2024-06-04 11:41:46.00",
                                    "DataAlteracao": "2024-06-04 11:41:46.00"
                                },
                                {
                                    "SK_Cliente": "368",
                                    "IdCliente": "32",
                                    "Nome": "Pedro Santos",
                                    "Email": "pedro.santos@example.com",
                                    "Telefone": "31977777777",
                                    "DataCriacao": "2024-06-04 11:41:46.00",
                                    "DataAlteracao": "2024-06-04 11:41:46.00"
                                },
                                {
                                    "SK_Cliente": "369",
                                    "IdCliente": "33",
                                    "Nome": "Fernanda Costa",
                                    "Email": "fernanda.costa@example.com",
                                    "Telefone": "41966666666",
                                    "DataCriacao": "2024-06-04 11:41:46.00",
                                    "DataAlteracao": "2024-06-04 11:41:46.00"
                                },
                                {
                                    "SK_Cliente": "370",
                                    "IdCliente": "34",
                                    "Nome": "Lucas Martins",
                                    "Email": "lucas.martins@example.com",
                                    "Telefone": "11999999999",
                                    "DataCriacao": "2024-06-04 11:41:46.00",
                                    "DataAlteracao": "2024-06-04 11:41:46.00"
                                },
                                {
                                    "SK_Cliente": "371",
                                    "IdCliente": "35",
                                    "Nome": "Mariana Lima",
                                    "Email": "mariana.lima@example.com",
                                    "Telefone": "21988888888",
                                    "DataCriacao": "2024-06-04 11:41:46.00",
                                    "DataAlteracao": "2024-06-04 11:41:46.00"
                                },
                                {
                                    "SK_Cliente": "372",
                                    "IdCliente": "36",
                                    "Nome": "Pedro Santos",
                                    "Email": "pedro.santos@example.com",
                                    "Telefone": "31977777777",
                                    "DataCriacao": "2024-06-04 11:41:46.00",
                                    "DataAlteracao": "2024-06-04 11:41:46.00"
                                },
                                {
                                    "SK_Cliente": "373",
                                    "IdCliente": "37",
                                    "Nome": "Fernanda Costa",
                                    "Email": "fernanda.costa@example.com",
                                    "Telefone": "41966666666",
                                    "DataCriacao": "2024-06-04 11:41:46.00",
                                    "DataAlteracao": "2024-06-04 11:41:46.00"
                                },
                                {
                                    "SK_Cliente": "374",
                                    "IdCliente": "38",
                                    "Nome": "Lucas Martins",
                                    "Email": "lucas.martins@example.com",
                                    "Telefone": "11999999999",
                                    "DataCriacao": "2024-06-04 11:41:46.00",
                                    "DataAlteracao": "2024-06-04 11:41:46.00"
                                },
                                {
                                    "SK_Cliente": "375",
                                    "IdCliente": "39",
                                    "Nome": "Mariana Lima",
                                    "Email": "mariana.lima@example.com",
                                    "Telefone": "21988888888",
                                    "DataCriacao": "2024-06-04 11:41:46.00",
                                    "DataAlteracao": "2024-06-04 11:41:46.00"
                                },
                                {
                                    "SK_Cliente": "376",
                                    "IdCliente": "40",
                                    "Nome": "Pedro Santos",
                                    "Email": "pedro.santos@example.com",
                                    "Telefone": "31977777777",
                                    "DataCriacao": "2024-06-04 11:41:46.00",
                                    "DataAlteracao": "2024-06-04 11:41:46.00"
                                },
                                {
                                    "SK_Cliente": "377",
                                    "IdCliente": "41",
                                    "Nome": "Fernanda Costa",
                                    "Email": "fernanda.costa@example.com",
                                    "Telefone": "41966666666",
                                    "DataCriacao": "2024-06-04 11:41:46.00",
                                    "DataAlteracao": "2024-06-04 11:41:46.00"
                                },
                                {
                                    "SK_Cliente": "378",
                                    "IdCliente": "42",
                                    "Nome": "Lucas Martins",
                                    "Email": "lucas.martins@example.com",
                                    "Telefone": "11999999999",
                                    "DataCriacao": "2024-06-04 11:41:46.00",
                                    "DataAlteracao": "2024-06-04 11:41:46.00"
                                },
                                {
                                    "SK_Cliente": "379",
                                    "IdCliente": "43",
                                    "Nome": "Mariana Lima",
                                    "Email": "mariana.lima@example.com",
                                    "Telefone": "21988888888",
                                    "DataCriacao": "2024-06-04 11:41:46.00",
                                    "DataAlteracao": "2024-06-04 11:41:46.00"
                                },
                                {
                                    "SK_Cliente": "380",
                                    "IdCliente": "44",
                                    "Nome": "Pedro Santos",
                                    "Email": "pedro.santos@example.com",
                                    "Telefone": "31977777777",
                                    "DataCriacao": "2024-06-04 11:41:46.00",
                                    "DataAlteracao": "2024-06-04 11:41:46.00"
                                },
                                {
                                    "SK_Cliente": "381",
                                    "IdCliente": "45",
                                    "Nome": "Fernanda Costa",
                                    "Email": "fernanda.costa@example.com",
                                    "Telefone": "41966666666",
                                    "DataCriacao": "2024-06-04 11:41:46.00",
                                    "DataAlteracao": "2024-06-04 11:41:46.00"
                                },
                                {
                                    "SK_Cliente": "382",
                                    "IdCliente": "46",
                                    "Nome": "Lucas Martins",
                                    "Email": "lucas.martins@example.com",
                                    "Telefone": "11999999999",
                                    "DataCriacao": "2024-06-04 11:41:46.00",
                                    "DataAlteracao": "2024-06-04 11:41:46.00"
                                },
                                {
                                    "SK_Cliente": "383",
                                    "IdCliente": "47",
                                    "Nome": "Mariana Lima",
                                    "Email": "mariana.lima@example.com",
                                    "Telefone": "21988888888",
                                    "DataCriacao": "2024-06-04 11:41:46.00",
                                    "DataAlteracao": "2024-06-04 11:41:46.00"
                                },
                                {
                                    "SK_Cliente": "384",
                                    "IdCliente": "48",
                                    "Nome": "Pedro Santos",
                                    "Email": "pedro.santos@example.com",
                                    "Telefone": "31977777777",
                                    "DataCriacao": "2024-06-04 11:41:46.00",
                                    "DataAlteracao": "2024-06-04 11:41:46.00"
                                },
                                {
                                    "SK_Cliente": "385",
                                    "IdCliente": "49",
                                    "Nome": "Fernanda Costa",
                                    "Email": "fernanda.costa@example.com",
                                    "Telefone": "41966666666",
                                    "DataCriacao": "2024-06-04 11:41:46.00",
                                    "DataAlteracao": "2024-06-04 11:41:46.00"
                                },
                                {
                                    "SK_Cliente": "386",
                                    "IdCliente": "50",
                                    "Nome": "Lucas Martins",
                                    "Email": "lucas.martins@example.com",
                                    "Telefone": "11999999999",
                                    "DataCriacao": "2024-06-04 11:41:46.00",
                                    "DataAlteracao": "2024-06-04 11:41:46.00"
                                },
                                {
                                    "SK_Cliente": "387",
                                    "IdCliente": "51",
                                    "Nome": "Mariana Lima",
                                    "Email": "mariana.lima@example.com",
                                    "Telefone": "21988888888",
                                    "DataCriacao": "2024-06-04 11:41:46.00",
                                    "DataAlteracao": "2024-06-04 11:41:46.00"
                                },
                                {
                                    "SK_Cliente": "388",
                                    "IdCliente": "52",
                                    "Nome": "Pedro Santos",
                                    "Email": "pedro.santos@example.com",
                                    "Telefone": "31977777777",
                                    "DataCriacao": "2024-06-04 11:41:46.00",
                                    "DataAlteracao": "2024-06-04 11:41:46.00"
                                },
                                {
                                    "SK_Cliente": "389",
                                    "IdCliente": "53",
                                    "Nome": "Fernanda Costa",
                                    "Email": "fernanda.costa@example.com",
                                    "Telefone": "41966666666",
                                    "DataCriacao": "2024-06-04 11:41:46.00",
                                    "DataAlteracao": "2024-06-04 11:41:46.00"
                                },
                                {
                                    "SK_Cliente": "390",
                                    "IdCliente": "54",
                                    "Nome": "Lucas Martins",
                                    "Email": "lucas.martins@example.com",
                                    "Telefone": "11999999999",
                                    "DataCriacao": "2024-06-04 11:41:46.00",
                                    "DataAlteracao": "2024-06-04 11:41:46.00"
                                },
                                {
                                    "SK_Cliente": "391",
                                    "IdCliente": "55",
                                    "Nome": "Mariana Lima",
                                    "Email": "mariana.lima@example.com",
                                    "Telefone": "21988888888",
                                    "DataCriacao": "2024-06-04 11:41:46.00",
                                    "DataAlteracao": "2024-06-04 11:41:46.00"
                                },
                                {
                                    "SK_Cliente": "392",
                                    "IdCliente": "56",
                                    "Nome": "Pedro Santos",
                                    "Email": "pedro.santos@example.com",
                                    "Telefone": "31977777777",
                                    "DataCriacao": "2024-06-04 11:41:46.00",
                                    "DataAlteracao": "2024-06-04 11:41:46.00"
                                },
                                {
                                    "SK_Cliente": "393",
                                    "IdCliente": "57",
                                    "Nome": "Fernanda Costa",
                                    "Email": "fernanda.costa@example.com",
                                    "Telefone": "41966666666",
                                    "DataCriacao": "2024-06-04 11:41:46.00",
                                    "DataAlteracao": "2024-06-04 11:41:46.00"
                                },
                                {
                                    "SK_Cliente": "394",
                                    "IdCliente": "58",
                                    "Nome": "Lucas Martins",
                                    "Email": "lucas.martins@example.com",
                                    "Telefone": "11999999999",
                                    "DataCriacao": "2024-06-04 11:41:46.00",
                                    "DataAlteracao": "2024-06-04 11:41:46.00"
                                },
                                {
                                    "SK_Cliente": "395",
                                    "IdCliente": "59",
                                    "Nome": "Mariana Lima",
                                    "Email": "mariana.lima@example.com",
                                    "Telefone": "21988888888",
                                    "DataCriacao": "2024-06-04 11:41:46.00",
                                    "DataAlteracao": "2024-06-04 11:41:46.00"
                                },
                                {
                                    "SK_Cliente": "396",
                                    "IdCliente": "60",
                                    "Nome": "Pedro Santos",
                                    "Email": "pedro.santos@example.com",
                                    "Telefone": "31977777777",
                                    "DataCriacao": "2024-06-04 11:41:46.00",
                                    "DataAlteracao": "2024-06-04 11:41:46.00"
                                },
                                {
                                    "SK_Cliente": "397",
                                    "IdCliente": "61",
                                    "Nome": "Fernanda Costa",
                                    "Email": "fernanda.costa@example.com",
                                    "Telefone": "41966666666",
                                    "DataCriacao": "2024-06-04 11:41:46.00",
                                    "DataAlteracao": "2024-06-04 11:41:46.00"
                                },
                                {
                                    "SK_Cliente": "398",
                                    "IdCliente": "62",
                                    "Nome": "Lucas Martins",
                                    "Email": "lucas.martins@example.com",
                                    "Telefone": "11999999999",
                                    "DataCriacao": "2024-06-04 11:41:46.00",
                                    "DataAlteracao": "2024-06-04 11:41:46.00"
                                },
                                {
                                    "SK_Cliente": "399",
                                    "IdCliente": "63",
                                    "Nome": "Mariana Lima",
                                    "Email": "mariana.lima@example.com",
                                    "Telefone": "21988888888",
                                    "DataCriacao": "2024-06-04 11:41:46.00",
                                    "DataAlteracao": "2024-06-04 11:41:46.00"
                                },
                                {
                                    "SK_Cliente": "400",
                                    "IdCliente": "64",
                                    "Nome": "Pedro Santos",
                                    "Email": "pedro.santos@example.com",
                                    "Telefone": "31977777777",
                                    "DataCriacao": "2024-06-04 11:41:46.00",
                                    "DataAlteracao": "2024-06-04 11:41:46.00"
                                },
                                {
                                    "SK_Cliente": "401",
                                    "IdCliente": "65",
                                    "Nome": "Fernanda Costa",
                                    "Email": "fernanda.costa@example.com",
                                    "Telefone": "41966666666",
                                    "DataCriacao": "2024-06-04 11:41:46.00",
                                    "DataAlteracao": "2024-06-04 11:41:46.00"
                                },
                                {
                                    "SK_Cliente": "402",
                                    "IdCliente": "66",
                                    "Nome": "Lucas Martins",
                                    "Email": "lucas.martins@example.com",
                                    "Telefone": "11999999999",
                                    "DataCriacao": "2024-06-04 11:41:46.00",
                                    "DataAlteracao": "2024-06-04 11:41:46.00"
                                },
                                {
                                    "SK_Cliente": "403",
                                    "IdCliente": "67",
                                    "Nome": "Mariana Lima",
                                    "Email": "mariana.lima@example.com",
                                    "Telefone": "21988888888",
                                    "DataCriacao": "2024-06-04 11:41:46.00",
                                    "DataAlteracao": "2024-06-04 11:41:46.00"
                                },
                                {
                                    "SK_Cliente": "404",
                                    "IdCliente": "68",
                                    "Nome": "Pedro Santos",
                                    "Email": "pedro.santos@example.com",
                                    "Telefone": "31977777777",
                                    "DataCriacao": "2024-06-04 11:41:46.00",
                                    "DataAlteracao": "2024-06-04 11:41:46.00"
                                },
                                {
                                    "SK_Cliente": "405",
                                    "IdCliente": "69",
                                    "Nome": "Fernanda Costa",
                                    "Email": "fernanda.costa@example.com",
                                    "Telefone": "41966666666",
                                    "DataCriacao": "2024-06-04 11:41:46.00",
                                    "DataAlteracao": "2024-06-04 11:41:46.00"
                                },
                                {
                                    "SK_Cliente": "406",
                                    "IdCliente": "70",
                                    "Nome": "Lucas Martins",
                                    "Email": "lucas.martins@example.com",
                                    "Telefone": "11999999999",
                                    "DataCriacao": "2024-06-04 11:41:46.00",
                                    "DataAlteracao": "2024-06-04 11:41:46.00"
                                },
                                {
                                    "SK_Cliente": "407",
                                    "IdCliente": "71",
                                    "Nome": "Mariana Lima",
                                    "Email": "mariana.lima@example.com",
                                    "Telefone": "21988888888",
                                    "DataCriacao": "2024-06-04 11:41:46.00",
                                    "DataAlteracao": "2024-06-04 11:41:46.00"
                                },
                                {
                                    "SK_Cliente": "408",
                                    "IdCliente": "72",
                                    "Nome": "Pedro Santos",
                                    "Email": "pedro.santos@example.com",
                                    "Telefone": "31977777777",
                                    "DataCriacao": "2024-06-04 11:41:46.00",
                                    "DataAlteracao": "2024-06-04 11:41:46.00"
                                },
                                {
                                    "SK_Cliente": "409",
                                    "IdCliente": "73",
                                    "Nome": "Fernanda Costa",
                                    "Email": "fernanda.costa@example.com",
                                    "Telefone": "41966666666",
                                    "DataCriacao": "2024-06-04 11:41:46.00",
                                    "DataAlteracao": "2024-06-04 11:41:46.00"
                                },
                                {
                                    "SK_Cliente": "410",
                                    "IdCliente": "74",
                                    "Nome": "Lucas Martins",
                                    "Email": "lucas.martins@example.com",
                                    "Telefone": "11999999999",
                                    "DataCriacao": "2024-06-04 11:41:46.00",
                                    "DataAlteracao": "2024-06-04 11:41:46.00"
                                },
                                {
                                    "SK_Cliente": "411",
                                    "IdCliente": "75",
                                    "Nome": "Mariana Lima",
                                    "Email": "mariana.lima@example.com",
                                    "Telefone": "21988888888",
                                    "DataCriacao": "2024-06-04 11:41:46.00",
                                    "DataAlteracao": "2024-06-04 11:41:46.00"
                                },
                                {
                                    "SK_Cliente": "412",
                                    "IdCliente": "76",
                                    "Nome": "Pedro Santos",
                                    "Email": "pedro.santos@example.com",
                                    "Telefone": "31977777777",
                                    "DataCriacao": "2024-06-04 11:41:46.00",
                                    "DataAlteracao": "2024-06-04 11:41:46.00"
                                },
                                {
                                    "SK_Cliente": "413",
                                    "IdCliente": "77",
                                    "Nome": "Fernanda Costa",
                                    "Email": "fernanda.costa@example.com",
                                    "Telefone": "41966666666",
                                    "DataCriacao": "2024-06-04 11:41:46.00",
                                    "DataAlteracao": "2024-06-04 11:41:46.00"
                                },
                                {
                                    "SK_Cliente": "414",
                                    "IdCliente": "78",
                                    "Nome": "Lucas Martins",
                                    "Email": "lucas.martins@example.com",
                                    "Telefone": "11999999999",
                                    "DataCriacao": "2024-06-04 11:41:46.00",
                                    "DataAlteracao": "2024-06-04 11:41:46.00"
                                },
                                {
                                    "SK_Cliente": "415",
                                    "IdCliente": "79",
                                    "Nome": "Mariana Lima",
                                    "Email": "mariana.lima@example.com",
                                    "Telefone": "21988888888",
                                    "DataCriacao": "2024-06-04 11:41:46.00",
                                    "DataAlteracao": "2024-06-04 11:41:46.00"
                                },
                                {
                                    "SK_Cliente": "416",
                                    "IdCliente": "80",
                                    "Nome": "Pedro Santos",
                                    "Email": "pedro.santos@example.com",
                                    "Telefone": "31977777777",
                                    "DataCriacao": "2024-06-04 11:41:46.00",
                                    "DataAlteracao": "2024-06-04 11:41:46.00"
                                },
                                {
                                    "SK_Cliente": "417",
                                    "IdCliente": "81",
                                    "Nome": "Fernanda Costa",
                                    "Email": "fernanda.costa@example.com",
                                    "Telefone": "41966666666",
                                    "DataCriacao": "2024-06-04 11:41:46.00",
                                    "DataAlteracao": "2024-06-04 11:41:46.00"
                                },
                                {
                                    "SK_Cliente": "418",
                                    "IdCliente": "82",
                                    "Nome": "Lucas Martins",
                                    "Email": "lucas.martins@example.com",
                                    "Telefone": "11999999999",
                                    "DataCriacao": "2024-06-04 11:41:46.00",
                                    "DataAlteracao": "2024-06-04 11:41:46.00"
                                },
                                {
                                    "SK_Cliente": "419",
                                    "IdCliente": "83",
                                    "Nome": "Mariana Lima",
                                    "Email": "mariana.lima@example.com",
                                    "Telefone": "21988888888",
                                    "DataCriacao": "2024-06-04 11:41:46.00",
                                    "DataAlteracao": "2024-06-04 11:41:46.00"
                                },
                                {
                                    "SK_Cliente": "420",
                                    "IdCliente": "84",
                                    "Nome": "Pedro Santos",
                                    "Email": "pedro.santos@example.com",
                                    "Telefone": "31977777777",
                                    "DataCriacao": "2024-06-04 11:41:46.00",
                                    "DataAlteracao": "2024-06-04 11:41:46.00"
                                },
                                {
                                    "SK_Cliente": "421",
                                    "IdCliente": "85",
                                    "Nome": "Fernanda Costa",
                                    "Email": "fernanda.costa@example.com",
                                    "Telefone": "41966666666",
                                    "DataCriacao": "2024-06-04 11:41:46.00",
                                    "DataAlteracao": "2024-06-04 11:41:46.00"
                                },
                                {
                                    "SK_Cliente": "422",
                                    "IdCliente": "1050",
                                    "Nome": "Lucas Martins",
                                    "Email": "lucas.martins@example.com",
                                    "Telefone": "11999999999",
                                    "DataCriacao": "2024-06-04 11:41:46.00",
                                    "DataAlteracao": "2024-06-04 11:41:46.00"
                                },
                                {
                                    "SK_Cliente": "423",
                                    "IdCliente": "1051",
                                    "Nome": "Mariana Lima",
                                    "Email": "mariana.lima@example.com",
                                    "Telefone": "21988888888",
                                    "DataCriacao": "2024-06-04 11:41:46.00",
                                    "DataAlteracao": "2024-06-04 11:41:46.00"
                                },
                                {
                                    "SK_Cliente": "424",
                                    "IdCliente": "1052",
                                    "Nome": "Pedro Santos",
                                    "Email": "pedro.santos@example.com",
                                    "Telefone": "31977777777",
                                    "DataCriacao": "2024-06-04 11:41:46.00",
                                    "DataAlteracao": "2024-06-04 11:41:46.00"
                                },
                                {
                                    "SK_Cliente": "425",
                                    "IdCliente": "1053",
                                    "Nome": "Fernanda Costa",
                                    "Email": "fernanda.costa@example.com",
                                    "Telefone": "41966666666",
                                    "DataCriacao": "2024-06-04 11:41:46.00",
                                    "DataAlteracao": "2024-06-04 11:41:46.00"
                                },
                                {
                                    "SK_Cliente": "426",
                                    "IdCliente": "1054",
                                    "Nome": "Lucas Martins",
                                    "Email": "lucas.martins@example.com",
                                    "Telefone": "11999999999",
                                    "DataCriacao": "2024-06-04 11:41:46.00",
                                    "DataAlteracao": "2024-06-04 11:41:46.00"
                                },
                                {
                                    "SK_Cliente": "427",
                                    "IdCliente": "1055",
                                    "Nome": "Mariana Lima",
                                    "Email": "mariana.lima@example.com",
                                    "Telefone": "21988888888",
                                    "DataCriacao": "2024-06-04 11:41:46.00",
                                    "DataAlteracao": "2024-06-04 11:41:46.00"
                                },
                                {
                                    "SK_Cliente": "428",
                                    "IdCliente": "1056",
                                    "Nome": "Pedro Santos",
                                    "Email": "pedro.santos@example.com",
                                    "Telefone": "31977777777",
                                    "DataCriacao": "2024-06-04 11:41:46.00",
                                    "DataAlteracao": "2024-06-04 11:41:46.00"
                                },
                                {
                                    "SK_Cliente": "429",
                                    "IdCliente": "1057",
                                    "Nome": "Fernanda Costa",
                                    "Email": "fernanda.costa@example.com",
                                    "Telefone": "41966666666",
                                    "DataCriacao": "2024-06-04 11:41:46.00",
                                    "DataAlteracao": "2024-06-04 11:41:46.00"
                                },
                                {
                                    "SK_Cliente": "430",
                                    "IdCliente": "1058",
                                    "Nome": "Lucas Martins",
                                    "Email": "lucas.martins@example.com",
                                    "Telefone": "11999999999",
                                    "DataCriacao": "2024-06-04 11:41:46.00",
                                    "DataAlteracao": "2024-06-04 11:41:46.00"
                                },
                                {
                                    "SK_Cliente": "431",
                                    "IdCliente": "1059",
                                    "Nome": "Mariana Lima",
                                    "Email": "mariana.lima@example.com",
                                    "Telefone": "21988888888",
                                    "DataCriacao": "2024-06-04 11:41:46.00",
                                    "DataAlteracao": "2024-06-04 11:41:46.00"
                                },
                                {
                                    "SK_Cliente": "432",
                                    "IdCliente": "1060",
                                    "Nome": "Pedro Santos",
                                    "Email": "pedro.santos@example.com",
                                    "Telefone": "31977777777",
                                    "DataCriacao": "2024-06-04 11:41:46.00",
                                    "DataAlteracao": "2024-06-04 11:41:46.00"
                                },
                                {
                                    "SK_Cliente": "433",
                                    "IdCliente": "1061",
                                    "Nome": "Fernanda Costa",
                                    "Email": "fernanda.costa@example.com",
                                    "Telefone": "41966666666",
                                    "DataCriacao": "2024-06-04 11:41:46.00",
                                    "DataAlteracao": "2024-06-04 11:41:46.00"
                                },
                                {
                                    "SK_Cliente": "434",
                                    "IdCliente": "1062",
                                    "Nome": "Lucas Martins",
                                    "Email": "lucas.martins@example.com",
                                    "Telefone": "11999999999",
                                    "DataCriacao": "2024-06-04 11:41:46.00",
                                    "DataAlteracao": "2024-06-04 11:41:46.00"
                                },
                                {
                                    "SK_Cliente": "435",
                                    "IdCliente": "1063",
                                    "Nome": "Mariana Lima",
                                    "Email": "mariana.lima@example.com",
                                    "Telefone": "21988888888",
                                    "DataCriacao": "2024-06-04 11:41:46.00",
                                    "DataAlteracao": "2024-06-04 11:41:46.00"
                                },
                                {
                                    "SK_Cliente": "436",
                                    "IdCliente": "1064",
                                    "Nome": "Pedro Santos",
                                    "Email": "pedro.santos@example.com",
                                    "Telefone": "31977777777",
                                    "DataCriacao": "2024-06-04 11:41:46.00",
                                    "DataAlteracao": "2024-06-04 11:41:46.00"
                                },
                                {
                                    "SK_Cliente": "437",
                                    "IdCliente": "1065",
                                    "Nome": "Fernanda Costa",
                                    "Email": "fernanda.costa@example.com",
                                    "Telefone": "41966666666",
                                    "DataCriacao": "2024-06-04 11:41:46.00",
                                    "DataAlteracao": "2024-06-04 11:41:46.00"
                                },
                                {
                                    "SK_Cliente": "438",
                                    "IdCliente": "1066",
                                    "Nome": "Lucas Martins",
                                    "Email": "lucas.martins@example.com",
                                    "Telefone": "11999999999",
                                    "DataCriacao": "2024-06-04 11:41:46.00",
                                    "DataAlteracao": "2024-06-04 11:41:46.00"
                                },
                                {
                                    "SK_Cliente": "439",
                                    "IdCliente": "1067",
                                    "Nome": "Mariana Lima",
                                    "Email": "mariana.lima@example.com",
                                    "Telefone": "21988888888",
                                    "DataCriacao": "2024-06-04 11:41:46.00",
                                    "DataAlteracao": "2024-06-04 11:41:46.00"
                                },
                                {
                                    "SK_Cliente": "440",
                                    "IdCliente": "1068",
                                    "Nome": "Pedro Santos",
                                    "Email": "pedro.santos@example.com",
                                    "Telefone": "31977777777",
                                    "DataCriacao": "2024-06-04 11:41:46.00",
                                    "DataAlteracao": "2024-06-04 11:41:46.00"
                                },
                                {
                                    "SK_Cliente": "441",
                                    "IdCliente": "1069",
                                    "Nome": "Fernanda Costa",
                                    "Email": "fernanda.costa@example.com",
                                    "Telefone": "41966666666",
                                    "DataCriacao": "2024-06-04 11:41:46.00",
                                    "DataAlteracao": "2024-06-04 11:41:46.00"
                                },
                                {
                                    "SK_Cliente": "442",
                                    "IdCliente": "1070",
                                    "Nome": "Lucas Martins",
                                    "Email": "lucas.martins@example.com",
                                    "Telefone": "11999999999",
                                    "DataCriacao": "2024-06-04 11:41:46.00",
                                    "DataAlteracao": "2024-06-04 11:41:46.00"
                                },
                                {
                                    "SK_Cliente": "443",
                                    "IdCliente": "1071",
                                    "Nome": "Mariana Lima",
                                    "Email": "mariana.lima@example.com",
                                    "Telefone": "21988888888",
                                    "DataCriacao": "2024-06-04 11:41:46.00",
                                    "DataAlteracao": "2024-06-04 11:41:46.00"
                                },
                                {
                                    "SK_Cliente": "444",
                                    "IdCliente": "1072",
                                    "Nome": "Pedro Santos",
                                    "Email": "pedro.santos@example.com",
                                    "Telefone": "31977777777",
                                    "DataCriacao": "2024-06-04 11:41:46.00",
                                    "DataAlteracao": "2024-06-04 11:41:46.00"
                                },
                                {
                                    "SK_Cliente": "445",
                                    "IdCliente": "1073",
                                    "Nome": "Fernanda Costa",
                                    "Email": "fernanda.costa@example.com",
                                    "Telefone": "41966666666",
                                    "DataCriacao": "2024-06-04 11:41:46.00",
                                    "DataAlteracao": "2024-06-04 11:41:46.00"
                                },
                                {
                                    "SK_Cliente": "446",
                                    "IdCliente": "1074",
                                    "Nome": "Lucas Martins",
                                    "Email": "lucas.martins@example.com",
                                    "Telefone": "11999999999",
                                    "DataCriacao": "2024-06-04 11:41:46.00",
                                    "DataAlteracao": "2024-06-04 11:41:46.00"
                                },
                                {
                                    "SK_Cliente": "447",
                                    "IdCliente": "1075",
                                    "Nome": "Mariana Lima",
                                    "Email": "mariana.lima@example.com",
                                    "Telefone": "21988888888",
                                    "DataCriacao": "2024-06-04 11:41:46.00",
                                    "DataAlteracao": "2024-06-04 11:41:46.00"
                                },
                                {
                                    "SK_Cliente": "448",
                                    "IdCliente": "1076",
                                    "Nome": "Pedro Santos",
                                    "Email": "pedro.santos@example.com",
                                    "Telefone": "31977777777",
                                    "DataCriacao": "2024-06-04 11:41:46.00",
                                    "DataAlteracao": "2024-06-04 11:41:46.00"
                                },
                                {
                                    "SK_Cliente": "449",
                                    "IdCliente": "1077",
                                    "Nome": "Fernanda Costa",
                                    "Email": "fernanda.costa@example.com",
                                    "Telefone": "41966666666",
                                    "DataCriacao": "2024-06-04 11:41:46.00",
                                    "DataAlteracao": "2024-06-04 11:41:46.00"
                                },
                                {
                                    "SK_Cliente": "450",
                                    "IdCliente": "1",
                                    "Nome": "Lucas Martins",
                                    "Email": "lucas.martins@example.com",
                                    "Telefone": "11999999999",
                                    "DataCriacao": "2024-06-04 11:57:34.00",
                                    "DataAlteracao": "2024-06-04 11:57:34.00"
                                },
                                {
                                    "SK_Cliente": "451",
                                    "IdCliente": "2",
                                    "Nome": "Mariana Lima",
                                    "Email": "mariana.lima@example.com",
                                    "Telefone": "21988888888",
                                    "DataCriacao": "2024-06-04 11:57:34.00",
                                    "DataAlteracao": "2024-06-04 11:57:34.00"
                                },
                                {
                                    "SK_Cliente": "452",
                                    "IdCliente": "3",
                                    "Nome": "Pedro Santos",
                                    "Email": "pedro.santos@example.com",
                                    "Telefone": "31977777777",
                                    "DataCriacao": "2024-06-04 11:57:34.00",
                                    "DataAlteracao": "2024-06-04 11:57:34.00"
                                },
                                {
                                    "SK_Cliente": "453",
                                    "IdCliente": "4",
                                    "Nome": "Fernanda Costa",
                                    "Email": "fernanda.costa@example.com",
                                    "Telefone": "41966666666",
                                    "DataCriacao": "2024-06-04 11:57:34.00",
                                    "DataAlteracao": "2024-06-04 11:57:34.00"
                                },
                                {
                                    "SK_Cliente": "454",
                                    "IdCliente": "6",
                                    "Nome": "Lucas Martins",
                                    "Email": "lucas.martins@example.com",
                                    "Telefone": "11999999999",
                                    "DataCriacao": "2024-06-04 11:57:34.00",
                                    "DataAlteracao": "2024-06-04 11:57:34.00"
                                },
                                {
                                    "SK_Cliente": "455",
                                    "IdCliente": "7",
                                    "Nome": "Mariana Lima",
                                    "Email": "mariana.lima@example.com",
                                    "Telefone": "21988888888",
                                    "DataCriacao": "2024-06-04 11:57:34.00",
                                    "DataAlteracao": "2024-06-04 11:57:34.00"
                                },
                                {
                                    "SK_Cliente": "456",
                                    "IdCliente": "8",
                                    "Nome": "Pedro Santos",
                                    "Email": "pedro.santos@example.com",
                                    "Telefone": "31977777777",
                                    "DataCriacao": "2024-06-04 11:57:34.00",
                                    "DataAlteracao": "2024-06-04 11:57:34.00"
                                },
                                {
                                    "SK_Cliente": "457",
                                    "IdCliente": "9",
                                    "Nome": "Fernanda Costa",
                                    "Email": "fernanda.costa@example.com",
                                    "Telefone": "41966666666",
                                    "DataCriacao": "2024-06-04 11:57:34.00",
                                    "DataAlteracao": "2024-06-04 11:57:34.00"
                                },
                                {
                                    "SK_Cliente": "458",
                                    "IdCliente": "10",
                                    "Nome": "Lucas Martins",
                                    "Email": "lucas.martins@example.com",
                                    "Telefone": "11999999999",
                                    "DataCriacao": "2024-06-04 11:57:34.00",
                                    "DataAlteracao": "2024-06-04 11:57:34.00"
                                },
                                {
                                    "SK_Cliente": "459",
                                    "IdCliente": "11",
                                    "Nome": "Mariana Lima",
                                    "Email": "mariana.lima@example.com",
                                    "Telefone": "21988888888",
                                    "DataCriacao": "2024-06-04 11:57:34.00",
                                    "DataAlteracao": "2024-06-04 11:57:34.00"
                                },
                                {
                                    "SK_Cliente": "460",
                                    "IdCliente": "12",
                                    "Nome": "Pedro Santos",
                                    "Email": "pedro.santos@example.com",
                                    "Telefone": "31977777777",
                                    "DataCriacao": "2024-06-04 11:57:34.00",
                                    "DataAlteracao": "2024-06-04 11:57:34.00"
                                },
                                {
                                    "SK_Cliente": "461",
                                    "IdCliente": "13",
                                    "Nome": "Fernanda Costa",
                                    "Email": "fernanda.costa@example.com",
                                    "Telefone": "41966666666",
                                    "DataCriacao": "2024-06-04 11:57:34.00",
                                    "DataAlteracao": "2024-06-04 11:57:34.00"
                                },
                                {
                                    "SK_Cliente": "462",
                                    "IdCliente": "14",
                                    "Nome": "Lucas Martins",
                                    "Email": "lucas.martins@example.com",
                                    "Telefone": "11999999999",
                                    "DataCriacao": "2024-06-04 11:57:34.00",
                                    "DataAlteracao": "2024-06-04 11:57:34.00"
                                },
                                {
                                    "SK_Cliente": "463",
                                    "IdCliente": "15",
                                    "Nome": "Mariana Lima",
                                    "Email": "mariana.lima@example.com",
                                    "Telefone": "21988888888",
                                    "DataCriacao": "2024-06-04 11:57:34.00",
                                    "DataAlteracao": "2024-06-04 11:57:34.00"
                                },
                                {
                                    "SK_Cliente": "464",
                                    "IdCliente": "16",
                                    "Nome": "Pedro Santos",
                                    "Email": "pedro.santos@example.com",
                                    "Telefone": "31977777777",
                                    "DataCriacao": "2024-06-04 11:57:34.00",
                                    "DataAlteracao": "2024-06-04 11:57:34.00"
                                },
                                {
                                    "SK_Cliente": "465",
                                    "IdCliente": "17",
                                    "Nome": "Fernanda Costa",
                                    "Email": "fernanda.costa@example.com",
                                    "Telefone": "41966666666",
                                    "DataCriacao": "2024-06-04 11:57:34.00",
                                    "DataAlteracao": "2024-06-04 11:57:34.00"
                                },
                                {
                                    "SK_Cliente": "466",
                                    "IdCliente": "18",
                                    "Nome": "Lucas Martins",
                                    "Email": "lucas.martins@example.com",
                                    "Telefone": "11999999999",
                                    "DataCriacao": "2024-06-04 11:57:34.00",
                                    "DataAlteracao": "2024-06-04 11:57:34.00"
                                },
                                {
                                    "SK_Cliente": "467",
                                    "IdCliente": "19",
                                    "Nome": "Mariana Lima",
                                    "Email": "mariana.lima@example.com",
                                    "Telefone": "21988888888",
                                    "DataCriacao": "2024-06-04 11:57:34.00",
                                    "DataAlteracao": "2024-06-04 11:57:34.00"
                                },
                                {
                                    "SK_Cliente": "468",
                                    "IdCliente": "20",
                                    "Nome": "Pedro Santos",
                                    "Email": "pedro.santos@example.com",
                                    "Telefone": "31977777777",
                                    "DataCriacao": "2024-06-04 11:57:34.00",
                                    "DataAlteracao": "2024-06-04 11:57:34.00"
                                },
                                {
                                    "SK_Cliente": "469",
                                    "IdCliente": "21",
                                    "Nome": "Fernanda Costa",
                                    "Email": "fernanda.costa@example.com",
                                    "Telefone": "41966666666",
                                    "DataCriacao": "2024-06-04 11:57:34.00",
                                    "DataAlteracao": "2024-06-04 11:57:34.00"
                                },
                                {
                                    "SK_Cliente": "470",
                                    "IdCliente": "22",
                                    "Nome": "Lucas Martins",
                                    "Email": "lucas.martins@example.com",
                                    "Telefone": "11999999999",
                                    "DataCriacao": "2024-06-04 11:57:34.00",
                                    "DataAlteracao": "2024-06-04 11:57:34.00"
                                },
                                {
                                    "SK_Cliente": "471",
                                    "IdCliente": "23",
                                    "Nome": "Mariana Lima",
                                    "Email": "mariana.lima@example.com",
                                    "Telefone": "21988888888",
                                    "DataCriacao": "2024-06-04 11:57:34.00",
                                    "DataAlteracao": "2024-06-04 11:57:34.00"
                                },
                                {
                                    "SK_Cliente": "472",
                                    "IdCliente": "24",
                                    "Nome": "Pedro Santos",
                                    "Email": "pedro.santos@example.com",
                                    "Telefone": "31977777777",
                                    "DataCriacao": "2024-06-04 11:57:34.00",
                                    "DataAlteracao": "2024-06-04 11:57:34.00"
                                },
                                {
                                    "SK_Cliente": "473",
                                    "IdCliente": "25",
                                    "Nome": "Fernanda Costa",
                                    "Email": "fernanda.costa@example.com",
                                    "Telefone": "41966666666",
                                    "DataCriacao": "2024-06-04 11:57:34.00",
                                    "DataAlteracao": "2024-06-04 11:57:34.00"
                                },
                                {
                                    "SK_Cliente": "474",
                                    "IdCliente": "26",
                                    "Nome": "Lucas Martins",
                                    "Email": "lucas.martins@example.com",
                                    "Telefone": "11999999999",
                                    "DataCriacao": "2024-06-04 11:57:34.00",
                                    "DataAlteracao": "2024-06-04 11:57:34.00"
                                },
                                {
                                    "SK_Cliente": "475",
                                    "IdCliente": "27",
                                    "Nome": "Mariana Lima",
                                    "Email": "mariana.lima@example.com",
                                    "Telefone": "21988888888",
                                    "DataCriacao": "2024-06-04 11:57:34.00",
                                    "DataAlteracao": "2024-06-04 11:57:34.00"
                                },
                                {
                                    "SK_Cliente": "476",
                                    "IdCliente": "28",
                                    "Nome": "Pedro Santos",
                                    "Email": "pedro.santos@example.com",
                                    "Telefone": "31977777777",
                                    "DataCriacao": "2024-06-04 11:57:34.00",
                                    "DataAlteracao": "2024-06-04 11:57:34.00"
                                },
                                {
                                    "SK_Cliente": "477",
                                    "IdCliente": "29",
                                    "Nome": "Fernanda Costa",
                                    "Email": "fernanda.costa@example.com",
                                    "Telefone": "41966666666",
                                    "DataCriacao": "2024-06-04 11:57:34.00",
                                    "DataAlteracao": "2024-06-04 11:57:34.00"
                                },
                                {
                                    "SK_Cliente": "478",
                                    "IdCliente": "30",
                                    "Nome": "Lucas Martins",
                                    "Email": "lucas.martins@example.com",
                                    "Telefone": "11999999999",
                                    "DataCriacao": "2024-06-04 11:57:34.00",
                                    "DataAlteracao": "2024-06-04 11:57:34.00"
                                },
                                {
                                    "SK_Cliente": "479",
                                    "IdCliente": "31",
                                    "Nome": "Mariana Lima",
                                    "Email": "mariana.lima@example.com",
                                    "Telefone": "21988888888",
                                    "DataCriacao": "2024-06-04 11:57:34.00",
                                    "DataAlteracao": "2024-06-04 11:57:34.00"
                                },
                                {
                                    "SK_Cliente": "480",
                                    "IdCliente": "32",
                                    "Nome": "Pedro Santos",
                                    "Email": "pedro.santos@example.com",
                                    "Telefone": "31977777777",
                                    "DataCriacao": "2024-06-04 11:57:34.00",
                                    "DataAlteracao": "2024-06-04 11:57:34.00"
                                },
                                {
                                    "SK_Cliente": "481",
                                    "IdCliente": "33",
                                    "Nome": "Fernanda Costa",
                                    "Email": "fernanda.costa@example.com",
                                    "Telefone": "41966666666",
                                    "DataCriacao": "2024-06-04 11:57:34.00",
                                    "DataAlteracao": "2024-06-04 11:57:34.00"
                                },
                                {
                                    "SK_Cliente": "482",
                                    "IdCliente": "34",
                                    "Nome": "Lucas Martins",
                                    "Email": "lucas.martins@example.com",
                                    "Telefone": "11999999999",
                                    "DataCriacao": "2024-06-04 11:57:34.00",
                                    "DataAlteracao": "2024-06-04 11:57:34.00"
                                },
                                {
                                    "SK_Cliente": "483",
                                    "IdCliente": "35",
                                    "Nome": "Mariana Lima",
                                    "Email": "mariana.lima@example.com",
                                    "Telefone": "21988888888",
                                    "DataCriacao": "2024-06-04 11:57:34.00",
                                    "DataAlteracao": "2024-06-04 11:57:34.00"
                                },
                                {
                                    "SK_Cliente": "484",
                                    "IdCliente": "36",
                                    "Nome": "Pedro Santos",
                                    "Email": "pedro.santos@example.com",
                                    "Telefone": "31977777777",
                                    "DataCriacao": "2024-06-04 11:57:34.00",
                                    "DataAlteracao": "2024-06-04 11:57:34.00"
                                },
                                {
                                    "SK_Cliente": "485",
                                    "IdCliente": "37",
                                    "Nome": "Fernanda Costa",
                                    "Email": "fernanda.costa@example.com",
                                    "Telefone": "41966666666",
                                    "DataCriacao": "2024-06-04 11:57:34.00",
                                    "DataAlteracao": "2024-06-04 11:57:34.00"
                                },
                                {
                                    "SK_Cliente": "486",
                                    "IdCliente": "38",
                                    "Nome": "Lucas Martins",
                                    "Email": "lucas.martins@example.com",
                                    "Telefone": "11999999999",
                                    "DataCriacao": "2024-06-04 11:57:34.00",
                                    "DataAlteracao": "2024-06-04 11:57:34.00"
                                },
                                {
                                    "SK_Cliente": "487",
                                    "IdCliente": "39",
                                    "Nome": "Mariana Lima",
                                    "Email": "mariana.lima@example.com",
                                    "Telefone": "21988888888",
                                    "DataCriacao": "2024-06-04 11:57:34.00",
                                    "DataAlteracao": "2024-06-04 11:57:34.00"
                                },
                                {
                                    "SK_Cliente": "488",
                                    "IdCliente": "40",
                                    "Nome": "Pedro Santos",
                                    "Email": "pedro.santos@example.com",
                                    "Telefone": "31977777777",
                                    "DataCriacao": "2024-06-04 11:57:34.00",
                                    "DataAlteracao": "2024-06-04 11:57:34.00"
                                },
                                {
                                    "SK_Cliente": "489",
                                    "IdCliente": "41",
                                    "Nome": "Fernanda Costa",
                                    "Email": "fernanda.costa@example.com",
                                    "Telefone": "41966666666",
                                    "DataCriacao": "2024-06-04 11:57:34.00",
                                    "DataAlteracao": "2024-06-04 11:57:34.00"
                                },
                                {
                                    "SK_Cliente": "490",
                                    "IdCliente": "42",
                                    "Nome": "Lucas Martins",
                                    "Email": "lucas.martins@example.com",
                                    "Telefone": "11999999999",
                                    "DataCriacao": "2024-06-04 11:57:34.00",
                                    "DataAlteracao": "2024-06-04 11:57:34.00"
                                },
                                {
                                    "SK_Cliente": "491",
                                    "IdCliente": "43",
                                    "Nome": "Mariana Lima",
                                    "Email": "mariana.lima@example.com",
                                    "Telefone": "21988888888",
                                    "DataCriacao": "2024-06-04 11:57:34.00",
                                    "DataAlteracao": "2024-06-04 11:57:34.00"
                                },
                                {
                                    "SK_Cliente": "492",
                                    "IdCliente": "44",
                                    "Nome": "Pedro Santos",
                                    "Email": "pedro.santos@example.com",
                                    "Telefone": "31977777777",
                                    "DataCriacao": "2024-06-04 11:57:34.00",
                                    "DataAlteracao": "2024-06-04 11:57:34.00"
                                },
                                {
                                    "SK_Cliente": "493",
                                    "IdCliente": "45",
                                    "Nome": "Fernanda Costa",
                                    "Email": "fernanda.costa@example.com",
                                    "Telefone": "41966666666",
                                    "DataCriacao": "2024-06-04 11:57:34.00",
                                    "DataAlteracao": "2024-06-04 11:57:34.00"
                                },
                                {
                                    "SK_Cliente": "494",
                                    "IdCliente": "46",
                                    "Nome": "Lucas Martins",
                                    "Email": "lucas.martins@example.com",
                                    "Telefone": "11999999999",
                                    "DataCriacao": "2024-06-04 11:57:34.00",
                                    "DataAlteracao": "2024-06-04 11:57:34.00"
                                },
                                {
                                    "SK_Cliente": "495",
                                    "IdCliente": "47",
                                    "Nome": "Mariana Lima",
                                    "Email": "mariana.lima@example.com",
                                    "Telefone": "21988888888",
                                    "DataCriacao": "2024-06-04 11:57:34.00",
                                    "DataAlteracao": "2024-06-04 11:57:34.00"
                                },
                                {
                                    "SK_Cliente": "496",
                                    "IdCliente": "48",
                                    "Nome": "Pedro Santos",
                                    "Email": "pedro.santos@example.com",
                                    "Telefone": "31977777777",
                                    "DataCriacao": "2024-06-04 11:57:34.00",
                                    "DataAlteracao": "2024-06-04 11:57:34.00"
                                },
                                {
                                    "SK_Cliente": "497",
                                    "IdCliente": "49",
                                    "Nome": "Fernanda Costa",
                                    "Email": "fernanda.costa@example.com",
                                    "Telefone": "41966666666",
                                    "DataCriacao": "2024-06-04 11:57:34.00",
                                    "DataAlteracao": "2024-06-04 11:57:34.00"
                                },
                                {
                                    "SK_Cliente": "498",
                                    "IdCliente": "50",
                                    "Nome": "Lucas Martins",
                                    "Email": "lucas.martins@example.com",
                                    "Telefone": "11999999999",
                                    "DataCriacao": "2024-06-04 11:57:34.00",
                                    "DataAlteracao": "2024-06-04 11:57:34.00"
                                },
                                {
                                    "SK_Cliente": "499",
                                    "IdCliente": "51",
                                    "Nome": "Mariana Lima",
                                    "Email": "mariana.lima@example.com",
                                    "Telefone": "21988888888",
                                    "DataCriacao": "2024-06-04 11:57:34.00",
                                    "DataAlteracao": "2024-06-04 11:57:34.00"
                                },
                                {
                                    "SK_Cliente": "500",
                                    "IdCliente": "52",
                                    "Nome": "Pedro Santos",
                                    "Email": "pedro.santos@example.com",
                                    "Telefone": "31977777777",
                                    "DataCriacao": "2024-06-04 11:57:34.00",
                                    "DataAlteracao": "2024-06-04 11:57:34.00"
                                },
                                {
                                    "SK_Cliente": "501",
                                    "IdCliente": "53",
                                    "Nome": "Fernanda Costa",
                                    "Email": "fernanda.costa@example.com",
                                    "Telefone": "41966666666",
                                    "DataCriacao": "2024-06-04 11:57:34.00",
                                    "DataAlteracao": "2024-06-04 11:57:34.00"
                                },
                                {
                                    "SK_Cliente": "502",
                                    "IdCliente": "54",
                                    "Nome": "Lucas Martins",
                                    "Email": "lucas.martins@example.com",
                                    "Telefone": "11999999999",
                                    "DataCriacao": "2024-06-04 11:57:34.00",
                                    "DataAlteracao": "2024-06-04 11:57:34.00"
                                },
                                {
                                    "SK_Cliente": "503",
                                    "IdCliente": "55",
                                    "Nome": "Mariana Lima",
                                    "Email": "mariana.lima@example.com",
                                    "Telefone": "21988888888",
                                    "DataCriacao": "2024-06-04 11:57:34.00",
                                    "DataAlteracao": "2024-06-04 11:57:34.00"
                                },
                                {
                                    "SK_Cliente": "504",
                                    "IdCliente": "56",
                                    "Nome": "Pedro Santos",
                                    "Email": "pedro.santos@example.com",
                                    "Telefone": "31977777777",
                                    "DataCriacao": "2024-06-04 11:57:34.00",
                                    "DataAlteracao": "2024-06-04 11:57:34.00"
                                },
                                {
                                    "SK_Cliente": "505",
                                    "IdCliente": "57",
                                    "Nome": "Fernanda Costa",
                                    "Email": "fernanda.costa@example.com",
                                    "Telefone": "41966666666",
                                    "DataCriacao": "2024-06-04 11:57:34.00",
                                    "DataAlteracao": "2024-06-04 11:57:34.00"
                                },
                                {
                                    "SK_Cliente": "506",
                                    "IdCliente": "58",
                                    "Nome": "Lucas Martins",
                                    "Email": "lucas.martins@example.com",
                                    "Telefone": "11999999999",
                                    "DataCriacao": "2024-06-04 11:57:34.00",
                                    "DataAlteracao": "2024-06-04 11:57:34.00"
                                },
                                {
                                    "SK_Cliente": "507",
                                    "IdCliente": "59",
                                    "Nome": "Mariana Lima",
                                    "Email": "mariana.lima@example.com",
                                    "Telefone": "21988888888",
                                    "DataCriacao": "2024-06-04 11:57:34.00",
                                    "DataAlteracao": "2024-06-04 11:57:34.00"
                                },
                                {
                                    "SK_Cliente": "508",
                                    "IdCliente": "60",
                                    "Nome": "Pedro Santos",
                                    "Email": "pedro.santos@example.com",
                                    "Telefone": "31977777777",
                                    "DataCriacao": "2024-06-04 11:57:34.00",
                                    "DataAlteracao": "2024-06-04 11:57:34.00"
                                },
                                {
                                    "SK_Cliente": "509",
                                    "IdCliente": "61",
                                    "Nome": "Fernanda Costa",
                                    "Email": "fernanda.costa@example.com",
                                    "Telefone": "41966666666",
                                    "DataCriacao": "2024-06-04 11:57:34.00",
                                    "DataAlteracao": "2024-06-04 11:57:34.00"
                                },
                                {
                                    "SK_Cliente": "510",
                                    "IdCliente": "62",
                                    "Nome": "Lucas Martins",
                                    "Email": "lucas.martins@example.com",
                                    "Telefone": "11999999999",
                                    "DataCriacao": "2024-06-04 11:57:34.00",
                                    "DataAlteracao": "2024-06-04 11:57:34.00"
                                },
                                {
                                    "SK_Cliente": "511",
                                    "IdCliente": "63",
                                    "Nome": "Mariana Lima",
                                    "Email": "mariana.lima@example.com",
                                    "Telefone": "21988888888",
                                    "DataCriacao": "2024-06-04 11:57:34.00",
                                    "DataAlteracao": "2024-06-04 11:57:34.00"
                                },
                                {
                                    "SK_Cliente": "512",
                                    "IdCliente": "64",
                                    "Nome": "Pedro Santos",
                                    "Email": "pedro.santos@example.com",
                                    "Telefone": "31977777777",
                                    "DataCriacao": "2024-06-04 11:57:34.00",
                                    "DataAlteracao": "2024-06-04 11:57:34.00"
                                },
                                {
                                    "SK_Cliente": "513",
                                    "IdCliente": "65",
                                    "Nome": "Fernanda Costa",
                                    "Email": "fernanda.costa@example.com",
                                    "Telefone": "41966666666",
                                    "DataCriacao": "2024-06-04 11:57:34.00",
                                    "DataAlteracao": "2024-06-04 11:57:34.00"
                                },
                                {
                                    "SK_Cliente": "514",
                                    "IdCliente": "66",
                                    "Nome": "Lucas Martins",
                                    "Email": "lucas.martins@example.com",
                                    "Telefone": "11999999999",
                                    "DataCriacao": "2024-06-04 11:57:34.00",
                                    "DataAlteracao": "2024-06-04 11:57:34.00"
                                },
                                {
                                    "SK_Cliente": "515",
                                    "IdCliente": "67",
                                    "Nome": "Mariana Lima",
                                    "Email": "mariana.lima@example.com",
                                    "Telefone": "21988888888",
                                    "DataCriacao": "2024-06-04 11:57:34.00",
                                    "DataAlteracao": "2024-06-04 11:57:34.00"
                                },
                                {
                                    "SK_Cliente": "516",
                                    "IdCliente": "68",
                                    "Nome": "Pedro Santos",
                                    "Email": "pedro.santos@example.com",
                                    "Telefone": "31977777777",
                                    "DataCriacao": "2024-06-04 11:57:34.00",
                                    "DataAlteracao": "2024-06-04 11:57:34.00"
                                },
                                {
                                    "SK_Cliente": "517",
                                    "IdCliente": "69",
                                    "Nome": "Fernanda Costa",
                                    "Email": "fernanda.costa@example.com",
                                    "Telefone": "41966666666",
                                    "DataCriacao": "2024-06-04 11:57:34.00",
                                    "DataAlteracao": "2024-06-04 11:57:34.00"
                                },
                                {
                                    "SK_Cliente": "518",
                                    "IdCliente": "70",
                                    "Nome": "Lucas Martins",
                                    "Email": "lucas.martins@example.com",
                                    "Telefone": "11999999999",
                                    "DataCriacao": "2024-06-04 11:57:34.00",
                                    "DataAlteracao": "2024-06-04 11:57:34.00"
                                },
                                {
                                    "SK_Cliente": "519",
                                    "IdCliente": "71",
                                    "Nome": "Mariana Lima",
                                    "Email": "mariana.lima@example.com",
                                    "Telefone": "21988888888",
                                    "DataCriacao": "2024-06-04 11:57:34.00",
                                    "DataAlteracao": "2024-06-04 11:57:34.00"
                                },
                                {
                                    "SK_Cliente": "520",
                                    "IdCliente": "72",
                                    "Nome": "Pedro Santos",
                                    "Email": "pedro.santos@example.com",
                                    "Telefone": "31977777777",
                                    "DataCriacao": "2024-06-04 11:57:34.00",
                                    "DataAlteracao": "2024-06-04 11:57:34.00"
                                },
                                {
                                    "SK_Cliente": "521",
                                    "IdCliente": "73",
                                    "Nome": "Fernanda Costa",
                                    "Email": "fernanda.costa@example.com",
                                    "Telefone": "41966666666",
                                    "DataCriacao": "2024-06-04 11:57:34.00",
                                    "DataAlteracao": "2024-06-04 11:57:34.00"
                                },
                                {
                                    "SK_Cliente": "522",
                                    "IdCliente": "74",
                                    "Nome": "Lucas Martins",
                                    "Email": "lucas.martins@example.com",
                                    "Telefone": "11999999999",
                                    "DataCriacao": "2024-06-04 11:57:34.00",
                                    "DataAlteracao": "2024-06-04 11:57:34.00"
                                },
                                {
                                    "SK_Cliente": "523",
                                    "IdCliente": "75",
                                    "Nome": "Mariana Lima",
                                    "Email": "mariana.lima@example.com",
                                    "Telefone": "21988888888",
                                    "DataCriacao": "2024-06-04 11:57:34.00",
                                    "DataAlteracao": "2024-06-04 11:57:34.00"
                                },
                                {
                                    "SK_Cliente": "524",
                                    "IdCliente": "76",
                                    "Nome": "Pedro Santos",
                                    "Email": "pedro.santos@example.com",
                                    "Telefone": "31977777777",
                                    "DataCriacao": "2024-06-04 11:57:34.00",
                                    "DataAlteracao": "2024-06-04 11:57:34.00"
                                },
                                {
                                    "SK_Cliente": "525",
                                    "IdCliente": "77",
                                    "Nome": "Fernanda Costa",
                                    "Email": "fernanda.costa@example.com",
                                    "Telefone": "41966666666",
                                    "DataCriacao": "2024-06-04 11:57:34.00",
                                    "DataAlteracao": "2024-06-04 11:57:34.00"
                                },
                                {
                                    "SK_Cliente": "526",
                                    "IdCliente": "78",
                                    "Nome": "Lucas Martins",
                                    "Email": "lucas.martins@example.com",
                                    "Telefone": "11999999999",
                                    "DataCriacao": "2024-06-04 11:57:34.00",
                                    "DataAlteracao": "2024-06-04 11:57:34.00"
                                },
                                {
                                    "SK_Cliente": "527",
                                    "IdCliente": "79",
                                    "Nome": "Mariana Lima",
                                    "Email": "mariana.lima@example.com",
                                    "Telefone": "21988888888",
                                    "DataCriacao": "2024-06-04 11:57:34.00",
                                    "DataAlteracao": "2024-06-04 11:57:34.00"
                                },
                                {
                                    "SK_Cliente": "528",
                                    "IdCliente": "80",
                                    "Nome": "Pedro Santos",
                                    "Email": "pedro.santos@example.com",
                                    "Telefone": "31977777777",
                                    "DataCriacao": "2024-06-04 11:57:34.00",
                                    "DataAlteracao": "2024-06-04 11:57:34.00"
                                },
                                {
                                    "SK_Cliente": "529",
                                    "IdCliente": "81",
                                    "Nome": "Fernanda Costa",
                                    "Email": "fernanda.costa@example.com",
                                    "Telefone": "41966666666",
                                    "DataCriacao": "2024-06-04 11:57:34.00",
                                    "DataAlteracao": "2024-06-04 11:57:34.00"
                                },
                                {
                                    "SK_Cliente": "530",
                                    "IdCliente": "82",
                                    "Nome": "Lucas Martins",
                                    "Email": "lucas.martins@example.com",
                                    "Telefone": "11999999999",
                                    "DataCriacao": "2024-06-04 11:57:34.00",
                                    "DataAlteracao": "2024-06-04 11:57:34.00"
                                },
                                {
                                    "SK_Cliente": "531",
                                    "IdCliente": "83",
                                    "Nome": "Mariana Lima",
                                    "Email": "mariana.lima@example.com",
                                    "Telefone": "21988888888",
                                    "DataCriacao": "2024-06-04 11:57:34.00",
                                    "DataAlteracao": "2024-06-04 11:57:34.00"
                                },
                                {
                                    "SK_Cliente": "532",
                                    "IdCliente": "84",
                                    "Nome": "Pedro Santos",
                                    "Email": "pedro.santos@example.com",
                                    "Telefone": "31977777777",
                                    "DataCriacao": "2024-06-04 11:57:34.00",
                                    "DataAlteracao": "2024-06-04 11:57:34.00"
                                },
                                {
                                    "SK_Cliente": "533",
                                    "IdCliente": "85",
                                    "Nome": "Fernanda Costa",
                                    "Email": "fernanda.costa@example.com",
                                    "Telefone": "41966666666",
                                    "DataCriacao": "2024-06-04 11:57:34.00",
                                    "DataAlteracao": "2024-06-04 11:57:34.00"
                                },
                                {
                                    "SK_Cliente": "534",
                                    "IdCliente": "1050",
                                    "Nome": "Lucas Martins",
                                    "Email": "lucas.martins@example.com",
                                    "Telefone": "11999999999",
                                    "DataCriacao": "2024-06-04 11:57:34.00",
                                    "DataAlteracao": "2024-06-04 11:57:34.00"
                                },
                                {
                                    "SK_Cliente": "535",
                                    "IdCliente": "1051",
                                    "Nome": "Mariana Lima",
                                    "Email": "mariana.lima@example.com",
                                    "Telefone": "21988888888",
                                    "DataCriacao": "2024-06-04 11:57:34.00",
                                    "DataAlteracao": "2024-06-04 11:57:34.00"
                                },
                                {
                                    "SK_Cliente": "536",
                                    "IdCliente": "1052",
                                    "Nome": "Pedro Santos",
                                    "Email": "pedro.santos@example.com",
                                    "Telefone": "31977777777",
                                    "DataCriacao": "2024-06-04 11:57:34.00",
                                    "DataAlteracao": "2024-06-04 11:57:34.00"
                                },
                                {
                                    "SK_Cliente": "537",
                                    "IdCliente": "1053",
                                    "Nome": "Fernanda Costa",
                                    "Email": "fernanda.costa@example.com",
                                    "Telefone": "41966666666",
                                    "DataCriacao": "2024-06-04 11:57:34.00",
                                    "DataAlteracao": "2024-06-04 11:57:34.00"
                                },
                                {
                                    "SK_Cliente": "538",
                                    "IdCliente": "1054",
                                    "Nome": "Lucas Martins",
                                    "Email": "lucas.martins@example.com",
                                    "Telefone": "11999999999",
                                    "DataCriacao": "2024-06-04 11:57:34.00",
                                    "DataAlteracao": "2024-06-04 11:57:34.00"
                                },
                                {
                                    "SK_Cliente": "539",
                                    "IdCliente": "1055",
                                    "Nome": "Mariana Lima",
                                    "Email": "mariana.lima@example.com",
                                    "Telefone": "21988888888",
                                    "DataCriacao": "2024-06-04 11:57:34.00",
                                    "DataAlteracao": "2024-06-04 11:57:34.00"
                                },
                                {
                                    "SK_Cliente": "540",
                                    "IdCliente": "1056",
                                    "Nome": "Pedro Santos",
                                    "Email": "pedro.santos@example.com",
                                    "Telefone": "31977777777",
                                    "DataCriacao": "2024-06-04 11:57:34.00",
                                    "DataAlteracao": "2024-06-04 11:57:34.00"
                                },
                                {
                                    "SK_Cliente": "541",
                                    "IdCliente": "1057",
                                    "Nome": "Fernanda Costa",
                                    "Email": "fernanda.costa@example.com",
                                    "Telefone": "41966666666",
                                    "DataCriacao": "2024-06-04 11:57:34.00",
                                    "DataAlteracao": "2024-06-04 11:57:34.00"
                                },
                                {
                                    "SK_Cliente": "542",
                                    "IdCliente": "1058",
                                    "Nome": "Lucas Martins",
                                    "Email": "lucas.martins@example.com",
                                    "Telefone": "11999999999",
                                    "DataCriacao": "2024-06-04 11:57:34.00",
                                    "DataAlteracao": "2024-06-04 11:57:34.00"
                                },
                                {
                                    "SK_Cliente": "543",
                                    "IdCliente": "1059",
                                    "Nome": "Mariana Lima",
                                    "Email": "mariana.lima@example.com",
                                    "Telefone": "21988888888",
                                    "DataCriacao": "2024-06-04 11:57:34.00",
                                    "DataAlteracao": "2024-06-04 11:57:34.00"
                                },
                                {
                                    "SK_Cliente": "544",
                                    "IdCliente": "1060",
                                    "Nome": "Pedro Santos",
                                    "Email": "pedro.santos@example.com",
                                    "Telefone": "31977777777",
                                    "DataCriacao": "2024-06-04 11:57:34.00",
                                    "DataAlteracao": "2024-06-04 11:57:34.00"
                                },
                                {
                                    "SK_Cliente": "545",
                                    "IdCliente": "1061",
                                    "Nome": "Fernanda Costa",
                                    "Email": "fernanda.costa@example.com",
                                    "Telefone": "41966666666",
                                    "DataCriacao": "2024-06-04 11:57:34.00",
                                    "DataAlteracao": "2024-06-04 11:57:34.00"
                                },
                                {
                                    "SK_Cliente": "546",
                                    "IdCliente": "1062",
                                    "Nome": "Lucas Martins",
                                    "Email": "lucas.martins@example.com",
                                    "Telefone": "11999999999",
                                    "DataCriacao": "2024-06-04 11:57:34.00",
                                    "DataAlteracao": "2024-06-04 11:57:34.00"
                                },
                                {
                                    "SK_Cliente": "547",
                                    "IdCliente": "1063",
                                    "Nome": "Mariana Lima",
                                    "Email": "mariana.lima@example.com",
                                    "Telefone": "21988888888",
                                    "DataCriacao": "2024-06-04 11:57:34.00",
                                    "DataAlteracao": "2024-06-04 11:57:34.00"
                                },
                                {
                                    "SK_Cliente": "548",
                                    "IdCliente": "1064",
                                    "Nome": "Pedro Santos",
                                    "Email": "pedro.santos@example.com",
                                    "Telefone": "31977777777",
                                    "DataCriacao": "2024-06-04 11:57:34.00",
                                    "DataAlteracao": "2024-06-04 11:57:34.00"
                                },
                                {
                                    "SK_Cliente": "549",
                                    "IdCliente": "1065",
                                    "Nome": "Fernanda Costa",
                                    "Email": "fernanda.costa@example.com",
                                    "Telefone": "41966666666",
                                    "DataCriacao": "2024-06-04 11:57:34.00",
                                    "DataAlteracao": "2024-06-04 11:57:34.00"
                                },
                                {
                                    "SK_Cliente": "550",
                                    "IdCliente": "1066",
                                    "Nome": "Lucas Martins",
                                    "Email": "lucas.martins@example.com",
                                    "Telefone": "11999999999",
                                    "DataCriacao": "2024-06-04 11:57:34.00",
                                    "DataAlteracao": "2024-06-04 11:57:34.00"
                                },
                                {
                                    "SK_Cliente": "551",
                                    "IdCliente": "1067",
                                    "Nome": "Mariana Lima",
                                    "Email": "mariana.lima@example.com",
                                    "Telefone": "21988888888",
                                    "DataCriacao": "2024-06-04 11:57:34.00",
                                    "DataAlteracao": "2024-06-04 11:57:34.00"
                                },
                                {
                                    "SK_Cliente": "552",
                                    "IdCliente": "1068",
                                    "Nome": "Pedro Santos",
                                    "Email": "pedro.santos@example.com",
                                    "Telefone": "31977777777",
                                    "DataCriacao": "2024-06-04 11:57:34.00",
                                    "DataAlteracao": "2024-06-04 11:57:34.00"
                                },
                                {
                                    "SK_Cliente": "553",
                                    "IdCliente": "1069",
                                    "Nome": "Fernanda Costa",
                                    "Email": "fernanda.costa@example.com",
                                    "Telefone": "41966666666",
                                    "DataCriacao": "2024-06-04 11:57:34.00",
                                    "DataAlteracao": "2024-06-04 11:57:34.00"
                                },
                                {
                                    "SK_Cliente": "554",
                                    "IdCliente": "1070",
                                    "Nome": "Lucas Martins",
                                    "Email": "lucas.martins@example.com",
                                    "Telefone": "11999999999",
                                    "DataCriacao": "2024-06-04 11:57:34.00",
                                    "DataAlteracao": "2024-06-04 11:57:34.00"
                                },
                                {
                                    "SK_Cliente": "555",
                                    "IdCliente": "1071",
                                    "Nome": "Mariana Lima",
                                    "Email": "mariana.lima@example.com",
                                    "Telefone": "21988888888",
                                    "DataCriacao": "2024-06-04 11:57:34.00",
                                    "DataAlteracao": "2024-06-04 11:57:34.00"
                                },
                                {
                                    "SK_Cliente": "556",
                                    "IdCliente": "1072",
                                    "Nome": "Pedro Santos",
                                    "Email": "pedro.santos@example.com",
                                    "Telefone": "31977777777",
                                    "DataCriacao": "2024-06-04 11:57:34.00",
                                    "DataAlteracao": "2024-06-04 11:57:34.00"
                                },
                                {
                                    "SK_Cliente": "557",
                                    "IdCliente": "1073",
                                    "Nome": "Fernanda Costa",
                                    "Email": "fernanda.costa@example.com",
                                    "Telefone": "41966666666",
                                    "DataCriacao": "2024-06-04 11:57:34.00",
                                    "DataAlteracao": "2024-06-04 11:57:34.00"
                                },
                                {
                                    "SK_Cliente": "558",
                                    "IdCliente": "1074",
                                    "Nome": "Lucas Martins",
                                    "Email": "lucas.martins@example.com",
                                    "Telefone": "11999999999",
                                    "DataCriacao": "2024-06-04 11:57:34.00",
                                    "DataAlteracao": "2024-06-04 11:57:34.00"
                                },
                                {
                                    "SK_Cliente": "559",
                                    "IdCliente": "1075",
                                    "Nome": "Mariana Lima",
                                    "Email": "mariana.lima@example.com",
                                    "Telefone": "21988888888",
                                    "DataCriacao": "2024-06-04 11:57:34.00",
                                    "DataAlteracao": "2024-06-04 11:57:34.00"
                                },
                                {
                                    "SK_Cliente": "560",
                                    "IdCliente": "1076",
                                    "Nome": "Pedro Santos",
                                    "Email": "pedro.santos@example.com",
                                    "Telefone": "31977777777",
                                    "DataCriacao": "2024-06-04 11:57:34.00",
                                    "DataAlteracao": "2024-06-04 11:57:34.00"
                                },
                                {
                                    "SK_Cliente": "561",
                                    "IdCliente": "1077",
                                    "Nome": "Fernanda Costa",
                                    "Email": "fernanda.costa@example.com",
                                    "Telefone": "41966666666",
                                    "DataCriacao": "2024-06-04 11:57:34.00",
                                    "DataAlteracao": "2024-06-04 11:57:34.00"
                                }
                            ]
                        },
                        "text/html": "<table><tr><th>SK_Cliente</th><th>IdCliente</th><th>Nome</th><th>Email</th><th>Telefone</th><th>DataCriacao</th><th>DataAlteracao</th></tr><tr><td>226</td><td>1</td><td>Lucas Martins</td><td>lucas.martins@example.com</td><td>11999999999</td><td>2024-06-04 11:34:02.00</td><td>2024-06-04 11:34:02.00</td></tr><tr><td>227</td><td>2</td><td>Mariana Lima</td><td>mariana.lima@example.com</td><td>21988888888</td><td>2024-06-04 11:34:02.00</td><td>2024-06-04 11:34:02.00</td></tr><tr><td>228</td><td>3</td><td>Pedro Santos</td><td>pedro.santos@example.com</td><td>31977777777</td><td>2024-06-04 11:34:02.00</td><td>2024-06-04 11:34:02.00</td></tr><tr><td>229</td><td>4</td><td>Fernanda Costa</td><td>fernanda.costa@example.com</td><td>41966666666</td><td>2024-06-04 11:34:02.00</td><td>2024-06-04 11:34:02.00</td></tr><tr><td>230</td><td>6</td><td>Lucas Martins</td><td>lucas.martins@example.com</td><td>11999999999</td><td>2024-06-04 11:34:02.00</td><td>2024-06-04 11:34:02.00</td></tr><tr><td>231</td><td>7</td><td>Mariana Lima</td><td>mariana.lima@example.com</td><td>21988888888</td><td>2024-06-04 11:34:02.00</td><td>2024-06-04 11:34:02.00</td></tr><tr><td>232</td><td>8</td><td>Pedro Santos</td><td>pedro.santos@example.com</td><td>31977777777</td><td>2024-06-04 11:34:02.00</td><td>2024-06-04 11:34:02.00</td></tr><tr><td>233</td><td>9</td><td>Fernanda Costa</td><td>fernanda.costa@example.com</td><td>41966666666</td><td>2024-06-04 11:34:02.00</td><td>2024-06-04 11:34:02.00</td></tr><tr><td>234</td><td>10</td><td>Lucas Martins</td><td>lucas.martins@example.com</td><td>11999999999</td><td>2024-06-04 11:34:02.00</td><td>2024-06-04 11:34:02.00</td></tr><tr><td>235</td><td>11</td><td>Mariana Lima</td><td>mariana.lima@example.com</td><td>21988888888</td><td>2024-06-04 11:34:02.00</td><td>2024-06-04 11:34:02.00</td></tr><tr><td>236</td><td>12</td><td>Pedro Santos</td><td>pedro.santos@example.com</td><td>31977777777</td><td>2024-06-04 11:34:02.00</td><td>2024-06-04 11:34:02.00</td></tr><tr><td>237</td><td>13</td><td>Fernanda Costa</td><td>fernanda.costa@example.com</td><td>41966666666</td><td>2024-06-04 11:34:02.00</td><td>2024-06-04 11:34:02.00</td></tr><tr><td>238</td><td>14</td><td>Lucas Martins</td><td>lucas.martins@example.com</td><td>11999999999</td><td>2024-06-04 11:34:02.00</td><td>2024-06-04 11:34:02.00</td></tr><tr><td>239</td><td>15</td><td>Mariana Lima</td><td>mariana.lima@example.com</td><td>21988888888</td><td>2024-06-04 11:34:02.00</td><td>2024-06-04 11:34:02.00</td></tr><tr><td>240</td><td>16</td><td>Pedro Santos</td><td>pedro.santos@example.com</td><td>31977777777</td><td>2024-06-04 11:34:02.00</td><td>2024-06-04 11:34:02.00</td></tr><tr><td>241</td><td>17</td><td>Fernanda Costa</td><td>fernanda.costa@example.com</td><td>41966666666</td><td>2024-06-04 11:34:02.00</td><td>2024-06-04 11:34:02.00</td></tr><tr><td>242</td><td>18</td><td>Lucas Martins</td><td>lucas.martins@example.com</td><td>11999999999</td><td>2024-06-04 11:34:02.00</td><td>2024-06-04 11:34:02.00</td></tr><tr><td>243</td><td>19</td><td>Mariana Lima</td><td>mariana.lima@example.com</td><td>21988888888</td><td>2024-06-04 11:34:02.00</td><td>2024-06-04 11:34:02.00</td></tr><tr><td>244</td><td>20</td><td>Pedro Santos</td><td>pedro.santos@example.com</td><td>31977777777</td><td>2024-06-04 11:34:02.00</td><td>2024-06-04 11:34:02.00</td></tr><tr><td>245</td><td>21</td><td>Fernanda Costa</td><td>fernanda.costa@example.com</td><td>41966666666</td><td>2024-06-04 11:34:02.00</td><td>2024-06-04 11:34:02.00</td></tr><tr><td>246</td><td>22</td><td>Lucas Martins</td><td>lucas.martins@example.com</td><td>11999999999</td><td>2024-06-04 11:34:02.00</td><td>2024-06-04 11:34:02.00</td></tr><tr><td>247</td><td>23</td><td>Mariana Lima</td><td>mariana.lima@example.com</td><td>21988888888</td><td>2024-06-04 11:34:02.00</td><td>2024-06-04 11:34:02.00</td></tr><tr><td>248</td><td>24</td><td>Pedro Santos</td><td>pedro.santos@example.com</td><td>31977777777</td><td>2024-06-04 11:34:02.00</td><td>2024-06-04 11:34:02.00</td></tr><tr><td>249</td><td>25</td><td>Fernanda Costa</td><td>fernanda.costa@example.com</td><td>41966666666</td><td>2024-06-04 11:34:02.00</td><td>2024-06-04 11:34:02.00</td></tr><tr><td>250</td><td>26</td><td>Lucas Martins</td><td>lucas.martins@example.com</td><td>11999999999</td><td>2024-06-04 11:34:02.00</td><td>2024-06-04 11:34:02.00</td></tr><tr><td>251</td><td>27</td><td>Mariana Lima</td><td>mariana.lima@example.com</td><td>21988888888</td><td>2024-06-04 11:34:02.00</td><td>2024-06-04 11:34:02.00</td></tr><tr><td>252</td><td>28</td><td>Pedro Santos</td><td>pedro.santos@example.com</td><td>31977777777</td><td>2024-06-04 11:34:02.00</td><td>2024-06-04 11:34:02.00</td></tr><tr><td>253</td><td>29</td><td>Fernanda Costa</td><td>fernanda.costa@example.com</td><td>41966666666</td><td>2024-06-04 11:34:02.00</td><td>2024-06-04 11:34:02.00</td></tr><tr><td>254</td><td>30</td><td>Lucas Martins</td><td>lucas.martins@example.com</td><td>11999999999</td><td>2024-06-04 11:34:02.00</td><td>2024-06-04 11:34:02.00</td></tr><tr><td>255</td><td>31</td><td>Mariana Lima</td><td>mariana.lima@example.com</td><td>21988888888</td><td>2024-06-04 11:34:02.00</td><td>2024-06-04 11:34:02.00</td></tr><tr><td>256</td><td>32</td><td>Pedro Santos</td><td>pedro.santos@example.com</td><td>31977777777</td><td>2024-06-04 11:34:02.00</td><td>2024-06-04 11:34:02.00</td></tr><tr><td>257</td><td>33</td><td>Fernanda Costa</td><td>fernanda.costa@example.com</td><td>41966666666</td><td>2024-06-04 11:34:02.00</td><td>2024-06-04 11:34:02.00</td></tr><tr><td>258</td><td>34</td><td>Lucas Martins</td><td>lucas.martins@example.com</td><td>11999999999</td><td>2024-06-04 11:34:02.00</td><td>2024-06-04 11:34:02.00</td></tr><tr><td>259</td><td>35</td><td>Mariana Lima</td><td>mariana.lima@example.com</td><td>21988888888</td><td>2024-06-04 11:34:02.00</td><td>2024-06-04 11:34:02.00</td></tr><tr><td>260</td><td>36</td><td>Pedro Santos</td><td>pedro.santos@example.com</td><td>31977777777</td><td>2024-06-04 11:34:02.00</td><td>2024-06-04 11:34:02.00</td></tr><tr><td>261</td><td>37</td><td>Fernanda Costa</td><td>fernanda.costa@example.com</td><td>41966666666</td><td>2024-06-04 11:34:02.00</td><td>2024-06-04 11:34:02.00</td></tr><tr><td>262</td><td>38</td><td>Lucas Martins</td><td>lucas.martins@example.com</td><td>11999999999</td><td>2024-06-04 11:34:02.00</td><td>2024-06-04 11:34:02.00</td></tr><tr><td>263</td><td>39</td><td>Mariana Lima</td><td>mariana.lima@example.com</td><td>21988888888</td><td>2024-06-04 11:34:02.00</td><td>2024-06-04 11:34:02.00</td></tr><tr><td>264</td><td>40</td><td>Pedro Santos</td><td>pedro.santos@example.com</td><td>31977777777</td><td>2024-06-04 11:34:02.00</td><td>2024-06-04 11:34:02.00</td></tr><tr><td>265</td><td>41</td><td>Fernanda Costa</td><td>fernanda.costa@example.com</td><td>41966666666</td><td>2024-06-04 11:34:02.00</td><td>2024-06-04 11:34:02.00</td></tr><tr><td>266</td><td>42</td><td>Lucas Martins</td><td>lucas.martins@example.com</td><td>11999999999</td><td>2024-06-04 11:34:02.00</td><td>2024-06-04 11:34:02.00</td></tr><tr><td>267</td><td>43</td><td>Mariana Lima</td><td>mariana.lima@example.com</td><td>21988888888</td><td>2024-06-04 11:34:02.00</td><td>2024-06-04 11:34:02.00</td></tr><tr><td>268</td><td>44</td><td>Pedro Santos</td><td>pedro.santos@example.com</td><td>31977777777</td><td>2024-06-04 11:34:02.00</td><td>2024-06-04 11:34:02.00</td></tr><tr><td>269</td><td>45</td><td>Fernanda Costa</td><td>fernanda.costa@example.com</td><td>41966666666</td><td>2024-06-04 11:34:02.00</td><td>2024-06-04 11:34:02.00</td></tr><tr><td>270</td><td>46</td><td>Lucas Martins</td><td>lucas.martins@example.com</td><td>11999999999</td><td>2024-06-04 11:34:02.00</td><td>2024-06-04 11:34:02.00</td></tr><tr><td>271</td><td>47</td><td>Mariana Lima</td><td>mariana.lima@example.com</td><td>21988888888</td><td>2024-06-04 11:34:02.00</td><td>2024-06-04 11:34:02.00</td></tr><tr><td>272</td><td>48</td><td>Pedro Santos</td><td>pedro.santos@example.com</td><td>31977777777</td><td>2024-06-04 11:34:02.00</td><td>2024-06-04 11:34:02.00</td></tr><tr><td>273</td><td>49</td><td>Fernanda Costa</td><td>fernanda.costa@example.com</td><td>41966666666</td><td>2024-06-04 11:34:02.00</td><td>2024-06-04 11:34:02.00</td></tr><tr><td>274</td><td>50</td><td>Lucas Martins</td><td>lucas.martins@example.com</td><td>11999999999</td><td>2024-06-04 11:34:02.00</td><td>2024-06-04 11:34:02.00</td></tr><tr><td>275</td><td>51</td><td>Mariana Lima</td><td>mariana.lima@example.com</td><td>21988888888</td><td>2024-06-04 11:34:02.00</td><td>2024-06-04 11:34:02.00</td></tr><tr><td>276</td><td>52</td><td>Pedro Santos</td><td>pedro.santos@example.com</td><td>31977777777</td><td>2024-06-04 11:34:02.00</td><td>2024-06-04 11:34:02.00</td></tr><tr><td>277</td><td>53</td><td>Fernanda Costa</td><td>fernanda.costa@example.com</td><td>41966666666</td><td>2024-06-04 11:34:02.00</td><td>2024-06-04 11:34:02.00</td></tr><tr><td>278</td><td>54</td><td>Lucas Martins</td><td>lucas.martins@example.com</td><td>11999999999</td><td>2024-06-04 11:34:02.00</td><td>2024-06-04 11:34:02.00</td></tr><tr><td>279</td><td>55</td><td>Mariana Lima</td><td>mariana.lima@example.com</td><td>21988888888</td><td>2024-06-04 11:34:02.00</td><td>2024-06-04 11:34:02.00</td></tr><tr><td>280</td><td>56</td><td>Pedro Santos</td><td>pedro.santos@example.com</td><td>31977777777</td><td>2024-06-04 11:34:02.00</td><td>2024-06-04 11:34:02.00</td></tr><tr><td>281</td><td>57</td><td>Fernanda Costa</td><td>fernanda.costa@example.com</td><td>41966666666</td><td>2024-06-04 11:34:02.00</td><td>2024-06-04 11:34:02.00</td></tr><tr><td>282</td><td>58</td><td>Lucas Martins</td><td>lucas.martins@example.com</td><td>11999999999</td><td>2024-06-04 11:34:02.00</td><td>2024-06-04 11:34:02.00</td></tr><tr><td>283</td><td>59</td><td>Mariana Lima</td><td>mariana.lima@example.com</td><td>21988888888</td><td>2024-06-04 11:34:02.00</td><td>2024-06-04 11:34:02.00</td></tr><tr><td>284</td><td>60</td><td>Pedro Santos</td><td>pedro.santos@example.com</td><td>31977777777</td><td>2024-06-04 11:34:02.00</td><td>2024-06-04 11:34:02.00</td></tr><tr><td>285</td><td>61</td><td>Fernanda Costa</td><td>fernanda.costa@example.com</td><td>41966666666</td><td>2024-06-04 11:34:02.00</td><td>2024-06-04 11:34:02.00</td></tr><tr><td>286</td><td>62</td><td>Lucas Martins</td><td>lucas.martins@example.com</td><td>11999999999</td><td>2024-06-04 11:34:02.00</td><td>2024-06-04 11:34:02.00</td></tr><tr><td>287</td><td>63</td><td>Mariana Lima</td><td>mariana.lima@example.com</td><td>21988888888</td><td>2024-06-04 11:34:02.00</td><td>2024-06-04 11:34:02.00</td></tr><tr><td>288</td><td>64</td><td>Pedro Santos</td><td>pedro.santos@example.com</td><td>31977777777</td><td>2024-06-04 11:34:02.00</td><td>2024-06-04 11:34:02.00</td></tr><tr><td>289</td><td>65</td><td>Fernanda Costa</td><td>fernanda.costa@example.com</td><td>41966666666</td><td>2024-06-04 11:34:02.00</td><td>2024-06-04 11:34:02.00</td></tr><tr><td>290</td><td>66</td><td>Lucas Martins</td><td>lucas.martins@example.com</td><td>11999999999</td><td>2024-06-04 11:34:02.00</td><td>2024-06-04 11:34:02.00</td></tr><tr><td>291</td><td>67</td><td>Mariana Lima</td><td>mariana.lima@example.com</td><td>21988888888</td><td>2024-06-04 11:34:02.00</td><td>2024-06-04 11:34:02.00</td></tr><tr><td>292</td><td>68</td><td>Pedro Santos</td><td>pedro.santos@example.com</td><td>31977777777</td><td>2024-06-04 11:34:02.00</td><td>2024-06-04 11:34:02.00</td></tr><tr><td>293</td><td>69</td><td>Fernanda Costa</td><td>fernanda.costa@example.com</td><td>41966666666</td><td>2024-06-04 11:34:02.00</td><td>2024-06-04 11:34:02.00</td></tr><tr><td>294</td><td>70</td><td>Lucas Martins</td><td>lucas.martins@example.com</td><td>11999999999</td><td>2024-06-04 11:34:02.00</td><td>2024-06-04 11:34:02.00</td></tr><tr><td>295</td><td>71</td><td>Mariana Lima</td><td>mariana.lima@example.com</td><td>21988888888</td><td>2024-06-04 11:34:02.00</td><td>2024-06-04 11:34:02.00</td></tr><tr><td>296</td><td>72</td><td>Pedro Santos</td><td>pedro.santos@example.com</td><td>31977777777</td><td>2024-06-04 11:34:02.00</td><td>2024-06-04 11:34:02.00</td></tr><tr><td>297</td><td>73</td><td>Fernanda Costa</td><td>fernanda.costa@example.com</td><td>41966666666</td><td>2024-06-04 11:34:02.00</td><td>2024-06-04 11:34:02.00</td></tr><tr><td>298</td><td>74</td><td>Lucas Martins</td><td>lucas.martins@example.com</td><td>11999999999</td><td>2024-06-04 11:34:02.00</td><td>2024-06-04 11:34:02.00</td></tr><tr><td>299</td><td>75</td><td>Mariana Lima</td><td>mariana.lima@example.com</td><td>21988888888</td><td>2024-06-04 11:34:02.00</td><td>2024-06-04 11:34:02.00</td></tr><tr><td>300</td><td>76</td><td>Pedro Santos</td><td>pedro.santos@example.com</td><td>31977777777</td><td>2024-06-04 11:34:02.00</td><td>2024-06-04 11:34:02.00</td></tr><tr><td>301</td><td>77</td><td>Fernanda Costa</td><td>fernanda.costa@example.com</td><td>41966666666</td><td>2024-06-04 11:34:02.00</td><td>2024-06-04 11:34:02.00</td></tr><tr><td>302</td><td>78</td><td>Lucas Martins</td><td>lucas.martins@example.com</td><td>11999999999</td><td>2024-06-04 11:34:02.00</td><td>2024-06-04 11:34:02.00</td></tr><tr><td>303</td><td>79</td><td>Mariana Lima</td><td>mariana.lima@example.com</td><td>21988888888</td><td>2024-06-04 11:34:02.00</td><td>2024-06-04 11:34:02.00</td></tr><tr><td>304</td><td>80</td><td>Pedro Santos</td><td>pedro.santos@example.com</td><td>31977777777</td><td>2024-06-04 11:34:02.00</td><td>2024-06-04 11:34:02.00</td></tr><tr><td>305</td><td>81</td><td>Fernanda Costa</td><td>fernanda.costa@example.com</td><td>41966666666</td><td>2024-06-04 11:34:02.00</td><td>2024-06-04 11:34:02.00</td></tr><tr><td>306</td><td>82</td><td>Lucas Martins</td><td>lucas.martins@example.com</td><td>11999999999</td><td>2024-06-04 11:34:02.00</td><td>2024-06-04 11:34:02.00</td></tr><tr><td>307</td><td>83</td><td>Mariana Lima</td><td>mariana.lima@example.com</td><td>21988888888</td><td>2024-06-04 11:34:02.00</td><td>2024-06-04 11:34:02.00</td></tr><tr><td>308</td><td>84</td><td>Pedro Santos</td><td>pedro.santos@example.com</td><td>31977777777</td><td>2024-06-04 11:34:02.00</td><td>2024-06-04 11:34:02.00</td></tr><tr><td>309</td><td>85</td><td>Fernanda Costa</td><td>fernanda.costa@example.com</td><td>41966666666</td><td>2024-06-04 11:34:02.00</td><td>2024-06-04 11:34:02.00</td></tr><tr><td>310</td><td>1050</td><td>Lucas Martins</td><td>lucas.martins@example.com</td><td>11999999999</td><td>2024-06-04 11:34:02.00</td><td>2024-06-04 11:34:02.00</td></tr><tr><td>311</td><td>1051</td><td>Mariana Lima</td><td>mariana.lima@example.com</td><td>21988888888</td><td>2024-06-04 11:34:02.00</td><td>2024-06-04 11:34:02.00</td></tr><tr><td>312</td><td>1052</td><td>Pedro Santos</td><td>pedro.santos@example.com</td><td>31977777777</td><td>2024-06-04 11:34:02.00</td><td>2024-06-04 11:34:02.00</td></tr><tr><td>313</td><td>1053</td><td>Fernanda Costa</td><td>fernanda.costa@example.com</td><td>41966666666</td><td>2024-06-04 11:34:02.00</td><td>2024-06-04 11:34:02.00</td></tr><tr><td>314</td><td>1054</td><td>Lucas Martins</td><td>lucas.martins@example.com</td><td>11999999999</td><td>2024-06-04 11:34:02.00</td><td>2024-06-04 11:34:02.00</td></tr><tr><td>315</td><td>1055</td><td>Mariana Lima</td><td>mariana.lima@example.com</td><td>21988888888</td><td>2024-06-04 11:34:02.00</td><td>2024-06-04 11:34:02.00</td></tr><tr><td>316</td><td>1056</td><td>Pedro Santos</td><td>pedro.santos@example.com</td><td>31977777777</td><td>2024-06-04 11:34:02.00</td><td>2024-06-04 11:34:02.00</td></tr><tr><td>317</td><td>1057</td><td>Fernanda Costa</td><td>fernanda.costa@example.com</td><td>41966666666</td><td>2024-06-04 11:34:02.00</td><td>2024-06-04 11:34:02.00</td></tr><tr><td>318</td><td>1058</td><td>Lucas Martins</td><td>lucas.martins@example.com</td><td>11999999999</td><td>2024-06-04 11:34:02.00</td><td>2024-06-04 11:34:02.00</td></tr><tr><td>319</td><td>1059</td><td>Mariana Lima</td><td>mariana.lima@example.com</td><td>21988888888</td><td>2024-06-04 11:34:02.00</td><td>2024-06-04 11:34:02.00</td></tr><tr><td>320</td><td>1060</td><td>Pedro Santos</td><td>pedro.santos@example.com</td><td>31977777777</td><td>2024-06-04 11:34:02.00</td><td>2024-06-04 11:34:02.00</td></tr><tr><td>321</td><td>1061</td><td>Fernanda Costa</td><td>fernanda.costa@example.com</td><td>41966666666</td><td>2024-06-04 11:34:02.00</td><td>2024-06-04 11:34:02.00</td></tr><tr><td>322</td><td>1062</td><td>Lucas Martins</td><td>lucas.martins@example.com</td><td>11999999999</td><td>2024-06-04 11:34:02.00</td><td>2024-06-04 11:34:02.00</td></tr><tr><td>323</td><td>1063</td><td>Mariana Lima</td><td>mariana.lima@example.com</td><td>21988888888</td><td>2024-06-04 11:34:02.00</td><td>2024-06-04 11:34:02.00</td></tr><tr><td>324</td><td>1064</td><td>Pedro Santos</td><td>pedro.santos@example.com</td><td>31977777777</td><td>2024-06-04 11:34:02.00</td><td>2024-06-04 11:34:02.00</td></tr><tr><td>325</td><td>1065</td><td>Fernanda Costa</td><td>fernanda.costa@example.com</td><td>41966666666</td><td>2024-06-04 11:34:02.00</td><td>2024-06-04 11:34:02.00</td></tr><tr><td>326</td><td>1066</td><td>Lucas Martins</td><td>lucas.martins@example.com</td><td>11999999999</td><td>2024-06-04 11:34:02.00</td><td>2024-06-04 11:34:02.00</td></tr><tr><td>327</td><td>1067</td><td>Mariana Lima</td><td>mariana.lima@example.com</td><td>21988888888</td><td>2024-06-04 11:34:02.00</td><td>2024-06-04 11:34:02.00</td></tr><tr><td>328</td><td>1068</td><td>Pedro Santos</td><td>pedro.santos@example.com</td><td>31977777777</td><td>2024-06-04 11:34:02.00</td><td>2024-06-04 11:34:02.00</td></tr><tr><td>329</td><td>1069</td><td>Fernanda Costa</td><td>fernanda.costa@example.com</td><td>41966666666</td><td>2024-06-04 11:34:02.00</td><td>2024-06-04 11:34:02.00</td></tr><tr><td>330</td><td>1070</td><td>Lucas Martins</td><td>lucas.martins@example.com</td><td>11999999999</td><td>2024-06-04 11:34:02.00</td><td>2024-06-04 11:34:02.00</td></tr><tr><td>331</td><td>1071</td><td>Mariana Lima</td><td>mariana.lima@example.com</td><td>21988888888</td><td>2024-06-04 11:34:02.00</td><td>2024-06-04 11:34:02.00</td></tr><tr><td>332</td><td>1072</td><td>Pedro Santos</td><td>pedro.santos@example.com</td><td>31977777777</td><td>2024-06-04 11:34:02.00</td><td>2024-06-04 11:34:02.00</td></tr><tr><td>333</td><td>1073</td><td>Fernanda Costa</td><td>fernanda.costa@example.com</td><td>41966666666</td><td>2024-06-04 11:34:02.00</td><td>2024-06-04 11:34:02.00</td></tr><tr><td>334</td><td>1074</td><td>Lucas Martins</td><td>lucas.martins@example.com</td><td>11999999999</td><td>2024-06-04 11:34:02.00</td><td>2024-06-04 11:34:02.00</td></tr><tr><td>335</td><td>1075</td><td>Mariana Lima</td><td>mariana.lima@example.com</td><td>21988888888</td><td>2024-06-04 11:34:02.00</td><td>2024-06-04 11:34:02.00</td></tr><tr><td>336</td><td>1076</td><td>Pedro Santos</td><td>pedro.santos@example.com</td><td>31977777777</td><td>2024-06-04 11:34:02.00</td><td>2024-06-04 11:34:02.00</td></tr><tr><td>337</td><td>1077</td><td>Fernanda Costa</td><td>fernanda.costa@example.com</td><td>41966666666</td><td>2024-06-04 11:34:02.00</td><td>2024-06-04 11:34:02.00</td></tr><tr><td>338</td><td>1</td><td>Lucas Martins</td><td>lucas.martins@example.com</td><td>11999999999</td><td>2024-06-04 11:41:46.00</td><td>2024-06-04 11:41:46.00</td></tr><tr><td>339</td><td>2</td><td>Mariana Lima</td><td>mariana.lima@example.com</td><td>21988888888</td><td>2024-06-04 11:41:46.00</td><td>2024-06-04 11:41:46.00</td></tr><tr><td>340</td><td>3</td><td>Pedro Santos</td><td>pedro.santos@example.com</td><td>31977777777</td><td>2024-06-04 11:41:46.00</td><td>2024-06-04 11:41:46.00</td></tr><tr><td>341</td><td>4</td><td>Fernanda Costa</td><td>fernanda.costa@example.com</td><td>41966666666</td><td>2024-06-04 11:41:46.00</td><td>2024-06-04 11:41:46.00</td></tr><tr><td>342</td><td>6</td><td>Lucas Martins</td><td>lucas.martins@example.com</td><td>11999999999</td><td>2024-06-04 11:41:46.00</td><td>2024-06-04 11:41:46.00</td></tr><tr><td>343</td><td>7</td><td>Mariana Lima</td><td>mariana.lima@example.com</td><td>21988888888</td><td>2024-06-04 11:41:46.00</td><td>2024-06-04 11:41:46.00</td></tr><tr><td>344</td><td>8</td><td>Pedro Santos</td><td>pedro.santos@example.com</td><td>31977777777</td><td>2024-06-04 11:41:46.00</td><td>2024-06-04 11:41:46.00</td></tr><tr><td>345</td><td>9</td><td>Fernanda Costa</td><td>fernanda.costa@example.com</td><td>41966666666</td><td>2024-06-04 11:41:46.00</td><td>2024-06-04 11:41:46.00</td></tr><tr><td>346</td><td>10</td><td>Lucas Martins</td><td>lucas.martins@example.com</td><td>11999999999</td><td>2024-06-04 11:41:46.00</td><td>2024-06-04 11:41:46.00</td></tr><tr><td>347</td><td>11</td><td>Mariana Lima</td><td>mariana.lima@example.com</td><td>21988888888</td><td>2024-06-04 11:41:46.00</td><td>2024-06-04 11:41:46.00</td></tr><tr><td>348</td><td>12</td><td>Pedro Santos</td><td>pedro.santos@example.com</td><td>31977777777</td><td>2024-06-04 11:41:46.00</td><td>2024-06-04 11:41:46.00</td></tr><tr><td>349</td><td>13</td><td>Fernanda Costa</td><td>fernanda.costa@example.com</td><td>41966666666</td><td>2024-06-04 11:41:46.00</td><td>2024-06-04 11:41:46.00</td></tr><tr><td>350</td><td>14</td><td>Lucas Martins</td><td>lucas.martins@example.com</td><td>11999999999</td><td>2024-06-04 11:41:46.00</td><td>2024-06-04 11:41:46.00</td></tr><tr><td>351</td><td>15</td><td>Mariana Lima</td><td>mariana.lima@example.com</td><td>21988888888</td><td>2024-06-04 11:41:46.00</td><td>2024-06-04 11:41:46.00</td></tr><tr><td>352</td><td>16</td><td>Pedro Santos</td><td>pedro.santos@example.com</td><td>31977777777</td><td>2024-06-04 11:41:46.00</td><td>2024-06-04 11:41:46.00</td></tr><tr><td>353</td><td>17</td><td>Fernanda Costa</td><td>fernanda.costa@example.com</td><td>41966666666</td><td>2024-06-04 11:41:46.00</td><td>2024-06-04 11:41:46.00</td></tr><tr><td>354</td><td>18</td><td>Lucas Martins</td><td>lucas.martins@example.com</td><td>11999999999</td><td>2024-06-04 11:41:46.00</td><td>2024-06-04 11:41:46.00</td></tr><tr><td>355</td><td>19</td><td>Mariana Lima</td><td>mariana.lima@example.com</td><td>21988888888</td><td>2024-06-04 11:41:46.00</td><td>2024-06-04 11:41:46.00</td></tr><tr><td>356</td><td>20</td><td>Pedro Santos</td><td>pedro.santos@example.com</td><td>31977777777</td><td>2024-06-04 11:41:46.00</td><td>2024-06-04 11:41:46.00</td></tr><tr><td>357</td><td>21</td><td>Fernanda Costa</td><td>fernanda.costa@example.com</td><td>41966666666</td><td>2024-06-04 11:41:46.00</td><td>2024-06-04 11:41:46.00</td></tr><tr><td>358</td><td>22</td><td>Lucas Martins</td><td>lucas.martins@example.com</td><td>11999999999</td><td>2024-06-04 11:41:46.00</td><td>2024-06-04 11:41:46.00</td></tr><tr><td>359</td><td>23</td><td>Mariana Lima</td><td>mariana.lima@example.com</td><td>21988888888</td><td>2024-06-04 11:41:46.00</td><td>2024-06-04 11:41:46.00</td></tr><tr><td>360</td><td>24</td><td>Pedro Santos</td><td>pedro.santos@example.com</td><td>31977777777</td><td>2024-06-04 11:41:46.00</td><td>2024-06-04 11:41:46.00</td></tr><tr><td>361</td><td>25</td><td>Fernanda Costa</td><td>fernanda.costa@example.com</td><td>41966666666</td><td>2024-06-04 11:41:46.00</td><td>2024-06-04 11:41:46.00</td></tr><tr><td>362</td><td>26</td><td>Lucas Martins</td><td>lucas.martins@example.com</td><td>11999999999</td><td>2024-06-04 11:41:46.00</td><td>2024-06-04 11:41:46.00</td></tr><tr><td>363</td><td>27</td><td>Mariana Lima</td><td>mariana.lima@example.com</td><td>21988888888</td><td>2024-06-04 11:41:46.00</td><td>2024-06-04 11:41:46.00</td></tr><tr><td>364</td><td>28</td><td>Pedro Santos</td><td>pedro.santos@example.com</td><td>31977777777</td><td>2024-06-04 11:41:46.00</td><td>2024-06-04 11:41:46.00</td></tr><tr><td>365</td><td>29</td><td>Fernanda Costa</td><td>fernanda.costa@example.com</td><td>41966666666</td><td>2024-06-04 11:41:46.00</td><td>2024-06-04 11:41:46.00</td></tr><tr><td>366</td><td>30</td><td>Lucas Martins</td><td>lucas.martins@example.com</td><td>11999999999</td><td>2024-06-04 11:41:46.00</td><td>2024-06-04 11:41:46.00</td></tr><tr><td>367</td><td>31</td><td>Mariana Lima</td><td>mariana.lima@example.com</td><td>21988888888</td><td>2024-06-04 11:41:46.00</td><td>2024-06-04 11:41:46.00</td></tr><tr><td>368</td><td>32</td><td>Pedro Santos</td><td>pedro.santos@example.com</td><td>31977777777</td><td>2024-06-04 11:41:46.00</td><td>2024-06-04 11:41:46.00</td></tr><tr><td>369</td><td>33</td><td>Fernanda Costa</td><td>fernanda.costa@example.com</td><td>41966666666</td><td>2024-06-04 11:41:46.00</td><td>2024-06-04 11:41:46.00</td></tr><tr><td>370</td><td>34</td><td>Lucas Martins</td><td>lucas.martins@example.com</td><td>11999999999</td><td>2024-06-04 11:41:46.00</td><td>2024-06-04 11:41:46.00</td></tr><tr><td>371</td><td>35</td><td>Mariana Lima</td><td>mariana.lima@example.com</td><td>21988888888</td><td>2024-06-04 11:41:46.00</td><td>2024-06-04 11:41:46.00</td></tr><tr><td>372</td><td>36</td><td>Pedro Santos</td><td>pedro.santos@example.com</td><td>31977777777</td><td>2024-06-04 11:41:46.00</td><td>2024-06-04 11:41:46.00</td></tr><tr><td>373</td><td>37</td><td>Fernanda Costa</td><td>fernanda.costa@example.com</td><td>41966666666</td><td>2024-06-04 11:41:46.00</td><td>2024-06-04 11:41:46.00</td></tr><tr><td>374</td><td>38</td><td>Lucas Martins</td><td>lucas.martins@example.com</td><td>11999999999</td><td>2024-06-04 11:41:46.00</td><td>2024-06-04 11:41:46.00</td></tr><tr><td>375</td><td>39</td><td>Mariana Lima</td><td>mariana.lima@example.com</td><td>21988888888</td><td>2024-06-04 11:41:46.00</td><td>2024-06-04 11:41:46.00</td></tr><tr><td>376</td><td>40</td><td>Pedro Santos</td><td>pedro.santos@example.com</td><td>31977777777</td><td>2024-06-04 11:41:46.00</td><td>2024-06-04 11:41:46.00</td></tr><tr><td>377</td><td>41</td><td>Fernanda Costa</td><td>fernanda.costa@example.com</td><td>41966666666</td><td>2024-06-04 11:41:46.00</td><td>2024-06-04 11:41:46.00</td></tr><tr><td>378</td><td>42</td><td>Lucas Martins</td><td>lucas.martins@example.com</td><td>11999999999</td><td>2024-06-04 11:41:46.00</td><td>2024-06-04 11:41:46.00</td></tr><tr><td>379</td><td>43</td><td>Mariana Lima</td><td>mariana.lima@example.com</td><td>21988888888</td><td>2024-06-04 11:41:46.00</td><td>2024-06-04 11:41:46.00</td></tr><tr><td>380</td><td>44</td><td>Pedro Santos</td><td>pedro.santos@example.com</td><td>31977777777</td><td>2024-06-04 11:41:46.00</td><td>2024-06-04 11:41:46.00</td></tr><tr><td>381</td><td>45</td><td>Fernanda Costa</td><td>fernanda.costa@example.com</td><td>41966666666</td><td>2024-06-04 11:41:46.00</td><td>2024-06-04 11:41:46.00</td></tr><tr><td>382</td><td>46</td><td>Lucas Martins</td><td>lucas.martins@example.com</td><td>11999999999</td><td>2024-06-04 11:41:46.00</td><td>2024-06-04 11:41:46.00</td></tr><tr><td>383</td><td>47</td><td>Mariana Lima</td><td>mariana.lima@example.com</td><td>21988888888</td><td>2024-06-04 11:41:46.00</td><td>2024-06-04 11:41:46.00</td></tr><tr><td>384</td><td>48</td><td>Pedro Santos</td><td>pedro.santos@example.com</td><td>31977777777</td><td>2024-06-04 11:41:46.00</td><td>2024-06-04 11:41:46.00</td></tr><tr><td>385</td><td>49</td><td>Fernanda Costa</td><td>fernanda.costa@example.com</td><td>41966666666</td><td>2024-06-04 11:41:46.00</td><td>2024-06-04 11:41:46.00</td></tr><tr><td>386</td><td>50</td><td>Lucas Martins</td><td>lucas.martins@example.com</td><td>11999999999</td><td>2024-06-04 11:41:46.00</td><td>2024-06-04 11:41:46.00</td></tr><tr><td>387</td><td>51</td><td>Mariana Lima</td><td>mariana.lima@example.com</td><td>21988888888</td><td>2024-06-04 11:41:46.00</td><td>2024-06-04 11:41:46.00</td></tr><tr><td>388</td><td>52</td><td>Pedro Santos</td><td>pedro.santos@example.com</td><td>31977777777</td><td>2024-06-04 11:41:46.00</td><td>2024-06-04 11:41:46.00</td></tr><tr><td>389</td><td>53</td><td>Fernanda Costa</td><td>fernanda.costa@example.com</td><td>41966666666</td><td>2024-06-04 11:41:46.00</td><td>2024-06-04 11:41:46.00</td></tr><tr><td>390</td><td>54</td><td>Lucas Martins</td><td>lucas.martins@example.com</td><td>11999999999</td><td>2024-06-04 11:41:46.00</td><td>2024-06-04 11:41:46.00</td></tr><tr><td>391</td><td>55</td><td>Mariana Lima</td><td>mariana.lima@example.com</td><td>21988888888</td><td>2024-06-04 11:41:46.00</td><td>2024-06-04 11:41:46.00</td></tr><tr><td>392</td><td>56</td><td>Pedro Santos</td><td>pedro.santos@example.com</td><td>31977777777</td><td>2024-06-04 11:41:46.00</td><td>2024-06-04 11:41:46.00</td></tr><tr><td>393</td><td>57</td><td>Fernanda Costa</td><td>fernanda.costa@example.com</td><td>41966666666</td><td>2024-06-04 11:41:46.00</td><td>2024-06-04 11:41:46.00</td></tr><tr><td>394</td><td>58</td><td>Lucas Martins</td><td>lucas.martins@example.com</td><td>11999999999</td><td>2024-06-04 11:41:46.00</td><td>2024-06-04 11:41:46.00</td></tr><tr><td>395</td><td>59</td><td>Mariana Lima</td><td>mariana.lima@example.com</td><td>21988888888</td><td>2024-06-04 11:41:46.00</td><td>2024-06-04 11:41:46.00</td></tr><tr><td>396</td><td>60</td><td>Pedro Santos</td><td>pedro.santos@example.com</td><td>31977777777</td><td>2024-06-04 11:41:46.00</td><td>2024-06-04 11:41:46.00</td></tr><tr><td>397</td><td>61</td><td>Fernanda Costa</td><td>fernanda.costa@example.com</td><td>41966666666</td><td>2024-06-04 11:41:46.00</td><td>2024-06-04 11:41:46.00</td></tr><tr><td>398</td><td>62</td><td>Lucas Martins</td><td>lucas.martins@example.com</td><td>11999999999</td><td>2024-06-04 11:41:46.00</td><td>2024-06-04 11:41:46.00</td></tr><tr><td>399</td><td>63</td><td>Mariana Lima</td><td>mariana.lima@example.com</td><td>21988888888</td><td>2024-06-04 11:41:46.00</td><td>2024-06-04 11:41:46.00</td></tr><tr><td>400</td><td>64</td><td>Pedro Santos</td><td>pedro.santos@example.com</td><td>31977777777</td><td>2024-06-04 11:41:46.00</td><td>2024-06-04 11:41:46.00</td></tr><tr><td>401</td><td>65</td><td>Fernanda Costa</td><td>fernanda.costa@example.com</td><td>41966666666</td><td>2024-06-04 11:41:46.00</td><td>2024-06-04 11:41:46.00</td></tr><tr><td>402</td><td>66</td><td>Lucas Martins</td><td>lucas.martins@example.com</td><td>11999999999</td><td>2024-06-04 11:41:46.00</td><td>2024-06-04 11:41:46.00</td></tr><tr><td>403</td><td>67</td><td>Mariana Lima</td><td>mariana.lima@example.com</td><td>21988888888</td><td>2024-06-04 11:41:46.00</td><td>2024-06-04 11:41:46.00</td></tr><tr><td>404</td><td>68</td><td>Pedro Santos</td><td>pedro.santos@example.com</td><td>31977777777</td><td>2024-06-04 11:41:46.00</td><td>2024-06-04 11:41:46.00</td></tr><tr><td>405</td><td>69</td><td>Fernanda Costa</td><td>fernanda.costa@example.com</td><td>41966666666</td><td>2024-06-04 11:41:46.00</td><td>2024-06-04 11:41:46.00</td></tr><tr><td>406</td><td>70</td><td>Lucas Martins</td><td>lucas.martins@example.com</td><td>11999999999</td><td>2024-06-04 11:41:46.00</td><td>2024-06-04 11:41:46.00</td></tr><tr><td>407</td><td>71</td><td>Mariana Lima</td><td>mariana.lima@example.com</td><td>21988888888</td><td>2024-06-04 11:41:46.00</td><td>2024-06-04 11:41:46.00</td></tr><tr><td>408</td><td>72</td><td>Pedro Santos</td><td>pedro.santos@example.com</td><td>31977777777</td><td>2024-06-04 11:41:46.00</td><td>2024-06-04 11:41:46.00</td></tr><tr><td>409</td><td>73</td><td>Fernanda Costa</td><td>fernanda.costa@example.com</td><td>41966666666</td><td>2024-06-04 11:41:46.00</td><td>2024-06-04 11:41:46.00</td></tr><tr><td>410</td><td>74</td><td>Lucas Martins</td><td>lucas.martins@example.com</td><td>11999999999</td><td>2024-06-04 11:41:46.00</td><td>2024-06-04 11:41:46.00</td></tr><tr><td>411</td><td>75</td><td>Mariana Lima</td><td>mariana.lima@example.com</td><td>21988888888</td><td>2024-06-04 11:41:46.00</td><td>2024-06-04 11:41:46.00</td></tr><tr><td>412</td><td>76</td><td>Pedro Santos</td><td>pedro.santos@example.com</td><td>31977777777</td><td>2024-06-04 11:41:46.00</td><td>2024-06-04 11:41:46.00</td></tr><tr><td>413</td><td>77</td><td>Fernanda Costa</td><td>fernanda.costa@example.com</td><td>41966666666</td><td>2024-06-04 11:41:46.00</td><td>2024-06-04 11:41:46.00</td></tr><tr><td>414</td><td>78</td><td>Lucas Martins</td><td>lucas.martins@example.com</td><td>11999999999</td><td>2024-06-04 11:41:46.00</td><td>2024-06-04 11:41:46.00</td></tr><tr><td>415</td><td>79</td><td>Mariana Lima</td><td>mariana.lima@example.com</td><td>21988888888</td><td>2024-06-04 11:41:46.00</td><td>2024-06-04 11:41:46.00</td></tr><tr><td>416</td><td>80</td><td>Pedro Santos</td><td>pedro.santos@example.com</td><td>31977777777</td><td>2024-06-04 11:41:46.00</td><td>2024-06-04 11:41:46.00</td></tr><tr><td>417</td><td>81</td><td>Fernanda Costa</td><td>fernanda.costa@example.com</td><td>41966666666</td><td>2024-06-04 11:41:46.00</td><td>2024-06-04 11:41:46.00</td></tr><tr><td>418</td><td>82</td><td>Lucas Martins</td><td>lucas.martins@example.com</td><td>11999999999</td><td>2024-06-04 11:41:46.00</td><td>2024-06-04 11:41:46.00</td></tr><tr><td>419</td><td>83</td><td>Mariana Lima</td><td>mariana.lima@example.com</td><td>21988888888</td><td>2024-06-04 11:41:46.00</td><td>2024-06-04 11:41:46.00</td></tr><tr><td>420</td><td>84</td><td>Pedro Santos</td><td>pedro.santos@example.com</td><td>31977777777</td><td>2024-06-04 11:41:46.00</td><td>2024-06-04 11:41:46.00</td></tr><tr><td>421</td><td>85</td><td>Fernanda Costa</td><td>fernanda.costa@example.com</td><td>41966666666</td><td>2024-06-04 11:41:46.00</td><td>2024-06-04 11:41:46.00</td></tr><tr><td>422</td><td>1050</td><td>Lucas Martins</td><td>lucas.martins@example.com</td><td>11999999999</td><td>2024-06-04 11:41:46.00</td><td>2024-06-04 11:41:46.00</td></tr><tr><td>423</td><td>1051</td><td>Mariana Lima</td><td>mariana.lima@example.com</td><td>21988888888</td><td>2024-06-04 11:41:46.00</td><td>2024-06-04 11:41:46.00</td></tr><tr><td>424</td><td>1052</td><td>Pedro Santos</td><td>pedro.santos@example.com</td><td>31977777777</td><td>2024-06-04 11:41:46.00</td><td>2024-06-04 11:41:46.00</td></tr><tr><td>425</td><td>1053</td><td>Fernanda Costa</td><td>fernanda.costa@example.com</td><td>41966666666</td><td>2024-06-04 11:41:46.00</td><td>2024-06-04 11:41:46.00</td></tr><tr><td>426</td><td>1054</td><td>Lucas Martins</td><td>lucas.martins@example.com</td><td>11999999999</td><td>2024-06-04 11:41:46.00</td><td>2024-06-04 11:41:46.00</td></tr><tr><td>427</td><td>1055</td><td>Mariana Lima</td><td>mariana.lima@example.com</td><td>21988888888</td><td>2024-06-04 11:41:46.00</td><td>2024-06-04 11:41:46.00</td></tr><tr><td>428</td><td>1056</td><td>Pedro Santos</td><td>pedro.santos@example.com</td><td>31977777777</td><td>2024-06-04 11:41:46.00</td><td>2024-06-04 11:41:46.00</td></tr><tr><td>429</td><td>1057</td><td>Fernanda Costa</td><td>fernanda.costa@example.com</td><td>41966666666</td><td>2024-06-04 11:41:46.00</td><td>2024-06-04 11:41:46.00</td></tr><tr><td>430</td><td>1058</td><td>Lucas Martins</td><td>lucas.martins@example.com</td><td>11999999999</td><td>2024-06-04 11:41:46.00</td><td>2024-06-04 11:41:46.00</td></tr><tr><td>431</td><td>1059</td><td>Mariana Lima</td><td>mariana.lima@example.com</td><td>21988888888</td><td>2024-06-04 11:41:46.00</td><td>2024-06-04 11:41:46.00</td></tr><tr><td>432</td><td>1060</td><td>Pedro Santos</td><td>pedro.santos@example.com</td><td>31977777777</td><td>2024-06-04 11:41:46.00</td><td>2024-06-04 11:41:46.00</td></tr><tr><td>433</td><td>1061</td><td>Fernanda Costa</td><td>fernanda.costa@example.com</td><td>41966666666</td><td>2024-06-04 11:41:46.00</td><td>2024-06-04 11:41:46.00</td></tr><tr><td>434</td><td>1062</td><td>Lucas Martins</td><td>lucas.martins@example.com</td><td>11999999999</td><td>2024-06-04 11:41:46.00</td><td>2024-06-04 11:41:46.00</td></tr><tr><td>435</td><td>1063</td><td>Mariana Lima</td><td>mariana.lima@example.com</td><td>21988888888</td><td>2024-06-04 11:41:46.00</td><td>2024-06-04 11:41:46.00</td></tr><tr><td>436</td><td>1064</td><td>Pedro Santos</td><td>pedro.santos@example.com</td><td>31977777777</td><td>2024-06-04 11:41:46.00</td><td>2024-06-04 11:41:46.00</td></tr><tr><td>437</td><td>1065</td><td>Fernanda Costa</td><td>fernanda.costa@example.com</td><td>41966666666</td><td>2024-06-04 11:41:46.00</td><td>2024-06-04 11:41:46.00</td></tr><tr><td>438</td><td>1066</td><td>Lucas Martins</td><td>lucas.martins@example.com</td><td>11999999999</td><td>2024-06-04 11:41:46.00</td><td>2024-06-04 11:41:46.00</td></tr><tr><td>439</td><td>1067</td><td>Mariana Lima</td><td>mariana.lima@example.com</td><td>21988888888</td><td>2024-06-04 11:41:46.00</td><td>2024-06-04 11:41:46.00</td></tr><tr><td>440</td><td>1068</td><td>Pedro Santos</td><td>pedro.santos@example.com</td><td>31977777777</td><td>2024-06-04 11:41:46.00</td><td>2024-06-04 11:41:46.00</td></tr><tr><td>441</td><td>1069</td><td>Fernanda Costa</td><td>fernanda.costa@example.com</td><td>41966666666</td><td>2024-06-04 11:41:46.00</td><td>2024-06-04 11:41:46.00</td></tr><tr><td>442</td><td>1070</td><td>Lucas Martins</td><td>lucas.martins@example.com</td><td>11999999999</td><td>2024-06-04 11:41:46.00</td><td>2024-06-04 11:41:46.00</td></tr><tr><td>443</td><td>1071</td><td>Mariana Lima</td><td>mariana.lima@example.com</td><td>21988888888</td><td>2024-06-04 11:41:46.00</td><td>2024-06-04 11:41:46.00</td></tr><tr><td>444</td><td>1072</td><td>Pedro Santos</td><td>pedro.santos@example.com</td><td>31977777777</td><td>2024-06-04 11:41:46.00</td><td>2024-06-04 11:41:46.00</td></tr><tr><td>445</td><td>1073</td><td>Fernanda Costa</td><td>fernanda.costa@example.com</td><td>41966666666</td><td>2024-06-04 11:41:46.00</td><td>2024-06-04 11:41:46.00</td></tr><tr><td>446</td><td>1074</td><td>Lucas Martins</td><td>lucas.martins@example.com</td><td>11999999999</td><td>2024-06-04 11:41:46.00</td><td>2024-06-04 11:41:46.00</td></tr><tr><td>447</td><td>1075</td><td>Mariana Lima</td><td>mariana.lima@example.com</td><td>21988888888</td><td>2024-06-04 11:41:46.00</td><td>2024-06-04 11:41:46.00</td></tr><tr><td>448</td><td>1076</td><td>Pedro Santos</td><td>pedro.santos@example.com</td><td>31977777777</td><td>2024-06-04 11:41:46.00</td><td>2024-06-04 11:41:46.00</td></tr><tr><td>449</td><td>1077</td><td>Fernanda Costa</td><td>fernanda.costa@example.com</td><td>41966666666</td><td>2024-06-04 11:41:46.00</td><td>2024-06-04 11:41:46.00</td></tr><tr><td>450</td><td>1</td><td>Lucas Martins</td><td>lucas.martins@example.com</td><td>11999999999</td><td>2024-06-04 11:57:34.00</td><td>2024-06-04 11:57:34.00</td></tr><tr><td>451</td><td>2</td><td>Mariana Lima</td><td>mariana.lima@example.com</td><td>21988888888</td><td>2024-06-04 11:57:34.00</td><td>2024-06-04 11:57:34.00</td></tr><tr><td>452</td><td>3</td><td>Pedro Santos</td><td>pedro.santos@example.com</td><td>31977777777</td><td>2024-06-04 11:57:34.00</td><td>2024-06-04 11:57:34.00</td></tr><tr><td>453</td><td>4</td><td>Fernanda Costa</td><td>fernanda.costa@example.com</td><td>41966666666</td><td>2024-06-04 11:57:34.00</td><td>2024-06-04 11:57:34.00</td></tr><tr><td>454</td><td>6</td><td>Lucas Martins</td><td>lucas.martins@example.com</td><td>11999999999</td><td>2024-06-04 11:57:34.00</td><td>2024-06-04 11:57:34.00</td></tr><tr><td>455</td><td>7</td><td>Mariana Lima</td><td>mariana.lima@example.com</td><td>21988888888</td><td>2024-06-04 11:57:34.00</td><td>2024-06-04 11:57:34.00</td></tr><tr><td>456</td><td>8</td><td>Pedro Santos</td><td>pedro.santos@example.com</td><td>31977777777</td><td>2024-06-04 11:57:34.00</td><td>2024-06-04 11:57:34.00</td></tr><tr><td>457</td><td>9</td><td>Fernanda Costa</td><td>fernanda.costa@example.com</td><td>41966666666</td><td>2024-06-04 11:57:34.00</td><td>2024-06-04 11:57:34.00</td></tr><tr><td>458</td><td>10</td><td>Lucas Martins</td><td>lucas.martins@example.com</td><td>11999999999</td><td>2024-06-04 11:57:34.00</td><td>2024-06-04 11:57:34.00</td></tr><tr><td>459</td><td>11</td><td>Mariana Lima</td><td>mariana.lima@example.com</td><td>21988888888</td><td>2024-06-04 11:57:34.00</td><td>2024-06-04 11:57:34.00</td></tr><tr><td>460</td><td>12</td><td>Pedro Santos</td><td>pedro.santos@example.com</td><td>31977777777</td><td>2024-06-04 11:57:34.00</td><td>2024-06-04 11:57:34.00</td></tr><tr><td>461</td><td>13</td><td>Fernanda Costa</td><td>fernanda.costa@example.com</td><td>41966666666</td><td>2024-06-04 11:57:34.00</td><td>2024-06-04 11:57:34.00</td></tr><tr><td>462</td><td>14</td><td>Lucas Martins</td><td>lucas.martins@example.com</td><td>11999999999</td><td>2024-06-04 11:57:34.00</td><td>2024-06-04 11:57:34.00</td></tr><tr><td>463</td><td>15</td><td>Mariana Lima</td><td>mariana.lima@example.com</td><td>21988888888</td><td>2024-06-04 11:57:34.00</td><td>2024-06-04 11:57:34.00</td></tr><tr><td>464</td><td>16</td><td>Pedro Santos</td><td>pedro.santos@example.com</td><td>31977777777</td><td>2024-06-04 11:57:34.00</td><td>2024-06-04 11:57:34.00</td></tr><tr><td>465</td><td>17</td><td>Fernanda Costa</td><td>fernanda.costa@example.com</td><td>41966666666</td><td>2024-06-04 11:57:34.00</td><td>2024-06-04 11:57:34.00</td></tr><tr><td>466</td><td>18</td><td>Lucas Martins</td><td>lucas.martins@example.com</td><td>11999999999</td><td>2024-06-04 11:57:34.00</td><td>2024-06-04 11:57:34.00</td></tr><tr><td>467</td><td>19</td><td>Mariana Lima</td><td>mariana.lima@example.com</td><td>21988888888</td><td>2024-06-04 11:57:34.00</td><td>2024-06-04 11:57:34.00</td></tr><tr><td>468</td><td>20</td><td>Pedro Santos</td><td>pedro.santos@example.com</td><td>31977777777</td><td>2024-06-04 11:57:34.00</td><td>2024-06-04 11:57:34.00</td></tr><tr><td>469</td><td>21</td><td>Fernanda Costa</td><td>fernanda.costa@example.com</td><td>41966666666</td><td>2024-06-04 11:57:34.00</td><td>2024-06-04 11:57:34.00</td></tr><tr><td>470</td><td>22</td><td>Lucas Martins</td><td>lucas.martins@example.com</td><td>11999999999</td><td>2024-06-04 11:57:34.00</td><td>2024-06-04 11:57:34.00</td></tr><tr><td>471</td><td>23</td><td>Mariana Lima</td><td>mariana.lima@example.com</td><td>21988888888</td><td>2024-06-04 11:57:34.00</td><td>2024-06-04 11:57:34.00</td></tr><tr><td>472</td><td>24</td><td>Pedro Santos</td><td>pedro.santos@example.com</td><td>31977777777</td><td>2024-06-04 11:57:34.00</td><td>2024-06-04 11:57:34.00</td></tr><tr><td>473</td><td>25</td><td>Fernanda Costa</td><td>fernanda.costa@example.com</td><td>41966666666</td><td>2024-06-04 11:57:34.00</td><td>2024-06-04 11:57:34.00</td></tr><tr><td>474</td><td>26</td><td>Lucas Martins</td><td>lucas.martins@example.com</td><td>11999999999</td><td>2024-06-04 11:57:34.00</td><td>2024-06-04 11:57:34.00</td></tr><tr><td>475</td><td>27</td><td>Mariana Lima</td><td>mariana.lima@example.com</td><td>21988888888</td><td>2024-06-04 11:57:34.00</td><td>2024-06-04 11:57:34.00</td></tr><tr><td>476</td><td>28</td><td>Pedro Santos</td><td>pedro.santos@example.com</td><td>31977777777</td><td>2024-06-04 11:57:34.00</td><td>2024-06-04 11:57:34.00</td></tr><tr><td>477</td><td>29</td><td>Fernanda Costa</td><td>fernanda.costa@example.com</td><td>41966666666</td><td>2024-06-04 11:57:34.00</td><td>2024-06-04 11:57:34.00</td></tr><tr><td>478</td><td>30</td><td>Lucas Martins</td><td>lucas.martins@example.com</td><td>11999999999</td><td>2024-06-04 11:57:34.00</td><td>2024-06-04 11:57:34.00</td></tr><tr><td>479</td><td>31</td><td>Mariana Lima</td><td>mariana.lima@example.com</td><td>21988888888</td><td>2024-06-04 11:57:34.00</td><td>2024-06-04 11:57:34.00</td></tr><tr><td>480</td><td>32</td><td>Pedro Santos</td><td>pedro.santos@example.com</td><td>31977777777</td><td>2024-06-04 11:57:34.00</td><td>2024-06-04 11:57:34.00</td></tr><tr><td>481</td><td>33</td><td>Fernanda Costa</td><td>fernanda.costa@example.com</td><td>41966666666</td><td>2024-06-04 11:57:34.00</td><td>2024-06-04 11:57:34.00</td></tr><tr><td>482</td><td>34</td><td>Lucas Martins</td><td>lucas.martins@example.com</td><td>11999999999</td><td>2024-06-04 11:57:34.00</td><td>2024-06-04 11:57:34.00</td></tr><tr><td>483</td><td>35</td><td>Mariana Lima</td><td>mariana.lima@example.com</td><td>21988888888</td><td>2024-06-04 11:57:34.00</td><td>2024-06-04 11:57:34.00</td></tr><tr><td>484</td><td>36</td><td>Pedro Santos</td><td>pedro.santos@example.com</td><td>31977777777</td><td>2024-06-04 11:57:34.00</td><td>2024-06-04 11:57:34.00</td></tr><tr><td>485</td><td>37</td><td>Fernanda Costa</td><td>fernanda.costa@example.com</td><td>41966666666</td><td>2024-06-04 11:57:34.00</td><td>2024-06-04 11:57:34.00</td></tr><tr><td>486</td><td>38</td><td>Lucas Martins</td><td>lucas.martins@example.com</td><td>11999999999</td><td>2024-06-04 11:57:34.00</td><td>2024-06-04 11:57:34.00</td></tr><tr><td>487</td><td>39</td><td>Mariana Lima</td><td>mariana.lima@example.com</td><td>21988888888</td><td>2024-06-04 11:57:34.00</td><td>2024-06-04 11:57:34.00</td></tr><tr><td>488</td><td>40</td><td>Pedro Santos</td><td>pedro.santos@example.com</td><td>31977777777</td><td>2024-06-04 11:57:34.00</td><td>2024-06-04 11:57:34.00</td></tr><tr><td>489</td><td>41</td><td>Fernanda Costa</td><td>fernanda.costa@example.com</td><td>41966666666</td><td>2024-06-04 11:57:34.00</td><td>2024-06-04 11:57:34.00</td></tr><tr><td>490</td><td>42</td><td>Lucas Martins</td><td>lucas.martins@example.com</td><td>11999999999</td><td>2024-06-04 11:57:34.00</td><td>2024-06-04 11:57:34.00</td></tr><tr><td>491</td><td>43</td><td>Mariana Lima</td><td>mariana.lima@example.com</td><td>21988888888</td><td>2024-06-04 11:57:34.00</td><td>2024-06-04 11:57:34.00</td></tr><tr><td>492</td><td>44</td><td>Pedro Santos</td><td>pedro.santos@example.com</td><td>31977777777</td><td>2024-06-04 11:57:34.00</td><td>2024-06-04 11:57:34.00</td></tr><tr><td>493</td><td>45</td><td>Fernanda Costa</td><td>fernanda.costa@example.com</td><td>41966666666</td><td>2024-06-04 11:57:34.00</td><td>2024-06-04 11:57:34.00</td></tr><tr><td>494</td><td>46</td><td>Lucas Martins</td><td>lucas.martins@example.com</td><td>11999999999</td><td>2024-06-04 11:57:34.00</td><td>2024-06-04 11:57:34.00</td></tr><tr><td>495</td><td>47</td><td>Mariana Lima</td><td>mariana.lima@example.com</td><td>21988888888</td><td>2024-06-04 11:57:34.00</td><td>2024-06-04 11:57:34.00</td></tr><tr><td>496</td><td>48</td><td>Pedro Santos</td><td>pedro.santos@example.com</td><td>31977777777</td><td>2024-06-04 11:57:34.00</td><td>2024-06-04 11:57:34.00</td></tr><tr><td>497</td><td>49</td><td>Fernanda Costa</td><td>fernanda.costa@example.com</td><td>41966666666</td><td>2024-06-04 11:57:34.00</td><td>2024-06-04 11:57:34.00</td></tr><tr><td>498</td><td>50</td><td>Lucas Martins</td><td>lucas.martins@example.com</td><td>11999999999</td><td>2024-06-04 11:57:34.00</td><td>2024-06-04 11:57:34.00</td></tr><tr><td>499</td><td>51</td><td>Mariana Lima</td><td>mariana.lima@example.com</td><td>21988888888</td><td>2024-06-04 11:57:34.00</td><td>2024-06-04 11:57:34.00</td></tr><tr><td>500</td><td>52</td><td>Pedro Santos</td><td>pedro.santos@example.com</td><td>31977777777</td><td>2024-06-04 11:57:34.00</td><td>2024-06-04 11:57:34.00</td></tr><tr><td>501</td><td>53</td><td>Fernanda Costa</td><td>fernanda.costa@example.com</td><td>41966666666</td><td>2024-06-04 11:57:34.00</td><td>2024-06-04 11:57:34.00</td></tr><tr><td>502</td><td>54</td><td>Lucas Martins</td><td>lucas.martins@example.com</td><td>11999999999</td><td>2024-06-04 11:57:34.00</td><td>2024-06-04 11:57:34.00</td></tr><tr><td>503</td><td>55</td><td>Mariana Lima</td><td>mariana.lima@example.com</td><td>21988888888</td><td>2024-06-04 11:57:34.00</td><td>2024-06-04 11:57:34.00</td></tr><tr><td>504</td><td>56</td><td>Pedro Santos</td><td>pedro.santos@example.com</td><td>31977777777</td><td>2024-06-04 11:57:34.00</td><td>2024-06-04 11:57:34.00</td></tr><tr><td>505</td><td>57</td><td>Fernanda Costa</td><td>fernanda.costa@example.com</td><td>41966666666</td><td>2024-06-04 11:57:34.00</td><td>2024-06-04 11:57:34.00</td></tr><tr><td>506</td><td>58</td><td>Lucas Martins</td><td>lucas.martins@example.com</td><td>11999999999</td><td>2024-06-04 11:57:34.00</td><td>2024-06-04 11:57:34.00</td></tr><tr><td>507</td><td>59</td><td>Mariana Lima</td><td>mariana.lima@example.com</td><td>21988888888</td><td>2024-06-04 11:57:34.00</td><td>2024-06-04 11:57:34.00</td></tr><tr><td>508</td><td>60</td><td>Pedro Santos</td><td>pedro.santos@example.com</td><td>31977777777</td><td>2024-06-04 11:57:34.00</td><td>2024-06-04 11:57:34.00</td></tr><tr><td>509</td><td>61</td><td>Fernanda Costa</td><td>fernanda.costa@example.com</td><td>41966666666</td><td>2024-06-04 11:57:34.00</td><td>2024-06-04 11:57:34.00</td></tr><tr><td>510</td><td>62</td><td>Lucas Martins</td><td>lucas.martins@example.com</td><td>11999999999</td><td>2024-06-04 11:57:34.00</td><td>2024-06-04 11:57:34.00</td></tr><tr><td>511</td><td>63</td><td>Mariana Lima</td><td>mariana.lima@example.com</td><td>21988888888</td><td>2024-06-04 11:57:34.00</td><td>2024-06-04 11:57:34.00</td></tr><tr><td>512</td><td>64</td><td>Pedro Santos</td><td>pedro.santos@example.com</td><td>31977777777</td><td>2024-06-04 11:57:34.00</td><td>2024-06-04 11:57:34.00</td></tr><tr><td>513</td><td>65</td><td>Fernanda Costa</td><td>fernanda.costa@example.com</td><td>41966666666</td><td>2024-06-04 11:57:34.00</td><td>2024-06-04 11:57:34.00</td></tr><tr><td>514</td><td>66</td><td>Lucas Martins</td><td>lucas.martins@example.com</td><td>11999999999</td><td>2024-06-04 11:57:34.00</td><td>2024-06-04 11:57:34.00</td></tr><tr><td>515</td><td>67</td><td>Mariana Lima</td><td>mariana.lima@example.com</td><td>21988888888</td><td>2024-06-04 11:57:34.00</td><td>2024-06-04 11:57:34.00</td></tr><tr><td>516</td><td>68</td><td>Pedro Santos</td><td>pedro.santos@example.com</td><td>31977777777</td><td>2024-06-04 11:57:34.00</td><td>2024-06-04 11:57:34.00</td></tr><tr><td>517</td><td>69</td><td>Fernanda Costa</td><td>fernanda.costa@example.com</td><td>41966666666</td><td>2024-06-04 11:57:34.00</td><td>2024-06-04 11:57:34.00</td></tr><tr><td>518</td><td>70</td><td>Lucas Martins</td><td>lucas.martins@example.com</td><td>11999999999</td><td>2024-06-04 11:57:34.00</td><td>2024-06-04 11:57:34.00</td></tr><tr><td>519</td><td>71</td><td>Mariana Lima</td><td>mariana.lima@example.com</td><td>21988888888</td><td>2024-06-04 11:57:34.00</td><td>2024-06-04 11:57:34.00</td></tr><tr><td>520</td><td>72</td><td>Pedro Santos</td><td>pedro.santos@example.com</td><td>31977777777</td><td>2024-06-04 11:57:34.00</td><td>2024-06-04 11:57:34.00</td></tr><tr><td>521</td><td>73</td><td>Fernanda Costa</td><td>fernanda.costa@example.com</td><td>41966666666</td><td>2024-06-04 11:57:34.00</td><td>2024-06-04 11:57:34.00</td></tr><tr><td>522</td><td>74</td><td>Lucas Martins</td><td>lucas.martins@example.com</td><td>11999999999</td><td>2024-06-04 11:57:34.00</td><td>2024-06-04 11:57:34.00</td></tr><tr><td>523</td><td>75</td><td>Mariana Lima</td><td>mariana.lima@example.com</td><td>21988888888</td><td>2024-06-04 11:57:34.00</td><td>2024-06-04 11:57:34.00</td></tr><tr><td>524</td><td>76</td><td>Pedro Santos</td><td>pedro.santos@example.com</td><td>31977777777</td><td>2024-06-04 11:57:34.00</td><td>2024-06-04 11:57:34.00</td></tr><tr><td>525</td><td>77</td><td>Fernanda Costa</td><td>fernanda.costa@example.com</td><td>41966666666</td><td>2024-06-04 11:57:34.00</td><td>2024-06-04 11:57:34.00</td></tr><tr><td>526</td><td>78</td><td>Lucas Martins</td><td>lucas.martins@example.com</td><td>11999999999</td><td>2024-06-04 11:57:34.00</td><td>2024-06-04 11:57:34.00</td></tr><tr><td>527</td><td>79</td><td>Mariana Lima</td><td>mariana.lima@example.com</td><td>21988888888</td><td>2024-06-04 11:57:34.00</td><td>2024-06-04 11:57:34.00</td></tr><tr><td>528</td><td>80</td><td>Pedro Santos</td><td>pedro.santos@example.com</td><td>31977777777</td><td>2024-06-04 11:57:34.00</td><td>2024-06-04 11:57:34.00</td></tr><tr><td>529</td><td>81</td><td>Fernanda Costa</td><td>fernanda.costa@example.com</td><td>41966666666</td><td>2024-06-04 11:57:34.00</td><td>2024-06-04 11:57:34.00</td></tr><tr><td>530</td><td>82</td><td>Lucas Martins</td><td>lucas.martins@example.com</td><td>11999999999</td><td>2024-06-04 11:57:34.00</td><td>2024-06-04 11:57:34.00</td></tr><tr><td>531</td><td>83</td><td>Mariana Lima</td><td>mariana.lima@example.com</td><td>21988888888</td><td>2024-06-04 11:57:34.00</td><td>2024-06-04 11:57:34.00</td></tr><tr><td>532</td><td>84</td><td>Pedro Santos</td><td>pedro.santos@example.com</td><td>31977777777</td><td>2024-06-04 11:57:34.00</td><td>2024-06-04 11:57:34.00</td></tr><tr><td>533</td><td>85</td><td>Fernanda Costa</td><td>fernanda.costa@example.com</td><td>41966666666</td><td>2024-06-04 11:57:34.00</td><td>2024-06-04 11:57:34.00</td></tr><tr><td>534</td><td>1050</td><td>Lucas Martins</td><td>lucas.martins@example.com</td><td>11999999999</td><td>2024-06-04 11:57:34.00</td><td>2024-06-04 11:57:34.00</td></tr><tr><td>535</td><td>1051</td><td>Mariana Lima</td><td>mariana.lima@example.com</td><td>21988888888</td><td>2024-06-04 11:57:34.00</td><td>2024-06-04 11:57:34.00</td></tr><tr><td>536</td><td>1052</td><td>Pedro Santos</td><td>pedro.santos@example.com</td><td>31977777777</td><td>2024-06-04 11:57:34.00</td><td>2024-06-04 11:57:34.00</td></tr><tr><td>537</td><td>1053</td><td>Fernanda Costa</td><td>fernanda.costa@example.com</td><td>41966666666</td><td>2024-06-04 11:57:34.00</td><td>2024-06-04 11:57:34.00</td></tr><tr><td>538</td><td>1054</td><td>Lucas Martins</td><td>lucas.martins@example.com</td><td>11999999999</td><td>2024-06-04 11:57:34.00</td><td>2024-06-04 11:57:34.00</td></tr><tr><td>539</td><td>1055</td><td>Mariana Lima</td><td>mariana.lima@example.com</td><td>21988888888</td><td>2024-06-04 11:57:34.00</td><td>2024-06-04 11:57:34.00</td></tr><tr><td>540</td><td>1056</td><td>Pedro Santos</td><td>pedro.santos@example.com</td><td>31977777777</td><td>2024-06-04 11:57:34.00</td><td>2024-06-04 11:57:34.00</td></tr><tr><td>541</td><td>1057</td><td>Fernanda Costa</td><td>fernanda.costa@example.com</td><td>41966666666</td><td>2024-06-04 11:57:34.00</td><td>2024-06-04 11:57:34.00</td></tr><tr><td>542</td><td>1058</td><td>Lucas Martins</td><td>lucas.martins@example.com</td><td>11999999999</td><td>2024-06-04 11:57:34.00</td><td>2024-06-04 11:57:34.00</td></tr><tr><td>543</td><td>1059</td><td>Mariana Lima</td><td>mariana.lima@example.com</td><td>21988888888</td><td>2024-06-04 11:57:34.00</td><td>2024-06-04 11:57:34.00</td></tr><tr><td>544</td><td>1060</td><td>Pedro Santos</td><td>pedro.santos@example.com</td><td>31977777777</td><td>2024-06-04 11:57:34.00</td><td>2024-06-04 11:57:34.00</td></tr><tr><td>545</td><td>1061</td><td>Fernanda Costa</td><td>fernanda.costa@example.com</td><td>41966666666</td><td>2024-06-04 11:57:34.00</td><td>2024-06-04 11:57:34.00</td></tr><tr><td>546</td><td>1062</td><td>Lucas Martins</td><td>lucas.martins@example.com</td><td>11999999999</td><td>2024-06-04 11:57:34.00</td><td>2024-06-04 11:57:34.00</td></tr><tr><td>547</td><td>1063</td><td>Mariana Lima</td><td>mariana.lima@example.com</td><td>21988888888</td><td>2024-06-04 11:57:34.00</td><td>2024-06-04 11:57:34.00</td></tr><tr><td>548</td><td>1064</td><td>Pedro Santos</td><td>pedro.santos@example.com</td><td>31977777777</td><td>2024-06-04 11:57:34.00</td><td>2024-06-04 11:57:34.00</td></tr><tr><td>549</td><td>1065</td><td>Fernanda Costa</td><td>fernanda.costa@example.com</td><td>41966666666</td><td>2024-06-04 11:57:34.00</td><td>2024-06-04 11:57:34.00</td></tr><tr><td>550</td><td>1066</td><td>Lucas Martins</td><td>lucas.martins@example.com</td><td>11999999999</td><td>2024-06-04 11:57:34.00</td><td>2024-06-04 11:57:34.00</td></tr><tr><td>551</td><td>1067</td><td>Mariana Lima</td><td>mariana.lima@example.com</td><td>21988888888</td><td>2024-06-04 11:57:34.00</td><td>2024-06-04 11:57:34.00</td></tr><tr><td>552</td><td>1068</td><td>Pedro Santos</td><td>pedro.santos@example.com</td><td>31977777777</td><td>2024-06-04 11:57:34.00</td><td>2024-06-04 11:57:34.00</td></tr><tr><td>553</td><td>1069</td><td>Fernanda Costa</td><td>fernanda.costa@example.com</td><td>41966666666</td><td>2024-06-04 11:57:34.00</td><td>2024-06-04 11:57:34.00</td></tr><tr><td>554</td><td>1070</td><td>Lucas Martins</td><td>lucas.martins@example.com</td><td>11999999999</td><td>2024-06-04 11:57:34.00</td><td>2024-06-04 11:57:34.00</td></tr><tr><td>555</td><td>1071</td><td>Mariana Lima</td><td>mariana.lima@example.com</td><td>21988888888</td><td>2024-06-04 11:57:34.00</td><td>2024-06-04 11:57:34.00</td></tr><tr><td>556</td><td>1072</td><td>Pedro Santos</td><td>pedro.santos@example.com</td><td>31977777777</td><td>2024-06-04 11:57:34.00</td><td>2024-06-04 11:57:34.00</td></tr><tr><td>557</td><td>1073</td><td>Fernanda Costa</td><td>fernanda.costa@example.com</td><td>41966666666</td><td>2024-06-04 11:57:34.00</td><td>2024-06-04 11:57:34.00</td></tr><tr><td>558</td><td>1074</td><td>Lucas Martins</td><td>lucas.martins@example.com</td><td>11999999999</td><td>2024-06-04 11:57:34.00</td><td>2024-06-04 11:57:34.00</td></tr><tr><td>559</td><td>1075</td><td>Mariana Lima</td><td>mariana.lima@example.com</td><td>21988888888</td><td>2024-06-04 11:57:34.00</td><td>2024-06-04 11:57:34.00</td></tr><tr><td>560</td><td>1076</td><td>Pedro Santos</td><td>pedro.santos@example.com</td><td>31977777777</td><td>2024-06-04 11:57:34.00</td><td>2024-06-04 11:57:34.00</td></tr><tr><td>561</td><td>1077</td><td>Fernanda Costa</td><td>fernanda.costa@example.com</td><td>41966666666</td><td>2024-06-04 11:57:34.00</td><td>2024-06-04 11:57:34.00</td></tr></table>"
                    },
                    "metadata": {}
                }
            ],
            "execution_count": 12
        },
        {
            "cell_type": "code",
            "source": [
                "SELECT * from [Dimensao].[D_Funcionarios]"
            ],
            "metadata": {
                "language": "sql",
                "azdata_cell_guid": "79b6eaf4-1f9d-48f1-b0a5-3eceba11c2aa"
            },
            "outputs": [
                {
                    "output_type": "display_data",
                    "data": {
                        "text/html": "(4 rows affected)"
                    },
                    "metadata": {}
                },
                {
                    "output_type": "display_data",
                    "data": {
                        "text/html": "Total execution time: 00:00:00.007"
                    },
                    "metadata": {}
                },
                {
                    "output_type": "execute_result",
                    "execution_count": 3,
                    "data": {
                        "application/vnd.dataresource+json": {
                            "schema": {
                                "fields": [
                                    {
                                        "name": "SK_Funcionario"
                                    },
                                    {
                                        "name": "IdFuncionario"
                                    },
                                    {
                                        "name": "Nome"
                                    },
                                    {
                                        "name": "Cargo"
                                    },
                                    {
                                        "name": "Salario"
                                    },
                                    {
                                        "name": "DataCriacao"
                                    },
                                    {
                                        "name": "DataAlteracao"
                                    }
                                ]
                            },
                            "data": [
                                {
                                    "SK_Funcionario": "1",
                                    "IdFuncionario": "1",
                                    "Nome": "JoÃ£o Silva",
                                    "Cargo": "Gerente",
                                    "Salario": "500000.00",
                                    "DataCriacao": "2024-06-04 17:09:24.00",
                                    "DataAlteracao": "2024-06-04 17:09:24.00"
                                },
                                {
                                    "SK_Funcionario": "2",
                                    "IdFuncionario": "2",
                                    "Nome": "Maria Souza",
                                    "Cargo": "Vendedor",
                                    "Salario": "300000.00",
                                    "DataCriacao": "2024-06-04 17:09:24.00",
                                    "DataAlteracao": "2024-06-04 17:09:24.00"
                                },
                                {
                                    "SK_Funcionario": "3",
                                    "IdFuncionario": "3",
                                    "Nome": "Carlos Pereira",
                                    "Cargo": "Caixa",
                                    "Salario": "200000.00",
                                    "DataCriacao": "2024-06-04 17:09:24.00",
                                    "DataAlteracao": "2024-06-04 17:09:24.00"
                                },
                                {
                                    "SK_Funcionario": "4",
                                    "IdFuncionario": "4",
                                    "Nome": "Ana Oliveira",
                                    "Cargo": "Assistente",
                                    "Salario": "250000.00",
                                    "DataCriacao": "2024-06-04 17:09:24.00",
                                    "DataAlteracao": "2024-06-04 17:09:24.00"
                                }
                            ]
                        },
                        "text/html": "<table><tr><th>SK_Funcionario</th><th>IdFuncionario</th><th>Nome</th><th>Cargo</th><th>Salario</th><th>DataCriacao</th><th>DataAlteracao</th></tr><tr><td>1</td><td>1</td><td>JoÃ£o Silva</td><td>Gerente</td><td>500000.00</td><td>2024-06-04 17:09:24.00</td><td>2024-06-04 17:09:24.00</td></tr><tr><td>2</td><td>2</td><td>Maria Souza</td><td>Vendedor</td><td>300000.00</td><td>2024-06-04 17:09:24.00</td><td>2024-06-04 17:09:24.00</td></tr><tr><td>3</td><td>3</td><td>Carlos Pereira</td><td>Caixa</td><td>200000.00</td><td>2024-06-04 17:09:24.00</td><td>2024-06-04 17:09:24.00</td></tr><tr><td>4</td><td>4</td><td>Ana Oliveira</td><td>Assistente</td><td>250000.00</td><td>2024-06-04 17:09:24.00</td><td>2024-06-04 17:09:24.00</td></tr></table>"
                    },
                    "metadata": {}
                }
            ],
            "execution_count": 3
        },
        {
            "cell_type": "code",
            "source": [
                "SELECT * from [Dimensao].[D_Produtos]"
            ],
            "metadata": {
                "language": "sql",
                "azdata_cell_guid": "b42f9197-0d1b-44fc-ada7-f28b321a7b02"
            },
            "outputs": [
                {
                    "output_type": "display_data",
                    "data": {
                        "text/html": "(19 rows affected)"
                    },
                    "metadata": {}
                },
                {
                    "output_type": "display_data",
                    "data": {
                        "text/html": "Total execution time: 00:00:00.008"
                    },
                    "metadata": {}
                },
                {
                    "output_type": "execute_result",
                    "execution_count": 4,
                    "data": {
                        "application/vnd.dataresource+json": {
                            "schema": {
                                "fields": [
                                    {
                                        "name": "SK_Produto"
                                    },
                                    {
                                        "name": "IdProduto"
                                    },
                                    {
                                        "name": "Nome"
                                    },
                                    {
                                        "name": "Preco"
                                    },
                                    {
                                        "name": "SK_Categoria"
                                    },
                                    {
                                        "name": "Estoque"
                                    },
                                    {
                                        "name": "DataCriacao"
                                    },
                                    {
                                        "name": "DataAlteracao"
                                    }
                                ]
                            },
                            "data": [
                                {
                                    "SK_Produto": "1",
                                    "IdProduto": "1",
                                    "Nome": "Smartphone",
                                    "Preco": "99999.00",
                                    "SK_Categoria": "1",
                                    "Estoque": "50",
                                    "DataCriacao": "2024-06-04 17:09:25.00",
                                    "DataAlteracao": "2024-06-04 17:09:25.00"
                                },
                                {
                                    "SK_Produto": "2",
                                    "IdProduto": "11",
                                    "Nome": "Fone de Ouvido",
                                    "Preco": "2999.00",
                                    "SK_Categoria": "1",
                                    "Estoque": "120",
                                    "DataCriacao": "2024-06-04 17:09:25.00",
                                    "DataAlteracao": "2024-06-04 17:09:25.00"
                                },
                                {
                                    "SK_Produto": "3",
                                    "IdProduto": "9",
                                    "Nome": "Mouse Gamer",
                                    "Preco": "3999.00",
                                    "SK_Categoria": "1",
                                    "Estoque": "150",
                                    "DataCriacao": "2024-06-04 17:09:25.00",
                                    "DataAlteracao": "2024-06-04 17:09:25.00"
                                },
                                {
                                    "SK_Produto": "4",
                                    "IdProduto": "8",
                                    "Nome": "\"Monitor 24\"\"\"",
                                    "Preco": "19999.00",
                                    "SK_Categoria": "1",
                                    "Estoque": "40",
                                    "DataCriacao": "2024-06-04 17:09:25.00",
                                    "DataAlteracao": "2024-06-04 17:09:25.00"
                                },
                                {
                                    "SK_Produto": "5",
                                    "IdProduto": "7",
                                    "Nome": "Tablet",
                                    "Preco": "49999.00",
                                    "SK_Categoria": "1",
                                    "Estoque": "75",
                                    "DataCriacao": "2024-06-04 17:09:25.00",
                                    "DataAlteracao": "2024-06-04 17:09:25.00"
                                },
                                {
                                    "SK_Produto": "6",
                                    "IdProduto": "10",
                                    "Nome": "Teclado MecÃ¢nico",
                                    "Preco": "7999.00",
                                    "SK_Categoria": "1",
                                    "Estoque": "60",
                                    "DataCriacao": "2024-06-04 17:09:25.00",
                                    "DataAlteracao": "2024-06-04 17:09:25.00"
                                },
                                {
                                    "SK_Produto": "7",
                                    "IdProduto": "2",
                                    "Nome": "Notebook",
                                    "Preco": "199999.00",
                                    "SK_Categoria": "1",
                                    "Estoque": "30",
                                    "DataCriacao": "2024-06-04 17:09:25.00",
                                    "DataAlteracao": "2024-06-04 17:09:25.00"
                                },
                                {
                                    "SK_Produto": "8",
                                    "IdProduto": "13",
                                    "Nome": "Livro de Java",
                                    "Preco": "6999.00",
                                    "SK_Categoria": "2",
                                    "Estoque": "70",
                                    "DataCriacao": "2024-06-04 17:09:25.00",
                                    "DataAlteracao": "2024-06-04 17:09:25.00"
                                },
                                {
                                    "SK_Produto": "9",
                                    "IdProduto": "3",
                                    "Nome": "Livro de SQL",
                                    "Preco": "4999.00",
                                    "SK_Categoria": "2",
                                    "Estoque": "100",
                                    "DataCriacao": "2024-06-04 17:09:25.00",
                                    "DataAlteracao": "2024-06-04 17:09:25.00"
                                },
                                {
                                    "SK_Produto": "10",
                                    "IdProduto": "12",
                                    "Nome": "Livro de Python",
                                    "Preco": "5999.00",
                                    "SK_Categoria": "2",
                                    "Estoque": "80",
                                    "DataCriacao": "2024-06-04 17:09:25.00",
                                    "DataAlteracao": "2024-06-04 17:09:25.00"
                                },
                                {
                                    "SK_Produto": "11",
                                    "IdProduto": "4",
                                    "Nome": "Camiseta",
                                    "Preco": "2999.00",
                                    "SK_Categoria": "3",
                                    "Estoque": "200",
                                    "DataCriacao": "2024-06-04 17:09:25.00",
                                    "DataAlteracao": "2024-06-04 17:09:25.00"
                                },
                                {
                                    "SK_Produto": "12",
                                    "IdProduto": "14",
                                    "Nome": "CalÃ§a Jeans",
                                    "Preco": "8999.00",
                                    "SK_Categoria": "3",
                                    "Estoque": "100",
                                    "DataCriacao": "2024-06-04 17:09:25.00",
                                    "DataAlteracao": "2024-06-04 17:09:25.00"
                                },
                                {
                                    "SK_Produto": "13",
                                    "IdProduto": "15",
                                    "Nome": "Jaqueta de Couro",
                                    "Preco": "29999.00",
                                    "SK_Categoria": "3",
                                    "Estoque": "30",
                                    "DataCriacao": "2024-06-04 17:09:25.00",
                                    "DataAlteracao": "2024-06-04 17:09:25.00"
                                },
                                {
                                    "SK_Produto": "14",
                                    "IdProduto": "17",
                                    "Nome": "ArmÃ¡rio de Cozinha",
                                    "Preco": "49999.00",
                                    "SK_Categoria": "4",
                                    "Estoque": "15",
                                    "DataCriacao": "2024-06-04 17:09:25.00",
                                    "DataAlteracao": "2024-06-04 17:09:25.00"
                                },
                                {
                                    "SK_Produto": "15",
                                    "IdProduto": "16",
                                    "Nome": "Cadeira de EscritÃ³rio",
                                    "Preco": "39999.00",
                                    "SK_Categoria": "4",
                                    "Estoque": "20",
                                    "DataCriacao": "2024-06-04 17:09:25.00",
                                    "DataAlteracao": "2024-06-04 17:09:25.00"
                                },
                                {
                                    "SK_Produto": "16",
                                    "IdProduto": "5",
                                    "Nome": "SofÃ¡",
                                    "Preco": "89999.00",
                                    "SK_Categoria": "4",
                                    "Estoque": "10",
                                    "DataCriacao": "2024-06-04 17:09:25.00",
                                    "DataAlteracao": "2024-06-04 17:09:25.00"
                                },
                                {
                                    "SK_Produto": "17",
                                    "IdProduto": "18",
                                    "Nome": "Carrinho de Controle Remoto",
                                    "Preco": "4999.00",
                                    "SK_Categoria": "5",
                                    "Estoque": "100",
                                    "DataCriacao": "2024-06-04 17:09:25.00",
                                    "DataAlteracao": "2024-06-04 17:09:25.00"
                                },
                                {
                                    "SK_Produto": "18",
                                    "IdProduto": "6",
                                    "Nome": "Boneca",
                                    "Preco": "1999.00",
                                    "SK_Categoria": "5",
                                    "Estoque": "150",
                                    "DataCriacao": "2024-06-04 17:09:25.00",
                                    "DataAlteracao": "2024-06-04 17:09:25.00"
                                },
                                {
                                    "SK_Produto": "19",
                                    "IdProduto": "19",
                                    "Nome": "Quebra-CabeÃ§a 1000 PeÃ§as",
                                    "Preco": "2499.00",
                                    "SK_Categoria": "5",
                                    "Estoque": "200",
                                    "DataCriacao": "2024-06-04 17:09:25.00",
                                    "DataAlteracao": "2024-06-04 17:09:25.00"
                                }
                            ]
                        },
                        "text/html": "<table><tr><th>SK_Produto</th><th>IdProduto</th><th>Nome</th><th>Preco</th><th>SK_Categoria</th><th>Estoque</th><th>DataCriacao</th><th>DataAlteracao</th></tr><tr><td>1</td><td>1</td><td>Smartphone</td><td>99999.00</td><td>1</td><td>50</td><td>2024-06-04 17:09:25.00</td><td>2024-06-04 17:09:25.00</td></tr><tr><td>2</td><td>11</td><td>Fone de Ouvido</td><td>2999.00</td><td>1</td><td>120</td><td>2024-06-04 17:09:25.00</td><td>2024-06-04 17:09:25.00</td></tr><tr><td>3</td><td>9</td><td>Mouse Gamer</td><td>3999.00</td><td>1</td><td>150</td><td>2024-06-04 17:09:25.00</td><td>2024-06-04 17:09:25.00</td></tr><tr><td>4</td><td>8</td><td>&quot;Monitor 24&quot;&quot;&quot;</td><td>19999.00</td><td>1</td><td>40</td><td>2024-06-04 17:09:25.00</td><td>2024-06-04 17:09:25.00</td></tr><tr><td>5</td><td>7</td><td>Tablet</td><td>49999.00</td><td>1</td><td>75</td><td>2024-06-04 17:09:25.00</td><td>2024-06-04 17:09:25.00</td></tr><tr><td>6</td><td>10</td><td>Teclado MecÃ¢nico</td><td>7999.00</td><td>1</td><td>60</td><td>2024-06-04 17:09:25.00</td><td>2024-06-04 17:09:25.00</td></tr><tr><td>7</td><td>2</td><td>Notebook</td><td>199999.00</td><td>1</td><td>30</td><td>2024-06-04 17:09:25.00</td><td>2024-06-04 17:09:25.00</td></tr><tr><td>8</td><td>13</td><td>Livro de Java</td><td>6999.00</td><td>2</td><td>70</td><td>2024-06-04 17:09:25.00</td><td>2024-06-04 17:09:25.00</td></tr><tr><td>9</td><td>3</td><td>Livro de SQL</td><td>4999.00</td><td>2</td><td>100</td><td>2024-06-04 17:09:25.00</td><td>2024-06-04 17:09:25.00</td></tr><tr><td>10</td><td>12</td><td>Livro de Python</td><td>5999.00</td><td>2</td><td>80</td><td>2024-06-04 17:09:25.00</td><td>2024-06-04 17:09:25.00</td></tr><tr><td>11</td><td>4</td><td>Camiseta</td><td>2999.00</td><td>3</td><td>200</td><td>2024-06-04 17:09:25.00</td><td>2024-06-04 17:09:25.00</td></tr><tr><td>12</td><td>14</td><td>CalÃ§a Jeans</td><td>8999.00</td><td>3</td><td>100</td><td>2024-06-04 17:09:25.00</td><td>2024-06-04 17:09:25.00</td></tr><tr><td>13</td><td>15</td><td>Jaqueta de Couro</td><td>29999.00</td><td>3</td><td>30</td><td>2024-06-04 17:09:25.00</td><td>2024-06-04 17:09:25.00</td></tr><tr><td>14</td><td>17</td><td>ArmÃ¡rio de Cozinha</td><td>49999.00</td><td>4</td><td>15</td><td>2024-06-04 17:09:25.00</td><td>2024-06-04 17:09:25.00</td></tr><tr><td>15</td><td>16</td><td>Cadeira de EscritÃ³rio</td><td>39999.00</td><td>4</td><td>20</td><td>2024-06-04 17:09:25.00</td><td>2024-06-04 17:09:25.00</td></tr><tr><td>16</td><td>5</td><td>SofÃ¡</td><td>89999.00</td><td>4</td><td>10</td><td>2024-06-04 17:09:25.00</td><td>2024-06-04 17:09:25.00</td></tr><tr><td>17</td><td>18</td><td>Carrinho de Controle Remoto</td><td>4999.00</td><td>5</td><td>100</td><td>2024-06-04 17:09:25.00</td><td>2024-06-04 17:09:25.00</td></tr><tr><td>18</td><td>6</td><td>Boneca</td><td>1999.00</td><td>5</td><td>150</td><td>2024-06-04 17:09:25.00</td><td>2024-06-04 17:09:25.00</td></tr><tr><td>19</td><td>19</td><td>Quebra-CabeÃ§a 1000 PeÃ§as</td><td>2499.00</td><td>5</td><td>200</td><td>2024-06-04 17:09:25.00</td><td>2024-06-04 17:09:25.00</td></tr></table>"
                    },
                    "metadata": {}
                }
            ],
            "execution_count": 4
        },
        {
            "cell_type": "code",
            "source": [
                "SELECT * from [Fato].Vendas"
            ],
            "metadata": {
                "language": "sql",
                "azdata_cell_guid": "dd33a742-f9f4-4879-8b7e-20fd7960582f"
            },
            "outputs": [
                {
                    "output_type": "display_data",
                    "data": {
                        "text/html": "(20 rows affected)"
                    },
                    "metadata": {}
                },
                {
                    "output_type": "display_data",
                    "data": {
                        "text/html": "Total execution time: 00:00:00.009"
                    },
                    "metadata": {}
                },
                {
                    "output_type": "execute_result",
                    "execution_count": 5,
                    "data": {
                        "application/vnd.dataresource+json": {
                            "schema": {
                                "fields": [
                                    {
                                        "name": "SK_Venda"
                                    },
                                    {
                                        "name": "IdOrdem"
                                    },
                                    {
                                        "name": "IdDetalheOrdem"
                                    },
                                    {
                                        "name": "SK_Cliente"
                                    },
                                    {
                                        "name": "SK_Funcionario"
                                    },
                                    {
                                        "name": "SK_IdProduto"
                                    },
                                    {
                                        "name": "SK_Loja"
                                    },
                                    {
                                        "name": "DataOrdem"
                                    },
                                    {
                                        "name": "Quantidade"
                                    },
                                    {
                                        "name": "PrecoUnitario"
                                    },
                                    {
                                        "name": "DataCriacao"
                                    },
                                    {
                                        "name": "DataAlteracao"
                                    }
                                ]
                            },
                            "data": [
                                {
                                    "SK_Venda": "0",
                                    "IdOrdem": "6",
                                    "IdDetalheOrdem": "3",
                                    "SK_Cliente": "2",
                                    "SK_Funcionario": "1",
                                    "SK_IdProduto": "9",
                                    "SK_Loja": "1",
                                    "DataOrdem": "2023-05-06 16:40:00.000",
                                    "Quantidade": "2",
                                    "PrecoUnitario": "2999.00",
                                    "DataCriacao": "2024-06-04 17:09:26.00",
                                    "DataAlteracao": "2024-06-04 17:09:26.00"
                                },
                                {
                                    "SK_Venda": "1",
                                    "IdOrdem": "8",
                                    "IdDetalheOrdem": "8",
                                    "SK_Cliente": "4",
                                    "SK_Funcionario": "3",
                                    "SK_IdProduto": "6",
                                    "SK_Loja": "1",
                                    "DataOrdem": "2023-05-08 15:50:00.000",
                                    "Quantidade": "1",
                                    "PrecoUnitario": "39999.00",
                                    "DataCriacao": "2024-06-04 17:09:26.00",
                                    "DataAlteracao": "2024-06-04 17:09:26.00"
                                },
                                {
                                    "SK_Venda": "2",
                                    "IdOrdem": "13",
                                    "IdDetalheOrdem": "18",
                                    "SK_Cliente": "1",
                                    "SK_Funcionario": "2",
                                    "SK_IdProduto": "18",
                                    "SK_Loja": "1",
                                    "DataOrdem": "2023-05-13 17:30:00.000",
                                    "Quantidade": "1",
                                    "PrecoUnitario": "5999.00",
                                    "DataCriacao": "2024-06-04 17:09:26.00",
                                    "DataAlteracao": "2024-06-04 17:09:26.00"
                                },
                                {
                                    "SK_Venda": "3",
                                    "IdOrdem": "6",
                                    "IdDetalheOrdem": "4",
                                    "SK_Cliente": "2",
                                    "SK_Funcionario": "1",
                                    "SK_IdProduto": "11",
                                    "SK_Loja": "1",
                                    "DataOrdem": "2023-05-06 16:40:00.000",
                                    "Quantidade": "1",
                                    "PrecoUnitario": "19999.00",
                                    "DataCriacao": "2024-06-04 17:09:26.00",
                                    "DataAlteracao": "2024-06-04 17:09:26.00"
                                },
                                {
                                    "SK_Venda": "4",
                                    "IdOrdem": "13",
                                    "IdDetalheOrdem": "17",
                                    "SK_Cliente": "1",
                                    "SK_Funcionario": "2",
                                    "SK_IdProduto": "9",
                                    "SK_Loja": "1",
                                    "DataOrdem": "2023-05-13 17:30:00.000",
                                    "Quantidade": "1",
                                    "PrecoUnitario": "2999.00",
                                    "DataCriacao": "2024-06-04 17:09:26.00",
                                    "DataAlteracao": "2024-06-04 17:09:26.00"
                                },
                                {
                                    "SK_Venda": "5",
                                    "IdOrdem": "8",
                                    "IdDetalheOrdem": "7",
                                    "SK_Cliente": "4",
                                    "SK_Funcionario": "3",
                                    "SK_IdProduto": "3",
                                    "SK_Loja": "1",
                                    "DataOrdem": "2023-05-08 15:50:00.000",
                                    "Quantidade": "1",
                                    "PrecoUnitario": "29999.00",
                                    "DataCriacao": "2024-06-04 17:09:26.00",
                                    "DataAlteracao": "2024-06-04 17:09:26.00"
                                },
                                {
                                    "SK_Venda": "6",
                                    "IdOrdem": "11",
                                    "IdDetalheOrdem": "14",
                                    "SK_Cliente": "3",
                                    "SK_Funcionario": "3",
                                    "SK_IdProduto": "10",
                                    "SK_Loja": "2",
                                    "DataOrdem": "2023-05-11 14:10:00.000",
                                    "Quantidade": "2",
                                    "PrecoUnitario": "2499.00",
                                    "DataCriacao": "2024-06-04 17:09:26.00",
                                    "DataAlteracao": "2024-06-04 17:09:26.00"
                                },
                                {
                                    "SK_Venda": "7",
                                    "IdOrdem": "9",
                                    "IdDetalheOrdem": "9",
                                    "SK_Cliente": "1",
                                    "SK_Funcionario": "1",
                                    "SK_IdProduto": "1",
                                    "SK_Loja": "2",
                                    "DataOrdem": "2023-05-09 09:00:00.000",
                                    "Quantidade": "1",
                                    "PrecoUnitario": "99999.00",
                                    "DataCriacao": "2024-06-04 17:09:26.00",
                                    "DataAlteracao": "2024-06-04 17:09:26.00"
                                },
                                {
                                    "SK_Venda": "8",
                                    "IdOrdem": "14",
                                    "IdDetalheOrdem": "19",
                                    "SK_Cliente": "2",
                                    "SK_Funcionario": "3",
                                    "SK_IdProduto": "7",
                                    "SK_Loja": "2",
                                    "DataOrdem": "2023-05-14 12:25:00.000",
                                    "Quantidade": "1",
                                    "PrecoUnitario": "49999.00",
                                    "DataCriacao": "2024-06-04 17:09:26.00",
                                    "DataAlteracao": "2024-06-04 17:09:26.00"
                                },
                                {
                                    "SK_Venda": "9",
                                    "IdOrdem": "5",
                                    "IdDetalheOrdem": "2",
                                    "SK_Cliente": "1",
                                    "SK_Funcionario": "2",
                                    "SK_IdProduto": "7",
                                    "SK_Loja": "2",
                                    "DataOrdem": "2023-05-05 13:15:00.000",
                                    "Quantidade": "1",
                                    "PrecoUnitario": "49999.00",
                                    "DataCriacao": "2024-06-04 17:09:26.00",
                                    "DataAlteracao": "2024-06-04 17:09:26.00"
                                },
                                {
                                    "SK_Venda": "10",
                                    "IdOrdem": "11",
                                    "IdDetalheOrdem": "13",
                                    "SK_Cliente": "3",
                                    "SK_Funcionario": "3",
                                    "SK_IdProduto": "2",
                                    "SK_Loja": "2",
                                    "DataOrdem": "2023-05-11 14:10:00.000",
                                    "Quantidade": "1",
                                    "PrecoUnitario": "49999.00",
                                    "DataCriacao": "2024-06-04 17:09:26.00",
                                    "DataAlteracao": "2024-06-04 17:09:26.00"
                                },
                                {
                                    "SK_Venda": "11",
                                    "IdOrdem": "5",
                                    "IdDetalheOrdem": "1",
                                    "SK_Cliente": "1",
                                    "SK_Funcionario": "2",
                                    "SK_IdProduto": "1",
                                    "SK_Loja": "2",
                                    "DataOrdem": "2023-05-05 13:15:00.000",
                                    "Quantidade": "1",
                                    "PrecoUnitario": "99999.00",
                                    "DataCriacao": "2024-06-04 17:09:26.00",
                                    "DataAlteracao": "2024-06-04 17:09:26.00"
                                },
                                {
                                    "SK_Venda": "12",
                                    "IdOrdem": "9",
                                    "IdDetalheOrdem": "10",
                                    "SK_Cliente": "1",
                                    "SK_Funcionario": "1",
                                    "SK_IdProduto": "9",
                                    "SK_Loja": "2",
                                    "DataOrdem": "2023-05-09 09:00:00.000",
                                    "Quantidade": "2",
                                    "PrecoUnitario": "2999.00",
                                    "DataCriacao": "2024-06-04 17:09:26.00",
                                    "DataAlteracao": "2024-06-04 17:09:26.00"
                                },
                                {
                                    "SK_Venda": "13",
                                    "IdOrdem": "14",
                                    "IdDetalheOrdem": "20",
                                    "SK_Cliente": "2",
                                    "SK_Funcionario": "3",
                                    "SK_IdProduto": "5",
                                    "SK_Loja": "2",
                                    "DataOrdem": "2023-05-14 12:25:00.000",
                                    "Quantidade": "1",
                                    "PrecoUnitario": "6999.00",
                                    "DataCriacao": "2024-06-04 17:09:26.00",
                                    "DataAlteracao": "2024-06-04 17:09:26.00"
                                },
                                {
                                    "SK_Venda": "14",
                                    "IdOrdem": "10",
                                    "IdDetalheOrdem": "11",
                                    "SK_Cliente": "2",
                                    "SK_Funcionario": "2",
                                    "SK_IdProduto": "16",
                                    "SK_Loja": "3",
                                    "DataOrdem": "2023-05-10 11:20:00.000",
                                    "Quantidade": "1",
                                    "PrecoUnitario": "4999.00",
                                    "DataCriacao": "2024-06-04 17:09:26.00",
                                    "DataAlteracao": "2024-06-04 17:09:26.00"
                                },
                                {
                                    "SK_Venda": "15",
                                    "IdOrdem": "7",
                                    "IdDetalheOrdem": "6",
                                    "SK_Cliente": "3",
                                    "SK_Funcionario": "4",
                                    "SK_IdProduto": "5",
                                    "SK_Loja": "3",
                                    "DataOrdem": "2023-05-07 10:30:00.000",
                                    "Quantidade": "1",
                                    "PrecoUnitario": "6999.00",
                                    "DataCriacao": "2024-06-04 17:09:26.00",
                                    "DataAlteracao": "2024-06-04 17:09:26.00"
                                },
                                {
                                    "SK_Venda": "16",
                                    "IdOrdem": "7",
                                    "IdDetalheOrdem": "5",
                                    "SK_Cliente": "3",
                                    "SK_Funcionario": "4",
                                    "SK_IdProduto": "18",
                                    "SK_Loja": "3",
                                    "DataOrdem": "2023-05-07 10:30:00.000",
                                    "Quantidade": "1",
                                    "PrecoUnitario": "5999.00",
                                    "DataCriacao": "2024-06-04 17:09:26.00",
                                    "DataAlteracao": "2024-06-04 17:09:26.00"
                                },
                                {
                                    "SK_Venda": "17",
                                    "IdOrdem": "12",
                                    "IdDetalheOrdem": "15",
                                    "SK_Cliente": "4",
                                    "SK_Funcionario": "4",
                                    "SK_IdProduto": "1",
                                    "SK_Loja": "3",
                                    "DataOrdem": "2023-05-12 08:45:00.000",
                                    "Quantidade": "1",
                                    "PrecoUnitario": "99999.00",
                                    "DataCriacao": "2024-06-04 17:09:26.00",
                                    "DataAlteracao": "2024-06-04 17:09:26.00"
                                },
                                {
                                    "SK_Venda": "18",
                                    "IdOrdem": "10",
                                    "IdDetalheOrdem": "12",
                                    "SK_Cliente": "2",
                                    "SK_Funcionario": "2",
                                    "SK_IdProduto": "4",
                                    "SK_Loja": "3",
                                    "DataOrdem": "2023-05-10 11:20:00.000",
                                    "Quantidade": "1",
                                    "PrecoUnitario": "8999.00",
                                    "DataCriacao": "2024-06-04 17:09:26.00",
                                    "DataAlteracao": "2024-06-04 17:09:26.00"
                                },
                                {
                                    "SK_Venda": "19",
                                    "IdOrdem": "12",
                                    "IdDetalheOrdem": "16",
                                    "SK_Cliente": "4",
                                    "SK_Funcionario": "4",
                                    "SK_IdProduto": "8",
                                    "SK_Loja": "3",
                                    "DataOrdem": "2023-05-12 08:45:00.000",
                                    "Quantidade": "1",
                                    "PrecoUnitario": "2499.00",
                                    "DataCriacao": "2024-06-04 17:09:26.00",
                                    "DataAlteracao": "2024-06-04 17:09:26.00"
                                }
                            ]
                        },
                        "text/html": "<table><tr><th>SK_Venda</th><th>IdOrdem</th><th>IdDetalheOrdem</th><th>SK_Cliente</th><th>SK_Funcionario</th><th>SK_IdProduto</th><th>SK_Loja</th><th>DataOrdem</th><th>Quantidade</th><th>PrecoUnitario</th><th>DataCriacao</th><th>DataAlteracao</th></tr><tr><td>0</td><td>6</td><td>3</td><td>2</td><td>1</td><td>9</td><td>1</td><td>2023-05-06 16:40:00.000</td><td>2</td><td>2999.00</td><td>2024-06-04 17:09:26.00</td><td>2024-06-04 17:09:26.00</td></tr><tr><td>1</td><td>8</td><td>8</td><td>4</td><td>3</td><td>6</td><td>1</td><td>2023-05-08 15:50:00.000</td><td>1</td><td>39999.00</td><td>2024-06-04 17:09:26.00</td><td>2024-06-04 17:09:26.00</td></tr><tr><td>2</td><td>13</td><td>18</td><td>1</td><td>2</td><td>18</td><td>1</td><td>2023-05-13 17:30:00.000</td><td>1</td><td>5999.00</td><td>2024-06-04 17:09:26.00</td><td>2024-06-04 17:09:26.00</td></tr><tr><td>3</td><td>6</td><td>4</td><td>2</td><td>1</td><td>11</td><td>1</td><td>2023-05-06 16:40:00.000</td><td>1</td><td>19999.00</td><td>2024-06-04 17:09:26.00</td><td>2024-06-04 17:09:26.00</td></tr><tr><td>4</td><td>13</td><td>17</td><td>1</td><td>2</td><td>9</td><td>1</td><td>2023-05-13 17:30:00.000</td><td>1</td><td>2999.00</td><td>2024-06-04 17:09:26.00</td><td>2024-06-04 17:09:26.00</td></tr><tr><td>5</td><td>8</td><td>7</td><td>4</td><td>3</td><td>3</td><td>1</td><td>2023-05-08 15:50:00.000</td><td>1</td><td>29999.00</td><td>2024-06-04 17:09:26.00</td><td>2024-06-04 17:09:26.00</td></tr><tr><td>6</td><td>11</td><td>14</td><td>3</td><td>3</td><td>10</td><td>2</td><td>2023-05-11 14:10:00.000</td><td>2</td><td>2499.00</td><td>2024-06-04 17:09:26.00</td><td>2024-06-04 17:09:26.00</td></tr><tr><td>7</td><td>9</td><td>9</td><td>1</td><td>1</td><td>1</td><td>2</td><td>2023-05-09 09:00:00.000</td><td>1</td><td>99999.00</td><td>2024-06-04 17:09:26.00</td><td>2024-06-04 17:09:26.00</td></tr><tr><td>8</td><td>14</td><td>19</td><td>2</td><td>3</td><td>7</td><td>2</td><td>2023-05-14 12:25:00.000</td><td>1</td><td>49999.00</td><td>2024-06-04 17:09:26.00</td><td>2024-06-04 17:09:26.00</td></tr><tr><td>9</td><td>5</td><td>2</td><td>1</td><td>2</td><td>7</td><td>2</td><td>2023-05-05 13:15:00.000</td><td>1</td><td>49999.00</td><td>2024-06-04 17:09:26.00</td><td>2024-06-04 17:09:26.00</td></tr><tr><td>10</td><td>11</td><td>13</td><td>3</td><td>3</td><td>2</td><td>2</td><td>2023-05-11 14:10:00.000</td><td>1</td><td>49999.00</td><td>2024-06-04 17:09:26.00</td><td>2024-06-04 17:09:26.00</td></tr><tr><td>11</td><td>5</td><td>1</td><td>1</td><td>2</td><td>1</td><td>2</td><td>2023-05-05 13:15:00.000</td><td>1</td><td>99999.00</td><td>2024-06-04 17:09:26.00</td><td>2024-06-04 17:09:26.00</td></tr><tr><td>12</td><td>9</td><td>10</td><td>1</td><td>1</td><td>9</td><td>2</td><td>2023-05-09 09:00:00.000</td><td>2</td><td>2999.00</td><td>2024-06-04 17:09:26.00</td><td>2024-06-04 17:09:26.00</td></tr><tr><td>13</td><td>14</td><td>20</td><td>2</td><td>3</td><td>5</td><td>2</td><td>2023-05-14 12:25:00.000</td><td>1</td><td>6999.00</td><td>2024-06-04 17:09:26.00</td><td>2024-06-04 17:09:26.00</td></tr><tr><td>14</td><td>10</td><td>11</td><td>2</td><td>2</td><td>16</td><td>3</td><td>2023-05-10 11:20:00.000</td><td>1</td><td>4999.00</td><td>2024-06-04 17:09:26.00</td><td>2024-06-04 17:09:26.00</td></tr><tr><td>15</td><td>7</td><td>6</td><td>3</td><td>4</td><td>5</td><td>3</td><td>2023-05-07 10:30:00.000</td><td>1</td><td>6999.00</td><td>2024-06-04 17:09:26.00</td><td>2024-06-04 17:09:26.00</td></tr><tr><td>16</td><td>7</td><td>5</td><td>3</td><td>4</td><td>18</td><td>3</td><td>2023-05-07 10:30:00.000</td><td>1</td><td>5999.00</td><td>2024-06-04 17:09:26.00</td><td>2024-06-04 17:09:26.00</td></tr><tr><td>17</td><td>12</td><td>15</td><td>4</td><td>4</td><td>1</td><td>3</td><td>2023-05-12 08:45:00.000</td><td>1</td><td>99999.00</td><td>2024-06-04 17:09:26.00</td><td>2024-06-04 17:09:26.00</td></tr><tr><td>18</td><td>10</td><td>12</td><td>2</td><td>2</td><td>4</td><td>3</td><td>2023-05-10 11:20:00.000</td><td>1</td><td>8999.00</td><td>2024-06-04 17:09:26.00</td><td>2024-06-04 17:09:26.00</td></tr><tr><td>19</td><td>12</td><td>16</td><td>4</td><td>4</td><td>8</td><td>3</td><td>2023-05-12 08:45:00.000</td><td>1</td><td>2499.00</td><td>2024-06-04 17:09:26.00</td><td>2024-06-04 17:09:26.00</td></tr></table>"
                    },
                    "metadata": {}
                }
            ],
            "execution_count": 5
        },
        {
            "cell_type": "code",
            "source": [
                "SELECT * from Fato.Vendas"
            ],
            "metadata": {
                "language": "sql",
                "azdata_cell_guid": "ce56b9b0-fa77-49bd-a162-28fbdf65a1ea"
            },
            "outputs": [
                {
                    "output_type": "display_data",
                    "data": {
                        "text/html": "(0 rows affected)"
                    },
                    "metadata": {}
                },
                {
                    "output_type": "display_data",
                    "data": {
                        "text/html": "Total execution time: 00:00:00.003"
                    },
                    "metadata": {}
                },
                {
                    "output_type": "execute_result",
                    "execution_count": 15,
                    "data": {
                        "application/vnd.dataresource+json": {
                            "schema": {
                                "fields": [
                                    {
                                        "name": "SK_Venda"
                                    },
                                    {
                                        "name": "IdOrdem"
                                    },
                                    {
                                        "name": "IdDetalheOrdem"
                                    },
                                    {
                                        "name": "SK_Cliente"
                                    },
                                    {
                                        "name": "SK_Funcionario"
                                    },
                                    {
                                        "name": "SK_IdProduto"
                                    },
                                    {
                                        "name": "SK_Loja"
                                    },
                                    {
                                        "name": "DataOrdem"
                                    },
                                    {
                                        "name": "Quantidade"
                                    },
                                    {
                                        "name": "PrecoUnitario"
                                    },
                                    {
                                        "name": "DataCriacao"
                                    },
                                    {
                                        "name": "DataAlteracao"
                                    }
                                ]
                            },
                            "data": []
                        },
                        "text/html": "<table><tr><th>SK_Venda</th><th>IdOrdem</th><th>IdDetalheOrdem</th><th>SK_Cliente</th><th>SK_Funcionario</th><th>SK_IdProduto</th><th>SK_Loja</th><th>DataOrdem</th><th>Quantidade</th><th>PrecoUnitario</th><th>DataCriacao</th><th>DataAlteracao</th></tr></table>"
                    },
                    "metadata": {}
                }
            ],
            "execution_count": 15
        }
    ]
}