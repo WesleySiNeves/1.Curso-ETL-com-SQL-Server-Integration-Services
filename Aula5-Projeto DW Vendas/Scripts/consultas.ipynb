{
    "metadata": {
        "kernelspec": {
            "name": "SQL",
            "display_name": "SQL",
            "language": "sql"
        },
        "language_info": {
            "name": "sql",
            "version": ""
        }
    },
    "nbformat_minor": 2,
    "nbformat": 4,
    "cells": [
        {
            "cell_type": "markdown",
            "source": [
                "## Seleciona o  banco de dados"
            ],
            "metadata": {
                "azdata_cell_guid": "3d326631-b4e3-4d3e-9d53-e632c690cc60"
            },
            "attachments": {}
        },
        {
            "cell_type": "code",
            "source": [
                "Use PortalVendas"
            ],
            "metadata": {
                "azdata_cell_guid": "de4a1d9a-fd4f-4b01-9e68-1c3b8da4afc6",
                "language": "sql"
            },
            "outputs": [
                {
                    "output_type": "display_data",
                    "data": {
                        "text/html": "Commands completed successfully."
                    },
                    "metadata": {}
                },
                {
                    "output_type": "display_data",
                    "data": {
                        "text/html": "Total execution time: 00:00:00.006"
                    },
                    "metadata": {}
                }
            ],
            "execution_count": 1
        },
        {
            "cell_type": "markdown",
            "source": [
                "## \n",
                "\n",
                "1. 2\\. Criaçao do usuario que vamos conectar no SSIS"
            ],
            "metadata": {
                "language": "sql",
                "azdata_cell_guid": "209c877a-99a2-4bee-818c-15c2d1c14376"
            },
            "attachments": {}
        },
        {
            "cell_type": "code",
            "source": [
                "USE PortalVendas\r\n",
                "\r\n",
                " CREATE USER [operador] WITH PASSWORD = 'Qu6_S3nh@_Ch@T@';\r\n",
                " ALTER ROLE db_datareader ADD MEMBER [operador];\r\n",
                " ALTER ROLE db_datawriter ADD MEMBER [operador];\r\n",
                " ALTER ROLE db_ddladmin ADD MEMBER [operador];\r\n",
                " \r\n",
                " GRANT EXECUTE TO [operador];"
            ],
            "metadata": {
                "language": "sql",
                "azdata_cell_guid": "822e412d-a452-48b2-84a4-0f599c4916f8"
            },
            "outputs": [],
            "execution_count": null
        },
        {
            "cell_type": "markdown",
            "source": [
                "Se der erro acima , precisamos configurar o banco de dados para aceitar criaçao de usuarios"
            ],
            "metadata": {
                "language": "sql",
                "azdata_cell_guid": "3f57deaa-6138-4c0e-96bd-9647ba5642ee"
            },
            "attachments": {}
        },
        {
            "cell_type": "code",
            "source": [
                "EXEC sp_configure 'CONTAINED DATABASE AUTHENTICATION'\r\n",
                "\r\n",
                "USE [master]\r\n",
                "GO\r\n",
                "ALTER DATABASE [DWVendas] SET CONTAINMENT = PARTIAL\r\n",
                "GO\r\n",
                "\r\n",
                ""
            ],
            "metadata": {
                "language": "sql",
                "azdata_cell_guid": "88d3ec03-f3be-49da-a133-cf1e4813f789"
            },
            "outputs": [
                {
                    "output_type": "display_data",
                    "data": {
                        "text/html": "Checking identity information: current identity value '20'."
                    },
                    "metadata": {}
                },
                {
                    "output_type": "display_data",
                    "data": {
                        "text/html": "DBCC execution completed. If DBCC printed error messages, contact your system administrator."
                    },
                    "metadata": {}
                },
                {
                    "output_type": "display_data",
                    "data": {
                        "text/html": "Checking identity information: current identity value '14'."
                    },
                    "metadata": {}
                },
                {
                    "output_type": "display_data",
                    "data": {
                        "text/html": "DBCC execution completed. If DBCC printed error messages, contact your system administrator."
                    },
                    "metadata": {}
                },
                {
                    "output_type": "display_data",
                    "data": {
                        "text/html": "Checking identity information: current identity value '19'."
                    },
                    "metadata": {}
                },
                {
                    "output_type": "display_data",
                    "data": {
                        "text/html": "DBCC execution completed. If DBCC printed error messages, contact your system administrator."
                    },
                    "metadata": {}
                },
                {
                    "output_type": "display_data",
                    "data": {
                        "text/html": "Checking identity information: current identity value '8'."
                    },
                    "metadata": {}
                },
                {
                    "output_type": "display_data",
                    "data": {
                        "text/html": "DBCC execution completed. If DBCC printed error messages, contact your system administrator."
                    },
                    "metadata": {}
                },
                {
                    "output_type": "display_data",
                    "data": {
                        "text/html": "Checking identity information: current identity value '4'."
                    },
                    "metadata": {}
                },
                {
                    "output_type": "display_data",
                    "data": {
                        "text/html": "DBCC execution completed. If DBCC printed error messages, contact your system administrator."
                    },
                    "metadata": {}
                },
                {
                    "output_type": "display_data",
                    "data": {
                        "text/html": "Checking identity information: current identity value '10'."
                    },
                    "metadata": {}
                },
                {
                    "output_type": "display_data",
                    "data": {
                        "text/html": "DBCC execution completed. If DBCC printed error messages, contact your system administrator."
                    },
                    "metadata": {}
                },
                {
                    "output_type": "display_data",
                    "data": {
                        "text/html": "Total execution time: 00:00:00.004"
                    },
                    "metadata": {}
                }
            ],
            "execution_count": 9
        },
        {
            "cell_type": "markdown",
            "source": [
                "## Recuperar os dados da tabela de categorias"
            ],
            "metadata": {
                "azdata_cell_guid": "cc718851-1e92-4324-b9b8-6135d239f1ce"
            },
            "attachments": {}
        },
        {
            "cell_type": "code",
            "source": [
                "\r\n",
                "SELECT * from  Cadastro.Categorias"
            ],
            "metadata": {
                "language": "sql",
                "azdata_cell_guid": "48de863a-073d-48f6-a311-74b1b154ceaa"
            },
            "outputs": [
                {
                    "output_type": "display_data",
                    "data": {
                        "text/html": "(5 rows affected)"
                    },
                    "metadata": {}
                },
                {
                    "output_type": "display_data",
                    "data": {
                        "text/html": "Total execution time: 00:00:00.007"
                    },
                    "metadata": {}
                },
                {
                    "output_type": "execute_result",
                    "execution_count": 7,
                    "data": {
                        "application/vnd.dataresource+json": {
                            "schema": {
                                "fields": [
                                    {
                                        "name": "IdCategoria"
                                    },
                                    {
                                        "name": "Nome"
                                    }
                                ]
                            },
                            "data": [
                                {
                                    "IdCategoria": "6",
                                    "Nome": "Eletronicos"
                                },
                                {
                                    "IdCategoria": "7",
                                    "Nome": "Livros"
                                },
                                {
                                    "IdCategoria": "8",
                                    "Nome": "Roupas"
                                },
                                {
                                    "IdCategoria": "9",
                                    "Nome": "MÃ³veis"
                                },
                                {
                                    "IdCategoria": "10",
                                    "Nome": "Brinquedos"
                                }
                            ]
                        },
                        "text/html": "<table><tr><th>IdCategoria</th><th>Nome</th></tr><tr><td>6</td><td>Eletronicos</td></tr><tr><td>7</td><td>Livros</td></tr><tr><td>8</td><td>Roupas</td></tr><tr><td>9</td><td>MÃ³veis</td></tr><tr><td>10</td><td>Brinquedos</td></tr></table>"
                    },
                    "metadata": {}
                }
            ],
            "execution_count": 7
        },
        {
            "cell_type": "markdown",
            "source": [
                "## \n",
                "\n",
                "1. Script de limpeza do banco de dados"
            ],
            "metadata": {
                "azdata_cell_guid": "955f1885-8084-4232-a228-591f072a8369"
            },
            "attachments": {}
        },
        {
            "cell_type": "code",
            "source": [
                "delete from  Cadastro.OrdensDetalhes\r\n",
                "delete from  Cadastro.Ordens\r\n",
                "delete from Cadastro.Produtos\r\n",
                "delete from Cadastro.Lojas\r\n",
                "delete from Cadastro.Funcionarios\r\n",
                "delete from Cadastro.Categorias\r\n",
                "\r\n",
                "DBCC CHECKIDENT ('Cadastro.OrdensDetalhes',RESEED,0)\r\n",
                "DBCC CHECKIDENT ('Cadastro.Ordens',RESEED,0)\r\n",
                "DBCC CHECKIDENT ('Cadastro.Produtos',RESEED,0)\r\n",
                "DBCC CHECKIDENT ('Cadastro.Lojas',RESEED,0)\r\n",
                "DBCC CHECKIDENT ('Cadastro.Funcionarios',RESEED,0)\r\n",
                "DBCC CHECKIDENT ('Cadastro.Categorias',RESEED,0)\r\n",
                ""
            ],
            "metadata": {
                "language": "sql",
                "azdata_cell_guid": "979a41fe-f09b-4b14-98b9-4c3f256c4886"
            },
            "outputs": [
                {
                    "output_type": "display_data",
                    "data": {
                        "text/html": "(0 rows affected)"
                    },
                    "metadata": {}
                },
                {
                    "output_type": "display_data",
                    "data": {
                        "text/html": "(0 rows affected)"
                    },
                    "metadata": {}
                },
                {
                    "output_type": "display_data",
                    "data": {
                        "text/html": "(0 rows affected)"
                    },
                    "metadata": {}
                },
                {
                    "output_type": "display_data",
                    "data": {
                        "text/html": "(0 rows affected)"
                    },
                    "metadata": {}
                },
                {
                    "output_type": "display_data",
                    "data": {
                        "text/html": "(0 rows affected)"
                    },
                    "metadata": {}
                },
                {
                    "output_type": "display_data",
                    "data": {
                        "text/html": "(5 rows affected)"
                    },
                    "metadata": {}
                },
                {
                    "output_type": "display_data",
                    "data": {
                        "text/html": "Total execution time: 00:00:00.007"
                    },
                    "metadata": {}
                }
            ],
            "execution_count": 8
        },
        {
            "cell_type": "markdown",
            "source": [
                "Ao rodar o Job , se der erro  de code page , deve fazer essas alteraçoes aqui  \n",
                "  \n",
                "https://stackoverflow.com/questions/52360260/sql-server-the-column-cannot-be-processed-because-more-than-1-code-page-65001-a"
            ],
            "metadata": {
                "language": "sql",
                "azdata_cell_guid": "0a49e165-c760-46ad-86ea-c44066cdf1cd"
            },
            "attachments": {}
        }
    ]
}