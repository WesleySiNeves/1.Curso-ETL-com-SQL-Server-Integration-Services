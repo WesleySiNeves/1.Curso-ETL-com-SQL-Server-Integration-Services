{
 "cells": [
  {
   "cell_type": "markdown",
   "metadata": {},
   "source": [
    "## 1-Mensagem de boas vindas"
   ]
  },
  {
   "cell_type": "markdown",
   "metadata": {},
   "source": [
    "### Salve salve galera  sejam  bem-vindos ao  Curso Gratuito  de ETL com SQL Server Utilizando  SISS.\n",
    "\n",
    "\n",
    "####  Nesse Curso eu vou te ensinar tudo sobre SISS  desde o básico até técnicas avançadas. \n",
    "\n",
    "\n",
    "####  E o melhor.  É um curso 100 % prático e gratuito\n",
    "\n",
    "#### Apresentação: Se ainda não se inscreveu no canal, não se inscreva agora. Deixa eu me apresentar\n",
    "\n",
    "####  Assista primeiro, e se aprender algo valioso, deixe seu like e inscreva-se para não perder as próximas aulas. Vamos para a aula.\n",
    "\n",
    "### 2-O que você vai aprender\n",
    "\n",
    "### Neste vídeo, vou te mostrar as  ferramentas que vamos utilizar é a baixar  \n",
    "#### para começar a trabalhar com SSIS:\n",
    "#### Nós vamos usar 4 ferramentas\n",
    "#### SQL Server 2022 Developer Edition (SQL2022-SSEI-Dev): A versão completa do SQL Server para desenvolvimento e testes.\n",
    "#### Visual Studio:\n",
    "#### Extensão do SSIS:\n"
   ]
  }
 ],
 "metadata": {
  "language_info": {
   "name": "python"
  }
 },
 "nbformat": 4,
 "nbformat_minor": 2
}
