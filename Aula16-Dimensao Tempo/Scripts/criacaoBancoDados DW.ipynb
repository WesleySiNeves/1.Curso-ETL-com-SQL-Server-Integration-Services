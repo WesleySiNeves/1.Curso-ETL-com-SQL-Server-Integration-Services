{
    "cells": [
        {
            "attachments": {},
            "cell_type": "markdown",
            "metadata": {
                "azdata_cell_guid": "61cdc64d-87ef-420f-8fb6-f1e11f275e04"
            },
            "source": [
                "# Criação da dimensão tempo"
            ]
        },
        {
            "attachments": {},
            "cell_type": "markdown",
            "metadata": {
                "azdata_cell_guid": "3742ada0-dde2-4898-b4be-48abe30e8149"
            },
            "source": [
                "# \n",
                "\n",
                "2. Conectar no banco de dados"
            ]
        },
        {
            "cell_type": "code",
            "execution_count": 2,
            "metadata": {
                "azdata_cell_guid": "b332ca62-ec74-4450-a608-610068703a75",
                "language": "sql"
            },
            "outputs": [
                {
                    "data": {
                        "text/html": [
                            "Commands completed successfully."
                        ]
                    },
                    "metadata": {},
                    "output_type": "display_data"
                },
                {
                    "data": {
                        "text/html": [
                            "Total execution time: 00:00:00.001"
                        ]
                    },
                    "metadata": {},
                    "output_type": "display_data"
                }
            ],
            "source": [
                "Use DWVendas"
            ]
        },
        {
            "cell_type": "code",
            "execution_count": 1,
            "metadata": {
                "azdata_cell_guid": "af06fa40-153a-4402-a38d-bed63196d0d9",
                "language": "sql"
            },
            "outputs": [
                {
                    "data": {
                        "text/html": [
                            "Commands completed successfully."
                        ]
                    },
                    "metadata": {},
                    "output_type": "display_data"
                },
                {
                    "data": {
                        "text/html": [
                            "Total execution time: 00:00:00.117"
                        ]
                    },
                    "metadata": {},
                    "output_type": "display_data"
                }
            ],
            "source": [
                "\n",
                "\n",
                "\n",
                "\n",
                "SET LANGUAGE Portuguese;\n",
                "\n",
                "\n",
                "-- Declaração dos parâmetros de entrada\n",
                "DECLARE @DataInicio DATE = '2020-01-01';\n",
                "DECLARE @DataTermino DATE = '2023-12-31';\n",
                "\n",
                "drop table if exists Dimensao.DimTempo\n",
                "\n",
                "-- Criação da tabela de dimensão de tempo\n",
                "CREATE TABLE Dimensao.DimTempo (\n",
                "    Data DATE NOT NULL ,\n",
                "    Ano INT NOT NULL,\n",
                "    Mes INT NOT NULL,\n",
                "    Dia INT NOT NULL,\n",
                "    NomeMesExtenso VARCHAR(20) NOT NULL,\n",
                "\tNomeMesAbreviado VARCHAR(20) NOT NULL,\n",
                "\tMesAnoExtenso VARCHAR(20) NOT NULL,\n",
                "\tMesAnoAbreviado VARCHAR(20) NOT NULL,\n",
                "    NomeDiaSemana VARCHAR(20) NOT NULL,\n",
                "    NumeroDiaSemana INT NOT NULL,\n",
                "    DiaDoAno INT NOT NULL,\n",
                "    SemanaDoAno INT NOT NULL,\n",
                "    Trimestre INT NOT NULL,\n",
                "\tConstraint PK_DimTempo PRIMARY KEY(Data)\n",
                ");\n",
                "\n",
                "-- Variável para iterar as datas\n",
                "DECLARE @DataAtual DATE = @DataInicio;\n",
                "DECLARE @TempoID INT = 1;\n",
                "\n",
                "-- Loop para popular a tabela DimTempo\n",
                "WHILE @DataAtual <= @DataTermino\n",
                "BEGIN\n",
                "    INSERT INTO Dimensao.DimTempo (\n",
                "        Data,\n",
                "        Ano,\n",
                "        Mes,\n",
                "        Dia,\n",
                "        NomeMesExtenso,\n",
                "\t\tNomeMesAbreviado,\n",
                "\t\tMesAnoExtenso,\n",
                "\t\tMesAnoAbreviado,\n",
                "        NomeDiaSemana,\n",
                "        NumeroDiaSemana,\n",
                "        DiaDoAno,\n",
                "        SemanaDoAno,\n",
                "        Trimestre\n",
                "    )\n",
                "    VALUES (\n",
                "        @DataAtual,\n",
                "        YEAR(@DataAtual),\n",
                "        MONTH(@DataAtual),\n",
                "        DAY(@DataAtual),\n",
                "        DATENAME(MONTH, @DataAtual),\n",
                "\t\tFORMAT(@DataAtual,'MMM','Pt-Br'),\n",
                "\t\tCONCAT(YEAR(@DataAtual),'-',DATENAME(MONTH, @DataAtual)),\n",
                "\t\tCONCAT(YEAR(@DataAtual),'-',FORMAT(@DataAtual,'MMM','Pt-Br')),\n",
                "        DATENAME(WEEKDAY, @DataAtual),\n",
                "        DATEPART(WEEKDAY, @DataAtual),\n",
                "        DATEPART(DAYOFYEAR, @DataAtual),\n",
                "        DATEPART(WEEK, @DataAtual),\n",
                "        DATEPART(QUARTER, @DataAtual)\n",
                "    );\n",
                "\n",
                "    -- Incrementa a data e o TempoID\n",
                "    SET @DataAtual = DATEADD(DAY, 1, @DataAtual);\n",
                "    SET @TempoID = @TempoID + 1;\n",
                "END;\n"
            ]
        },
        {
            "cell_type": "code",
            "execution_count": null,
            "metadata": {},
            "outputs": [],
            "source": []
        },
        {
            "cell_type": "code",
            "execution_count": 2,
            "metadata": {
                "azdata_cell_guid": "cd1d6f94-8de9-4e83-bb64-16b76cd1522d",
                "language": "sql"
            },
            "outputs": [
                {
                    "data": {
                        "text/html": [
                            "Commands completed successfully."
                        ]
                    },
                    "metadata": {},
                    "output_type": "display_data"
                },
                {
                    "data": {
                        "text/html": [
                            "Total execution time: 00:00:00.002"
                        ]
                    },
                    "metadata": {},
                    "output_type": "display_data"
                }
            ],
            "source": [
                "\n",
                "ALTER TABLE [Fato].[Vendas]  WITH CHECK ADD FOREIGN KEY([SK_Cliente])\n",
                "REFERENCES [Dimensao].[D_Clientes] ([SK_Cliente])\n",
                "GO\n"
            ]
        }
    ],
    "metadata": {
        "kernelspec": {
            "display_name": "SQL",
            "language": "sql",
            "name": "SQL"
        },
        "language_info": {
            "name": "sql",
            "version": ""
        }
    },
    "nbformat": 4,
    "nbformat_minor": 2
}
