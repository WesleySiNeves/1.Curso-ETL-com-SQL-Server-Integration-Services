{
 "cells": [
  {
   "cell_type": "code",
   "execution_count": null,
   "metadata": {
    "vscode": {
     "languageId": "sql"
    }
   },
   "outputs": [],
   "source": [
    "USE [DWVendasIncremental]\n",
    "GO\n",
    "\n",
    "CREATE TABLE [dbo].[ProdutosSCD_Tipo1](\n",
    "\t[IdProduto] [int] NOT NULL,\n",
    "\t[Nome] [varchar](50) NULL,\n",
    "\t[Preco] [numeric](10, 2) NULL,\n",
    "\t[IdCategoria] [int] NULL,\n",
    "\t[Estoque] [int] NULL,\n",
    " CONSTRAINT [PK_ProdutosSCD_Tipo1] PRIMARY KEY CLUSTERED \n",
    "(\n",
    "\t[IdProduto] ASC\n",
    ")WITH (PAD_INDEX = OFF, STATISTICS_NORECOMPUTE = OFF, IGNORE_DUP_KEY = OFF, ALLOW_ROW_LOCKS = ON, ALLOW_PAGE_LOCKS = ON, OPTIMIZE_FOR_SEQUENTIAL_KEY = OFF) ON [PRIMARY]\n",
    ") ON [PRIMARY]\n",
    "GO\n",
    "\n",
    "\n"
   ]
  },
  {
   "cell_type": "code",
   "execution_count": null,
   "metadata": {
    "vscode": {
     "languageId": "sql"
    }
   },
   "outputs": [],
   "source": [
    "\n",
    "USE [DWVendasIncremental]\n",
    "GO\n",
    "\n",
    "\n",
    "CREATE TABLE [dbo].[ProdutosSCD_Tipo2](\n",
    "\t[IdHistorico] int not null  identity(1,1),\n",
    "\t[IdProduto] [int] NOT NULL,\n",
    "\t[Nome] [varchar](50) NULL,\n",
    "\t[Preco] [numeric](10, 2) NULL,\n",
    "\t[IdCategoria] [int] NULL,\n",
    "\t[Estoque] [int] NULL,\n",
    "\t[DataInicio] datetime not null,\n",
    "\tDataTermino datetime\n",
    " CONSTRAINT [PK_ProdutosSCD_Tipo2] PRIMARY KEY CLUSTERED \n",
    "(\n",
    "\t[IdHistorico] ASC\n",
    ")WITH (PAD_INDEX = OFF, STATISTICS_NORECOMPUTE = OFF, IGNORE_DUP_KEY = OFF, ALLOW_ROW_LOCKS = ON, ALLOW_PAGE_LOCKS = ON, OPTIMIZE_FOR_SEQUENTIAL_KEY = OFF) ON [PRIMARY]\n",
    ") ON [PRIMARY]\n",
    "GO\n",
    "\n",
    "\n",
    "\n",
    "\n",
    "select * from [dbo].[ProdutosSCD_Tipo2]"
   ]
  },
  {
   "cell_type": "markdown",
   "metadata": {},
   "source": [
    "Depois de configurado   o JOB de Atualizacao Incremental"
   ]
  },
  {
   "cell_type": "code",
   "execution_count": null,
   "metadata": {
    "vscode": {
     "languageId": "sql"
    }
   },
   "outputs": [],
   "source": [
    "\n",
    "  update target \n",
    "  set target.[Nome] = 'Smartphone Alterado',\n",
    "    target.Preco = 100,\n",
    "\t   target.Estoque = 0\n",
    "   FROM [Cadastro].[Produtos] as target\n",
    "  where IdProduto =1\n"
   ]
  },
  {
   "cell_type": "markdown",
   "metadata": {},
   "source": [
    "Segundo Exemplo : Dimensao Historica"
   ]
  },
  {
   "cell_type": "markdown",
   "metadata": {},
   "source": [
    "Depois de Executar o Job "
   ]
  },
  {
   "cell_type": "code",
   "execution_count": null,
   "metadata": {
    "vscode": {
     "languageId": "sql"
    }
   },
   "outputs": [],
   "source": [
    "\n",
    "  update target \n",
    "  set target.[Nome] = 'Smartphone Slow change dimension primeira alteracao',\n",
    "    target.Preco = 200,\n",
    "\t   target.Estoque = 0\n",
    "   FROM [Cadastro].[Produtos] as target\n",
    "  where IdProduto =1"
   ]
  },
  {
   "cell_type": "markdown",
   "metadata": {},
   "source": [
    "## Segunda alteração"
   ]
  },
  {
   "cell_type": "code",
   "execution_count": null,
   "metadata": {
    "vscode": {
     "languageId": "sql"
    }
   },
   "outputs": [],
   "source": [
    "\n",
    "  update target \n",
    "  set target.[Nome] = 'Smartphone Slow change dimension primeira segunda',\n",
    "    target.Preco = 1,\n",
    "\ttarget.Estoque = 1,\n",
    "\ttarget.IdCategoria = 1\n",
    "   FROM [Cadastro].[Produtos] as target\n",
    "  where IdProduto =1"
   ]
  },
  {
   "cell_type": "code",
   "execution_count": null,
   "metadata": {
    "vscode": {
     "languageId": "sql"
    }
   },
   "outputs": [],
   "source": [
    "select Rank = Dense_Rank() over(partition by IdProduto order by DataCriacao desc ), *\n",
    "from dbo.ProdutosHistoricos\n",
    "where IdProduto = 1\n"
   ]
  }
 ],
 "metadata": {
  "language_info": {
   "name": "python"
  }
 },
 "nbformat": 4,
 "nbformat_minor": 2
}
