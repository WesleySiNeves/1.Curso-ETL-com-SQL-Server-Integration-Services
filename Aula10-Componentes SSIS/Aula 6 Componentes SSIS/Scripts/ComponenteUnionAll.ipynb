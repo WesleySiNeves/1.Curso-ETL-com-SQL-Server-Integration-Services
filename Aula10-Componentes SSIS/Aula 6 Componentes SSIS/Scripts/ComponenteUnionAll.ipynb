{
 "cells": [
  {
   "cell_type": "markdown",
   "metadata": {},
   "source": [
    "Objetivo.\n",
    "\n",
    "1. Criar uma automação para recuperar os dados da tabela de funcionários e os dados da tabela de Clientes e unir todos os dados"
   ]
  },
  {
   "cell_type": "code",
   "execution_count": null,
   "metadata": {
    "vscode": {
     "languageId": "sql"
    }
   },
   "outputs": [],
   "source": []
  }
 ],
 "metadata": {
  "language_info": {
   "name": "python"
  }
 },
 "nbformat": 4,
 "nbformat_minor": 2
}
